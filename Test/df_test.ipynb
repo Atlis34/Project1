{
 "cells": [
  {
   "cell_type": "code",
   "execution_count": 1,
   "metadata": {},
   "outputs": [],
   "source": [
    "#import libraries\n",
    "import pandas as pd\n",
    "from pathlib import Path\n",
    "import matplotlib.pyplot as plt"
   ]
  },
  {
   "cell_type": "code",
   "execution_count": 2,
   "metadata": {},
   "outputs": [
    {
     "name": "stdout",
     "output_type": "stream",
     "text": [
      "   Column1 Column2  Column3\n",
      "0        1       A     True\n",
      "1        2       B    False\n",
      "2        3       C     True\n",
      "3        4       D    False\n",
      "4        5       E     True\n"
     ]
    }
   ],
   "source": [
    "# Create a dictionary with column names as keys and column values as values\n",
    "data_one = {\n",
    "    'Column1': [1, 2, 3, 4, 5],\n",
    "    'Column2': ['A', 'B', 'C', 'D', 'E'],\n",
    "    'Column3': [True, False, True, False, True]\n",
    "}\n",
    "\n",
    "# Create the DataFrame using the dictionary\n",
    "test_one_df = pd.DataFrame(data_one)\n",
    "\n",
    "# Display the DataFrame\n",
    "print(test_one_df)"
   ]
  },
  {
   "cell_type": "code",
   "execution_count": 6,
   "metadata": {},
   "outputs": [
    {
     "name": "stdout",
     "output_type": "stream",
     "text": [
      "   Column1 Column2  Column3\n",
      "0        1   Green      365\n",
      "1        2  Orange      117\n",
      "2        3     Red       64\n",
      "3        4   Black      215\n",
      "4        5  Purple       45\n",
      "5        6   White       70\n",
      "6        7    Blue       47\n"
     ]
    }
   ],
   "source": [
    "# Create a dictionary with column names as keys and column values as values\n",
    "data_two = {\n",
    "    'Column1': [1, 2, 3, 4, 5, 6, 7],\n",
    "    'Column2': ['Green', 'Orange', 'Red', 'Black', 'Purple', 'White', 'Blue'],\n",
    "    'Column3': [365, 117, 64, 215, 45, 70, 47]\n",
    "}\n",
    "\n",
    "# Create the DataFrame using the dictionary\n",
    "test_two_df = pd.DataFrame(data_two)\n",
    "\n",
    "# Display the DataFrame\n",
    "print(test_two_df)\n",
    "\n"
   ]
  },
  {
   "cell_type": "code",
   "execution_count": 7,
   "metadata": {},
   "outputs": [
    {
     "data": {
      "text/plain": [
       "(5, 3)"
      ]
     },
     "execution_count": 7,
     "metadata": {},
     "output_type": "execute_result"
    }
   ],
   "source": [
    "test_one_df.shape"
   ]
  },
  {
   "cell_type": "code",
   "execution_count": 8,
   "metadata": {},
   "outputs": [
    {
     "data": {
      "text/plain": [
       "(7, 3)"
      ]
     },
     "execution_count": 8,
     "metadata": {},
     "output_type": "execute_result"
    }
   ],
   "source": [
    "test_two_df.shape"
   ]
  },
  {
   "cell_type": "code",
   "execution_count": 10,
   "metadata": {},
   "outputs": [
    {
     "data": {
      "text/html": [
       "<div>\n",
       "<style scoped>\n",
       "    .dataframe tbody tr th:only-of-type {\n",
       "        vertical-align: middle;\n",
       "    }\n",
       "\n",
       "    .dataframe tbody tr th {\n",
       "        vertical-align: top;\n",
       "    }\n",
       "\n",
       "    .dataframe thead th {\n",
       "        text-align: right;\n",
       "    }\n",
       "</style>\n",
       "<table border=\"1\" class=\"dataframe\">\n",
       "  <thead>\n",
       "    <tr style=\"text-align: right;\">\n",
       "      <th></th>\n",
       "      <th>Column1</th>\n",
       "      <th>Column2_x</th>\n",
       "      <th>Column3_x</th>\n",
       "      <th>Column2_y</th>\n",
       "      <th>Column3_y</th>\n",
       "    </tr>\n",
       "  </thead>\n",
       "  <tbody>\n",
       "    <tr>\n",
       "      <th>0</th>\n",
       "      <td>1</td>\n",
       "      <td>A</td>\n",
       "      <td>True</td>\n",
       "      <td>Green</td>\n",
       "      <td>365</td>\n",
       "    </tr>\n",
       "    <tr>\n",
       "      <th>1</th>\n",
       "      <td>2</td>\n",
       "      <td>B</td>\n",
       "      <td>False</td>\n",
       "      <td>Orange</td>\n",
       "      <td>117</td>\n",
       "    </tr>\n",
       "    <tr>\n",
       "      <th>2</th>\n",
       "      <td>3</td>\n",
       "      <td>C</td>\n",
       "      <td>True</td>\n",
       "      <td>Red</td>\n",
       "      <td>64</td>\n",
       "    </tr>\n",
       "    <tr>\n",
       "      <th>3</th>\n",
       "      <td>4</td>\n",
       "      <td>D</td>\n",
       "      <td>False</td>\n",
       "      <td>Black</td>\n",
       "      <td>215</td>\n",
       "    </tr>\n",
       "    <tr>\n",
       "      <th>4</th>\n",
       "      <td>5</td>\n",
       "      <td>E</td>\n",
       "      <td>True</td>\n",
       "      <td>Purple</td>\n",
       "      <td>45</td>\n",
       "    </tr>\n",
       "  </tbody>\n",
       "</table>\n",
       "</div>"
      ],
      "text/plain": [
       "   Column1 Column2_x  Column3_x Column2_y  Column3_y\n",
       "0        1         A       True     Green        365\n",
       "1        2         B      False    Orange        117\n",
       "2        3         C       True       Red         64\n",
       "3        4         D      False     Black        215\n",
       "4        5         E       True    Purple         45"
      ]
     },
     "execution_count": 10,
     "metadata": {},
     "output_type": "execute_result"
    }
   ],
   "source": [
    "# merge dfs - INNER\n",
    "\n",
    "merged_test_df = pd.merge(test_one_df, test_two_df, on='Column1', how='inner')\n",
    "\n",
    "merged_test_df"
   ]
  },
  {
   "cell_type": "code",
   "execution_count": 12,
   "metadata": {},
   "outputs": [
    {
     "data": {
      "text/html": [
       "<div>\n",
       "<style scoped>\n",
       "    .dataframe tbody tr th:only-of-type {\n",
       "        vertical-align: middle;\n",
       "    }\n",
       "\n",
       "    .dataframe tbody tr th {\n",
       "        vertical-align: top;\n",
       "    }\n",
       "\n",
       "    .dataframe thead th {\n",
       "        text-align: right;\n",
       "    }\n",
       "</style>\n",
       "<table border=\"1\" class=\"dataframe\">\n",
       "  <thead>\n",
       "    <tr style=\"text-align: right;\">\n",
       "      <th></th>\n",
       "      <th>Column1</th>\n",
       "      <th>Column2_x</th>\n",
       "      <th>Column3_x</th>\n",
       "      <th>Column2_y</th>\n",
       "      <th>Column3_y</th>\n",
       "    </tr>\n",
       "  </thead>\n",
       "  <tbody>\n",
       "    <tr>\n",
       "      <th>0</th>\n",
       "      <td>1</td>\n",
       "      <td>A</td>\n",
       "      <td>True</td>\n",
       "      <td>Green</td>\n",
       "      <td>365</td>\n",
       "    </tr>\n",
       "    <tr>\n",
       "      <th>1</th>\n",
       "      <td>2</td>\n",
       "      <td>B</td>\n",
       "      <td>False</td>\n",
       "      <td>Orange</td>\n",
       "      <td>117</td>\n",
       "    </tr>\n",
       "    <tr>\n",
       "      <th>2</th>\n",
       "      <td>3</td>\n",
       "      <td>C</td>\n",
       "      <td>True</td>\n",
       "      <td>Red</td>\n",
       "      <td>64</td>\n",
       "    </tr>\n",
       "    <tr>\n",
       "      <th>3</th>\n",
       "      <td>4</td>\n",
       "      <td>D</td>\n",
       "      <td>False</td>\n",
       "      <td>Black</td>\n",
       "      <td>215</td>\n",
       "    </tr>\n",
       "    <tr>\n",
       "      <th>4</th>\n",
       "      <td>5</td>\n",
       "      <td>E</td>\n",
       "      <td>True</td>\n",
       "      <td>Purple</td>\n",
       "      <td>45</td>\n",
       "    </tr>\n",
       "  </tbody>\n",
       "</table>\n",
       "</div>"
      ],
      "text/plain": [
       "   Column1 Column2_x  Column3_x Column2_y  Column3_y\n",
       "0        1         A       True     Green        365\n",
       "1        2         B      False    Orange        117\n",
       "2        3         C       True       Red         64\n",
       "3        4         D      False     Black        215\n",
       "4        5         E       True    Purple         45"
      ]
     },
     "execution_count": 12,
     "metadata": {},
     "output_type": "execute_result"
    }
   ],
   "source": [
    "merged_test_df = test_one_df.merge(test_two_df, left_on='Column1', right_on='Column1')\n",
    "\n",
    "merged_test_df"
   ]
  }
 ],
 "metadata": {
  "kernelspec": {
   "display_name": "Python 3",
   "language": "python",
   "name": "python3"
  },
  "language_info": {
   "codemirror_mode": {
    "name": "ipython",
    "version": 3
   },
   "file_extension": ".py",
   "mimetype": "text/x-python",
   "name": "python",
   "nbconvert_exporter": "python",
   "pygments_lexer": "ipython3",
   "version": "3.11.5"
  }
 },
 "nbformat": 4,
 "nbformat_minor": 2
}
