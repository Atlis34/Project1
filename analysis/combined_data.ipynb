{
 "cells": [
  {
   "cell_type": "code",
   "execution_count": 3,
   "metadata": {},
   "outputs": [],
   "source": [
    "#import libraries\n",
    "import pandas as pd\n",
    "import os\n",
    "from pathlib import Path\n",
    "import matplotlib.pyplot as plt\n",
    "import scipy as sp\n",
    "import numpy as np\n",
    "from scipy import stats\n"
   ]
  },
  {
   "cell_type": "markdown",
   "metadata": {},
   "source": [
    "Get Deal Data (Sales info) and Prod Data (Production Manufacturing info), rename columns and and merge them together."
   ]
  },
  {
   "cell_type": "code",
   "execution_count": 4,
   "metadata": {},
   "outputs": [],
   "source": [
    "#get data\n",
    "# Read CSV file into a DataFrame\n",
    "deal_df = pd.read_csv('../data_resources/deal_summary_data.csv')\n",
    "prod_df = pd.read_csv('../data_resources/prod_data.csv')\n"
   ]
  },
  {
   "cell_type": "code",
   "execution_count": 5,
   "metadata": {},
   "outputs": [],
   "source": [
    "# Convert 'po_number' column to string data type in both DataFrames\n",
    "deal_df['po_number'] = deal_df['po_number'].astype(str)\n",
    "prod_df['po_number'] = prod_df['po_number'].astype(str)\n",
    "prod_df['COGS PKF Sock domestic SKU Cost'] = prod_df['COGS PKF Sock domestic SKU Cost'].astype(float)\n"
   ]
  },
  {
   "cell_type": "code",
   "execution_count": 6,
   "metadata": {},
   "outputs": [
    {
     "data": {
      "text/plain": [
       "(24055, 19)"
      ]
     },
     "execution_count": 6,
     "metadata": {},
     "output_type": "execute_result"
    }
   ],
   "source": [
    "prod_df.shape"
   ]
  },
  {
   "cell_type": "code",
   "execution_count": 7,
   "metadata": {},
   "outputs": [
    {
     "data": {
      "text/plain": [
       "(24258, 14)"
      ]
     },
     "execution_count": 7,
     "metadata": {},
     "output_type": "execute_result"
    }
   ],
   "source": [
    "deal_df.shape"
   ]
  },
  {
   "cell_type": "code",
   "execution_count": 8,
   "metadata": {},
   "outputs": [
    {
     "data": {
      "text/html": [
       "<div>\n",
       "<style scoped>\n",
       "    .dataframe tbody tr th:only-of-type {\n",
       "        vertical-align: middle;\n",
       "    }\n",
       "\n",
       "    .dataframe tbody tr th {\n",
       "        vertical-align: top;\n",
       "    }\n",
       "\n",
       "    .dataframe thead th {\n",
       "        text-align: right;\n",
       "    }\n",
       "</style>\n",
       "<table border=\"1\" class=\"dataframe\">\n",
       "  <thead>\n",
       "    <tr style=\"text-align: right;\">\n",
       "      <th></th>\n",
       "      <th>po_number</th>\n",
       "      <th>SKU</th>\n",
       "      <th>chassis</th>\n",
       "      <th>total_intl_product_quantity</th>\n",
       "      <th>mfp_product_info</th>\n",
       "      <th>vendor_id</th>\n",
       "      <th>est_ship_date</th>\n",
       "      <th>submitted_to_prod</th>\n",
       "      <th>client_type</th>\n",
       "      <th>deal_type</th>\n",
       "      <th>deal_id</th>\n",
       "      <th>Total SKU DZ on PO</th>\n",
       "      <th>intl_unit_cost</th>\n",
       "      <th>fixed_intl_pkg_cost</th>\n",
       "      <th>total_intl_unit_cost_dont_use</th>\n",
       "      <th>total_intl_sku_cost</th>\n",
       "      <th>total_product_quantity</th>\n",
       "      <th>cost_per_sku</th>\n",
       "      <th>total_sku_cost</th>\n",
       "    </tr>\n",
       "  </thead>\n",
       "  <tbody>\n",
       "    <tr>\n",
       "      <th>0</th>\n",
       "      <td>21936</td>\n",
       "      <td>13.0543182v1</td>\n",
       "      <td>13</td>\n",
       "      <td>NaN</td>\n",
       "      <td>5</td>\n",
       "      <td>3</td>\n",
       "      <td>NaN</td>\n",
       "      <td>10/21/2021</td>\n",
       "      <td>NaN</td>\n",
       "      <td>NaN</td>\n",
       "      <td>NaN</td>\n",
       "      <td>3</td>\n",
       "      <td>NaN</td>\n",
       "      <td>NaN</td>\n",
       "      <td>NaN</td>\n",
       "      <td>NaN</td>\n",
       "      <td>30.0</td>\n",
       "      <td>1.45</td>\n",
       "      <td>69.60</td>\n",
       "    </tr>\n",
       "    <tr>\n",
       "      <th>1</th>\n",
       "      <td>41358</td>\n",
       "      <td>55.02200109v1</td>\n",
       "      <td>55</td>\n",
       "      <td>NaN</td>\n",
       "      <td>114</td>\n",
       "      <td>1</td>\n",
       "      <td>NaN</td>\n",
       "      <td>11/15/2023</td>\n",
       "      <td>NaN</td>\n",
       "      <td>NaN</td>\n",
       "      <td>NaN</td>\n",
       "      <td>2</td>\n",
       "      <td>NaN</td>\n",
       "      <td>NaN</td>\n",
       "      <td>NaN</td>\n",
       "      <td>NaN</td>\n",
       "      <td>19.0</td>\n",
       "      <td>2.56</td>\n",
       "      <td>92.16</td>\n",
       "    </tr>\n",
       "    <tr>\n",
       "      <th>2</th>\n",
       "      <td>35481</td>\n",
       "      <td>10.02145777v1</td>\n",
       "      <td>10</td>\n",
       "      <td>NaN</td>\n",
       "      <td>2</td>\n",
       "      <td>3</td>\n",
       "      <td>NaN</td>\n",
       "      <td>4/11/2023</td>\n",
       "      <td>NaN</td>\n",
       "      <td>NaN</td>\n",
       "      <td>NaN</td>\n",
       "      <td>2</td>\n",
       "      <td>NaN</td>\n",
       "      <td>NaN</td>\n",
       "      <td>NaN</td>\n",
       "      <td>NaN</td>\n",
       "      <td>15.0</td>\n",
       "      <td>2.85</td>\n",
       "      <td>102.60</td>\n",
       "    </tr>\n",
       "    <tr>\n",
       "      <th>3</th>\n",
       "      <td>37268</td>\n",
       "      <td>55.02169096v2</td>\n",
       "      <td>55</td>\n",
       "      <td>NaN</td>\n",
       "      <td>114</td>\n",
       "      <td>3</td>\n",
       "      <td>NaN</td>\n",
       "      <td>6/15/2023</td>\n",
       "      <td>NaN</td>\n",
       "      <td>NaN</td>\n",
       "      <td>NaN</td>\n",
       "      <td>2</td>\n",
       "      <td>NaN</td>\n",
       "      <td>NaN</td>\n",
       "      <td>NaN</td>\n",
       "      <td>NaN</td>\n",
       "      <td>24.0</td>\n",
       "      <td>2.93</td>\n",
       "      <td>105.48</td>\n",
       "    </tr>\n",
       "    <tr>\n",
       "      <th>4</th>\n",
       "      <td>38645</td>\n",
       "      <td>44.02176365v1</td>\n",
       "      <td>44</td>\n",
       "      <td>NaN</td>\n",
       "      <td>21</td>\n",
       "      <td>4</td>\n",
       "      <td>NaN</td>\n",
       "      <td>8/23/2023</td>\n",
       "      <td>NaN</td>\n",
       "      <td>NaN</td>\n",
       "      <td>NaN</td>\n",
       "      <td>2</td>\n",
       "      <td>NaN</td>\n",
       "      <td>NaN</td>\n",
       "      <td>NaN</td>\n",
       "      <td>NaN</td>\n",
       "      <td>20.0</td>\n",
       "      <td>3.00</td>\n",
       "      <td>108.00</td>\n",
       "    </tr>\n",
       "  </tbody>\n",
       "</table>\n",
       "</div>"
      ],
      "text/plain": [
       "  po_number            SKU  chassis  total_intl_product_quantity  \\\n",
       "0     21936   13.0543182v1       13                          NaN   \n",
       "1     41358  55.02200109v1       55                          NaN   \n",
       "2     35481  10.02145777v1       10                          NaN   \n",
       "3     37268  55.02169096v2       55                          NaN   \n",
       "4     38645  44.02176365v1       44                          NaN   \n",
       "\n",
       "   mfp_product_info  vendor_id  est_ship_date submitted_to_prod client_type  \\\n",
       "0                 5          3            NaN        10/21/2021         NaN   \n",
       "1               114          1            NaN        11/15/2023         NaN   \n",
       "2                 2          3            NaN         4/11/2023         NaN   \n",
       "3               114          3            NaN         6/15/2023         NaN   \n",
       "4                21          4            NaN         8/23/2023         NaN   \n",
       "\n",
       "  deal_type  deal_id  Total SKU DZ on PO  intl_unit_cost  fixed_intl_pkg_cost  \\\n",
       "0       NaN      NaN                   3             NaN                  NaN   \n",
       "1       NaN      NaN                   2             NaN                  NaN   \n",
       "2       NaN      NaN                   2             NaN                  NaN   \n",
       "3       NaN      NaN                   2             NaN                  NaN   \n",
       "4       NaN      NaN                   2             NaN                  NaN   \n",
       "\n",
       "   total_intl_unit_cost_dont_use  total_intl_sku_cost  total_product_quantity  \\\n",
       "0                            NaN                  NaN                    30.0   \n",
       "1                            NaN                  NaN                    19.0   \n",
       "2                            NaN                  NaN                    15.0   \n",
       "3                            NaN                  NaN                    24.0   \n",
       "4                            NaN                  NaN                    20.0   \n",
       "\n",
       "   cost_per_sku  total_sku_cost  \n",
       "0          1.45           69.60  \n",
       "1          2.56           92.16  \n",
       "2          2.85          102.60  \n",
       "3          2.93          105.48  \n",
       "4          3.00          108.00  "
      ]
     },
     "execution_count": 8,
     "metadata": {},
     "output_type": "execute_result"
    }
   ],
   "source": [
    "#rename prod columns\n",
    "renamed_prod_df = prod_df.rename(columns={\"mfp_quantity\": \"total_intl_product_quantity\",\n",
    "                                \"Total SKU on PO\": \"total_product_quantity\",\n",
    "                                \"hs_client_type\": \"client_type\",\n",
    "                                \"hs_dealtype\": \"deal_type\",\n",
    "                                \"unit_cost\": \"intl_unit_cost\",\n",
    "                                \"fixed_cost\" :\"fixed_intl_pkg_cost\",\n",
    "                                \"COGS int SKU Cost\" : \"total_intl_unit_cost_dont_use\",\n",
    "                                \"COGS int SKU Cost exact\" : \"total_intl_sku_cost\",\n",
    "                                \"COGS PKF Sock domestic SKU Cost\" : \"total_sku_cost\",\n",
    "                                \"submitted_at\" : \"submitted_to_prod\"\n",
    "                                   })\n",
    "\n",
    "renamed_prod_df.head()"
   ]
  },
  {
   "cell_type": "code",
   "execution_count": 9,
   "metadata": {},
   "outputs": [
    {
     "data": {
      "text/html": [
       "<div>\n",
       "<style scoped>\n",
       "    .dataframe tbody tr th:only-of-type {\n",
       "        vertical-align: middle;\n",
       "    }\n",
       "\n",
       "    .dataframe tbody tr th {\n",
       "        vertical-align: top;\n",
       "    }\n",
       "\n",
       "    .dataframe thead th {\n",
       "        text-align: right;\n",
       "    }\n",
       "</style>\n",
       "<table border=\"1\" class=\"dataframe\">\n",
       "  <thead>\n",
       "    <tr style=\"text-align: right;\">\n",
       "      <th></th>\n",
       "      <th>deal_id</th>\n",
       "      <th>po_number</th>\n",
       "      <th>order_created</th>\n",
       "      <th>total_deal_quantity</th>\n",
       "      <th>amount_in_company_currency</th>\n",
       "      <th>client_type</th>\n",
       "      <th>deal_type</th>\n",
       "      <th>special_order_type</th>\n",
       "      <th>deal_stage</th>\n",
       "      <th>automation_tools</th>\n",
       "      <th>revisions</th>\n",
       "      <th>deal_source_ca</th>\n",
       "      <th>number_of_associated_contacts</th>\n",
       "      <th>design_difficulty</th>\n",
       "    </tr>\n",
       "  </thead>\n",
       "  <tbody>\n",
       "    <tr>\n",
       "      <th>0</th>\n",
       "      <td>3951840051</td>\n",
       "      <td>16733</td>\n",
       "      <td>1/6/2021</td>\n",
       "      <td>54.0</td>\n",
       "      <td>0.00</td>\n",
       "      <td>Direct</td>\n",
       "      <td>Existing Business</td>\n",
       "      <td>NaN</td>\n",
       "      <td>Closed and Won</td>\n",
       "      <td>NaN</td>\n",
       "      <td>NaN</td>\n",
       "      <td>NaN</td>\n",
       "      <td>1</td>\n",
       "      <td>NaN</td>\n",
       "    </tr>\n",
       "    <tr>\n",
       "      <th>1</th>\n",
       "      <td>3937957448</td>\n",
       "      <td>17532</td>\n",
       "      <td>1/4/2021</td>\n",
       "      <td>90.0</td>\n",
       "      <td>945.00</td>\n",
       "      <td>Distributor</td>\n",
       "      <td>Existing Business</td>\n",
       "      <td>NaN</td>\n",
       "      <td>Closed and Won</td>\n",
       "      <td>NaN</td>\n",
       "      <td>NaN</td>\n",
       "      <td>Pre-Hubspot Contact</td>\n",
       "      <td>2</td>\n",
       "      <td>NaN</td>\n",
       "    </tr>\n",
       "    <tr>\n",
       "      <th>2</th>\n",
       "      <td>3938541962</td>\n",
       "      <td>17535</td>\n",
       "      <td>1/4/2021</td>\n",
       "      <td>240.0</td>\n",
       "      <td>4528.98</td>\n",
       "      <td>Direct</td>\n",
       "      <td>Existing Business</td>\n",
       "      <td>NaN</td>\n",
       "      <td>Closed and Won</td>\n",
       "      <td>NaN</td>\n",
       "      <td>NaN</td>\n",
       "      <td>NaN</td>\n",
       "      <td>1</td>\n",
       "      <td>NaN</td>\n",
       "    </tr>\n",
       "    <tr>\n",
       "      <th>3</th>\n",
       "      <td>3943305218</td>\n",
       "      <td>17540</td>\n",
       "      <td>1/5/2021</td>\n",
       "      <td>3156.0</td>\n",
       "      <td>NaN</td>\n",
       "      <td>NaN</td>\n",
       "      <td>Existing Business</td>\n",
       "      <td>NaN</td>\n",
       "      <td>Closed and Won</td>\n",
       "      <td>NaN</td>\n",
       "      <td>NaN</td>\n",
       "      <td>NaN</td>\n",
       "      <td>0</td>\n",
       "      <td>NaN</td>\n",
       "    </tr>\n",
       "    <tr>\n",
       "      <th>4</th>\n",
       "      <td>3943391716</td>\n",
       "      <td>17541</td>\n",
       "      <td>1/5/2021</td>\n",
       "      <td>1080.0</td>\n",
       "      <td>NaN</td>\n",
       "      <td>NaN</td>\n",
       "      <td>Existing Business</td>\n",
       "      <td>NaN</td>\n",
       "      <td>Closed and Won</td>\n",
       "      <td>NaN</td>\n",
       "      <td>NaN</td>\n",
       "      <td>NaN</td>\n",
       "      <td>0</td>\n",
       "      <td>NaN</td>\n",
       "    </tr>\n",
       "  </tbody>\n",
       "</table>\n",
       "</div>"
      ],
      "text/plain": [
       "      deal_id po_number order_created  total_deal_quantity  \\\n",
       "0  3951840051     16733      1/6/2021                 54.0   \n",
       "1  3937957448     17532      1/4/2021                 90.0   \n",
       "2  3938541962     17535      1/4/2021                240.0   \n",
       "3  3943305218     17540      1/5/2021               3156.0   \n",
       "4  3943391716     17541      1/5/2021               1080.0   \n",
       "\n",
       "   amount_in_company_currency  client_type          deal_type  \\\n",
       "0                        0.00       Direct  Existing Business   \n",
       "1                      945.00  Distributor  Existing Business   \n",
       "2                     4528.98       Direct  Existing Business   \n",
       "3                         NaN          NaN  Existing Business   \n",
       "4                         NaN          NaN  Existing Business   \n",
       "\n",
       "  special_order_type      deal_stage automation_tools revisions  \\\n",
       "0                NaN  Closed and Won              NaN       NaN   \n",
       "1                NaN  Closed and Won              NaN       NaN   \n",
       "2                NaN  Closed and Won              NaN       NaN   \n",
       "3                NaN  Closed and Won              NaN       NaN   \n",
       "4                NaN  Closed and Won              NaN       NaN   \n",
       "\n",
       "        deal_source_ca  number_of_associated_contacts design_difficulty  \n",
       "0                  NaN                              1               NaN  \n",
       "1  Pre-Hubspot Contact                              2               NaN  \n",
       "2                  NaN                              1               NaN  \n",
       "3                  NaN                              0               NaN  \n",
       "4                  NaN                              0               NaN  "
      ]
     },
     "execution_count": 9,
     "metadata": {},
     "output_type": "execute_result"
    }
   ],
   "source": [
    "# rename deal_df columns\n",
    "renamed_deal_df = deal_df.rename(columns={\"Create Date - Daily\": \"order_created\",\n",
    "                                \"Quantity\": \"total_deal_quantity\",\n",
    "                                \"Deal Stage\": \"deal_stage\",\n",
    "                                \"Deal Type\": \"deal_type\",\n",
    "                                \"Design Difficulty\": \"design_difficulty\",\n",
    "                                \"Revisions\": \"revisions\",\n",
    "                                \"Automation Tools\": \"automation_tools\",\n",
    "                                \"Deal Source CA\": \"deal_source_ca\",\n",
    "                                \"Number of Associated Contacts\": \"number_of_associated_contacts\",\n",
    "                                \"Special Order Type\": \"special_order_type\",\n",
    "                                \"Deal Source CA\": \"deal_source_ca\",\n",
    "                                \"Client Type\": \"client_type\",\n",
    "                                \"Amount in company currency\": \"amount_in_company_currency\"})\n",
    "renamed_deal_df.head()\n"
   ]
  },
  {
   "cell_type": "code",
   "execution_count": 10,
   "metadata": {},
   "outputs": [
    {
     "data": {
      "text/html": [
       "<div>\n",
       "<style scoped>\n",
       "    .dataframe tbody tr th:only-of-type {\n",
       "        vertical-align: middle;\n",
       "    }\n",
       "\n",
       "    .dataframe tbody tr th {\n",
       "        vertical-align: top;\n",
       "    }\n",
       "\n",
       "    .dataframe thead th {\n",
       "        text-align: right;\n",
       "    }\n",
       "</style>\n",
       "<table border=\"1\" class=\"dataframe\">\n",
       "  <thead>\n",
       "    <tr style=\"text-align: right;\">\n",
       "      <th></th>\n",
       "      <th>deal_id_x</th>\n",
       "      <th>po_number</th>\n",
       "      <th>order_created</th>\n",
       "      <th>total_deal_quantity</th>\n",
       "      <th>amount_in_company_currency</th>\n",
       "      <th>client_type_x</th>\n",
       "      <th>deal_type_x</th>\n",
       "      <th>special_order_type</th>\n",
       "      <th>deal_stage</th>\n",
       "      <th>automation_tools</th>\n",
       "      <th>...</th>\n",
       "      <th>deal_type_y</th>\n",
       "      <th>deal_id_y</th>\n",
       "      <th>Total SKU DZ on PO</th>\n",
       "      <th>intl_unit_cost</th>\n",
       "      <th>fixed_intl_pkg_cost</th>\n",
       "      <th>total_intl_unit_cost_dont_use</th>\n",
       "      <th>total_intl_sku_cost</th>\n",
       "      <th>total_product_quantity</th>\n",
       "      <th>cost_per_sku</th>\n",
       "      <th>total_sku_cost</th>\n",
       "    </tr>\n",
       "  </thead>\n",
       "  <tbody>\n",
       "    <tr>\n",
       "      <th>0</th>\n",
       "      <td>3951840051</td>\n",
       "      <td>16733</td>\n",
       "      <td>1/6/2021</td>\n",
       "      <td>54.0</td>\n",
       "      <td>0.00</td>\n",
       "      <td>Direct</td>\n",
       "      <td>Existing Business</td>\n",
       "      <td>NaN</td>\n",
       "      <td>Closed and Won</td>\n",
       "      <td>NaN</td>\n",
       "      <td>...</td>\n",
       "      <td>NaN</td>\n",
       "      <td>NaN</td>\n",
       "      <td>NaN</td>\n",
       "      <td>NaN</td>\n",
       "      <td>NaN</td>\n",
       "      <td>NaN</td>\n",
       "      <td>NaN</td>\n",
       "      <td>NaN</td>\n",
       "      <td>NaN</td>\n",
       "      <td>NaN</td>\n",
       "    </tr>\n",
       "    <tr>\n",
       "      <th>1</th>\n",
       "      <td>3937957448</td>\n",
       "      <td>17532</td>\n",
       "      <td>1/4/2021</td>\n",
       "      <td>90.0</td>\n",
       "      <td>945.00</td>\n",
       "      <td>Distributor</td>\n",
       "      <td>Existing Business</td>\n",
       "      <td>NaN</td>\n",
       "      <td>Closed and Won</td>\n",
       "      <td>NaN</td>\n",
       "      <td>...</td>\n",
       "      <td>NaN</td>\n",
       "      <td>NaN</td>\n",
       "      <td>NaN</td>\n",
       "      <td>NaN</td>\n",
       "      <td>NaN</td>\n",
       "      <td>NaN</td>\n",
       "      <td>NaN</td>\n",
       "      <td>NaN</td>\n",
       "      <td>NaN</td>\n",
       "      <td>NaN</td>\n",
       "    </tr>\n",
       "    <tr>\n",
       "      <th>2</th>\n",
       "      <td>3938541962</td>\n",
       "      <td>17535</td>\n",
       "      <td>1/4/2021</td>\n",
       "      <td>240.0</td>\n",
       "      <td>4528.98</td>\n",
       "      <td>Direct</td>\n",
       "      <td>Existing Business</td>\n",
       "      <td>NaN</td>\n",
       "      <td>Closed and Won</td>\n",
       "      <td>NaN</td>\n",
       "      <td>...</td>\n",
       "      <td>NaN</td>\n",
       "      <td>NaN</td>\n",
       "      <td>NaN</td>\n",
       "      <td>NaN</td>\n",
       "      <td>NaN</td>\n",
       "      <td>NaN</td>\n",
       "      <td>NaN</td>\n",
       "      <td>NaN</td>\n",
       "      <td>NaN</td>\n",
       "      <td>NaN</td>\n",
       "    </tr>\n",
       "    <tr>\n",
       "      <th>3</th>\n",
       "      <td>3943305218</td>\n",
       "      <td>17540</td>\n",
       "      <td>1/5/2021</td>\n",
       "      <td>3156.0</td>\n",
       "      <td>NaN</td>\n",
       "      <td>NaN</td>\n",
       "      <td>Existing Business</td>\n",
       "      <td>NaN</td>\n",
       "      <td>Closed and Won</td>\n",
       "      <td>NaN</td>\n",
       "      <td>...</td>\n",
       "      <td>NaN</td>\n",
       "      <td>NaN</td>\n",
       "      <td>NaN</td>\n",
       "      <td>NaN</td>\n",
       "      <td>NaN</td>\n",
       "      <td>NaN</td>\n",
       "      <td>NaN</td>\n",
       "      <td>NaN</td>\n",
       "      <td>NaN</td>\n",
       "      <td>NaN</td>\n",
       "    </tr>\n",
       "    <tr>\n",
       "      <th>4</th>\n",
       "      <td>3943391716</td>\n",
       "      <td>17541</td>\n",
       "      <td>1/5/2021</td>\n",
       "      <td>1080.0</td>\n",
       "      <td>NaN</td>\n",
       "      <td>NaN</td>\n",
       "      <td>Existing Business</td>\n",
       "      <td>NaN</td>\n",
       "      <td>Closed and Won</td>\n",
       "      <td>NaN</td>\n",
       "      <td>...</td>\n",
       "      <td>NaN</td>\n",
       "      <td>NaN</td>\n",
       "      <td>NaN</td>\n",
       "      <td>NaN</td>\n",
       "      <td>NaN</td>\n",
       "      <td>NaN</td>\n",
       "      <td>NaN</td>\n",
       "      <td>NaN</td>\n",
       "      <td>NaN</td>\n",
       "      <td>NaN</td>\n",
       "    </tr>\n",
       "  </tbody>\n",
       "</table>\n",
       "<p>5 rows × 32 columns</p>\n",
       "</div>"
      ],
      "text/plain": [
       "    deal_id_x po_number order_created  total_deal_quantity  \\\n",
       "0  3951840051     16733      1/6/2021                 54.0   \n",
       "1  3937957448     17532      1/4/2021                 90.0   \n",
       "2  3938541962     17535      1/4/2021                240.0   \n",
       "3  3943305218     17540      1/5/2021               3156.0   \n",
       "4  3943391716     17541      1/5/2021               1080.0   \n",
       "\n",
       "   amount_in_company_currency client_type_x        deal_type_x  \\\n",
       "0                        0.00        Direct  Existing Business   \n",
       "1                      945.00   Distributor  Existing Business   \n",
       "2                     4528.98        Direct  Existing Business   \n",
       "3                         NaN           NaN  Existing Business   \n",
       "4                         NaN           NaN  Existing Business   \n",
       "\n",
       "  special_order_type      deal_stage automation_tools  ... deal_type_y  \\\n",
       "0                NaN  Closed and Won              NaN  ...         NaN   \n",
       "1                NaN  Closed and Won              NaN  ...         NaN   \n",
       "2                NaN  Closed and Won              NaN  ...         NaN   \n",
       "3                NaN  Closed and Won              NaN  ...         NaN   \n",
       "4                NaN  Closed and Won              NaN  ...         NaN   \n",
       "\n",
       "  deal_id_y  Total SKU DZ on PO intl_unit_cost fixed_intl_pkg_cost  \\\n",
       "0       NaN                 NaN            NaN                 NaN   \n",
       "1       NaN                 NaN            NaN                 NaN   \n",
       "2       NaN                 NaN            NaN                 NaN   \n",
       "3       NaN                 NaN            NaN                 NaN   \n",
       "4       NaN                 NaN            NaN                 NaN   \n",
       "\n",
       "   total_intl_unit_cost_dont_use  total_intl_sku_cost  total_product_quantity  \\\n",
       "0                            NaN                  NaN                     NaN   \n",
       "1                            NaN                  NaN                     NaN   \n",
       "2                            NaN                  NaN                     NaN   \n",
       "3                            NaN                  NaN                     NaN   \n",
       "4                            NaN                  NaN                     NaN   \n",
       "\n",
       "   cost_per_sku  total_sku_cost  \n",
       "0           NaN             NaN  \n",
       "1           NaN             NaN  \n",
       "2           NaN             NaN  \n",
       "3           NaN             NaN  \n",
       "4           NaN             NaN  \n",
       "\n",
       "[5 rows x 32 columns]"
      ]
     },
     "execution_count": 10,
     "metadata": {},
     "output_type": "execute_result"
    }
   ],
   "source": [
    "#merge csv files\n",
    "\n",
    "# Merge the DataFrames based on the 'po_number' column\n",
    "# Now, you can perform the merge operation\n",
    "deal_prod_merge_df = pd.merge(renamed_deal_df, renamed_prod_df, on='po_number', how=\"left\")\n",
    "deal_prod_merge_df.head()\n",
    "\n"
   ]
  },
  {
   "cell_type": "code",
   "execution_count": 11,
   "metadata": {},
   "outputs": [],
   "source": [
    "# Save the merged DataFrame as a new CSV file\n",
    "deal_prod_merge_df.to_csv('renamed_merged_data.csv', index=False)"
   ]
  },
  {
   "cell_type": "markdown",
   "metadata": {},
   "source": [
    "Filter the data to only include 2022 and 2023 deal and prod data. Use the date column the order was submitted to be produced \"submitted to prod\" "
   ]
  },
  {
   "cell_type": "code",
   "execution_count": 12,
   "metadata": {},
   "outputs": [
    {
     "data": {
      "text/html": [
       "<div>\n",
       "<style scoped>\n",
       "    .dataframe tbody tr th:only-of-type {\n",
       "        vertical-align: middle;\n",
       "    }\n",
       "\n",
       "    .dataframe tbody tr th {\n",
       "        vertical-align: top;\n",
       "    }\n",
       "\n",
       "    .dataframe thead th {\n",
       "        text-align: right;\n",
       "    }\n",
       "</style>\n",
       "<table border=\"1\" class=\"dataframe\">\n",
       "  <thead>\n",
       "    <tr style=\"text-align: right;\">\n",
       "      <th></th>\n",
       "      <th>deal_id_x</th>\n",
       "      <th>po_number</th>\n",
       "      <th>order_created</th>\n",
       "      <th>total_deal_quantity</th>\n",
       "      <th>amount_in_company_currency</th>\n",
       "      <th>client_type_x</th>\n",
       "      <th>deal_type_x</th>\n",
       "      <th>special_order_type</th>\n",
       "      <th>deal_stage</th>\n",
       "      <th>automation_tools</th>\n",
       "      <th>...</th>\n",
       "      <th>deal_type_y</th>\n",
       "      <th>deal_id_y</th>\n",
       "      <th>Total SKU DZ on PO</th>\n",
       "      <th>intl_unit_cost</th>\n",
       "      <th>fixed_intl_pkg_cost</th>\n",
       "      <th>total_intl_unit_cost_dont_use</th>\n",
       "      <th>total_intl_sku_cost</th>\n",
       "      <th>total_product_quantity</th>\n",
       "      <th>cost_per_sku</th>\n",
       "      <th>total_sku_cost</th>\n",
       "    </tr>\n",
       "  </thead>\n",
       "  <tbody>\n",
       "    <tr>\n",
       "      <th>3651</th>\n",
       "      <td>6324219821</td>\n",
       "      <td>21408</td>\n",
       "      <td>9/28/2021</td>\n",
       "      <td>60.0</td>\n",
       "      <td>832.2</td>\n",
       "      <td>Direct</td>\n",
       "      <td>Existing Business</td>\n",
       "      <td>NaN</td>\n",
       "      <td>Closed and Won</td>\n",
       "      <td>Reorder Button</td>\n",
       "      <td>...</td>\n",
       "      <td>NaN</td>\n",
       "      <td>NaN</td>\n",
       "      <td>5.0</td>\n",
       "      <td>NaN</td>\n",
       "      <td>NaN</td>\n",
       "      <td>NaN</td>\n",
       "      <td>NaN</td>\n",
       "      <td>60.0</td>\n",
       "      <td>2.56</td>\n",
       "      <td>184.32</td>\n",
       "    </tr>\n",
       "    <tr>\n",
       "      <th>3802</th>\n",
       "      <td>6312709524</td>\n",
       "      <td>21546</td>\n",
       "      <td>9/27/2021</td>\n",
       "      <td>60.0</td>\n",
       "      <td>630.0</td>\n",
       "      <td>Distributor</td>\n",
       "      <td>Existing Business</td>\n",
       "      <td>NaN</td>\n",
       "      <td>Closed and Won</td>\n",
       "      <td>NaN</td>\n",
       "      <td>...</td>\n",
       "      <td>NaN</td>\n",
       "      <td>NaN</td>\n",
       "      <td>5.0</td>\n",
       "      <td>NaN</td>\n",
       "      <td>NaN</td>\n",
       "      <td>NaN</td>\n",
       "      <td>NaN</td>\n",
       "      <td>60.0</td>\n",
       "      <td>2.56</td>\n",
       "      <td>184.32</td>\n",
       "    </tr>\n",
       "    <tr>\n",
       "      <th>5527</th>\n",
       "      <td>6954332007</td>\n",
       "      <td>23021</td>\n",
       "      <td>11/18/2021</td>\n",
       "      <td>1000.0</td>\n",
       "      <td>6460.0</td>\n",
       "      <td>Distributor</td>\n",
       "      <td>Existing Business</td>\n",
       "      <td>NaN</td>\n",
       "      <td>Closed and Won</td>\n",
       "      <td>NaN</td>\n",
       "      <td>...</td>\n",
       "      <td>NaN</td>\n",
       "      <td>NaN</td>\n",
       "      <td>34.0</td>\n",
       "      <td>NaN</td>\n",
       "      <td>NaN</td>\n",
       "      <td>NaN</td>\n",
       "      <td>NaN</td>\n",
       "      <td>400.0</td>\n",
       "      <td>1.96</td>\n",
       "      <td>823.20</td>\n",
       "    </tr>\n",
       "    <tr>\n",
       "      <th>5528</th>\n",
       "      <td>6954332007</td>\n",
       "      <td>23021</td>\n",
       "      <td>11/18/2021</td>\n",
       "      <td>1000.0</td>\n",
       "      <td>6460.0</td>\n",
       "      <td>Distributor</td>\n",
       "      <td>Existing Business</td>\n",
       "      <td>NaN</td>\n",
       "      <td>Closed and Won</td>\n",
       "      <td>NaN</td>\n",
       "      <td>...</td>\n",
       "      <td>NaN</td>\n",
       "      <td>NaN</td>\n",
       "      <td>50.0</td>\n",
       "      <td>NaN</td>\n",
       "      <td>NaN</td>\n",
       "      <td>NaN</td>\n",
       "      <td>NaN</td>\n",
       "      <td>600.0</td>\n",
       "      <td>1.88</td>\n",
       "      <td>1150.56</td>\n",
       "    </tr>\n",
       "    <tr>\n",
       "      <th>5612</th>\n",
       "      <td>7049269626</td>\n",
       "      <td>23099</td>\n",
       "      <td>11/30/2021</td>\n",
       "      <td>60.0</td>\n",
       "      <td>540.0</td>\n",
       "      <td>Distributor</td>\n",
       "      <td>Existing Business</td>\n",
       "      <td>NaN</td>\n",
       "      <td>Closed and Won</td>\n",
       "      <td>NaN</td>\n",
       "      <td>...</td>\n",
       "      <td>NaN</td>\n",
       "      <td>NaN</td>\n",
       "      <td>5.0</td>\n",
       "      <td>NaN</td>\n",
       "      <td>NaN</td>\n",
       "      <td>NaN</td>\n",
       "      <td>NaN</td>\n",
       "      <td>60.0</td>\n",
       "      <td>2.56</td>\n",
       "      <td>184.32</td>\n",
       "    </tr>\n",
       "  </tbody>\n",
       "</table>\n",
       "<p>5 rows × 32 columns</p>\n",
       "</div>"
      ],
      "text/plain": [
       "       deal_id_x po_number order_created  total_deal_quantity  \\\n",
       "3651  6324219821     21408     9/28/2021                 60.0   \n",
       "3802  6312709524     21546     9/27/2021                 60.0   \n",
       "5527  6954332007     23021    11/18/2021               1000.0   \n",
       "5528  6954332007     23021    11/18/2021               1000.0   \n",
       "5612  7049269626     23099    11/30/2021                 60.0   \n",
       "\n",
       "      amount_in_company_currency client_type_x        deal_type_x  \\\n",
       "3651                       832.2        Direct  Existing Business   \n",
       "3802                       630.0   Distributor  Existing Business   \n",
       "5527                      6460.0   Distributor  Existing Business   \n",
       "5528                      6460.0   Distributor  Existing Business   \n",
       "5612                       540.0   Distributor  Existing Business   \n",
       "\n",
       "     special_order_type      deal_stage automation_tools  ... deal_type_y  \\\n",
       "3651                NaN  Closed and Won   Reorder Button  ...         NaN   \n",
       "3802                NaN  Closed and Won              NaN  ...         NaN   \n",
       "5527                NaN  Closed and Won              NaN  ...         NaN   \n",
       "5528                NaN  Closed and Won              NaN  ...         NaN   \n",
       "5612                NaN  Closed and Won              NaN  ...         NaN   \n",
       "\n",
       "     deal_id_y  Total SKU DZ on PO intl_unit_cost fixed_intl_pkg_cost  \\\n",
       "3651       NaN                 5.0            NaN                 NaN   \n",
       "3802       NaN                 5.0            NaN                 NaN   \n",
       "5527       NaN                34.0            NaN                 NaN   \n",
       "5528       NaN                50.0            NaN                 NaN   \n",
       "5612       NaN                 5.0            NaN                 NaN   \n",
       "\n",
       "      total_intl_unit_cost_dont_use  total_intl_sku_cost  \\\n",
       "3651                            NaN                  NaN   \n",
       "3802                            NaN                  NaN   \n",
       "5527                            NaN                  NaN   \n",
       "5528                            NaN                  NaN   \n",
       "5612                            NaN                  NaN   \n",
       "\n",
       "      total_product_quantity  cost_per_sku  total_sku_cost  \n",
       "3651                    60.0          2.56          184.32  \n",
       "3802                    60.0          2.56          184.32  \n",
       "5527                   400.0          1.96          823.20  \n",
       "5528                   600.0          1.88         1150.56  \n",
       "5612                    60.0          2.56          184.32  \n",
       "\n",
       "[5 rows x 32 columns]"
      ]
     },
     "execution_count": 12,
     "metadata": {},
     "output_type": "execute_result"
    }
   ],
   "source": [
    "# Convert the 'submitted_to_prod' column to datetime if it's not already\n",
    "deal_prod_merge_df['submitted_to_prod'] = pd.to_datetime(deal_prod_merge_df['submitted_to_prod'])\n",
    "\n",
    "# Filter the DataFrame to include only dates in 2022 and 2023\n",
    "deal_prod_merge_22_23_df = deal_prod_merge_df[deal_prod_merge_df['submitted_to_prod'].dt.year.isin([2022, 2023])]\n",
    "\n",
    "deal_prod_merge_22_23_df.head()\n"
   ]
  },
  {
   "cell_type": "code",
   "execution_count": 13,
   "metadata": {},
   "outputs": [
    {
     "data": {
      "text/html": [
       "<div>\n",
       "<style scoped>\n",
       "    .dataframe tbody tr th:only-of-type {\n",
       "        vertical-align: middle;\n",
       "    }\n",
       "\n",
       "    .dataframe tbody tr th {\n",
       "        vertical-align: top;\n",
       "    }\n",
       "\n",
       "    .dataframe thead th {\n",
       "        text-align: right;\n",
       "    }\n",
       "</style>\n",
       "<table border=\"1\" class=\"dataframe\">\n",
       "  <thead>\n",
       "    <tr style=\"text-align: right;\">\n",
       "      <th></th>\n",
       "      <th>deal_id_x</th>\n",
       "      <th>po_number</th>\n",
       "      <th>order_created</th>\n",
       "      <th>total_deal_quantity</th>\n",
       "      <th>amount_in_company_currency</th>\n",
       "      <th>client_type_x</th>\n",
       "      <th>deal_type_x</th>\n",
       "      <th>special_order_type</th>\n",
       "      <th>deal_stage</th>\n",
       "      <th>automation_tools</th>\n",
       "      <th>...</th>\n",
       "      <th>deal_type_y</th>\n",
       "      <th>deal_id_y</th>\n",
       "      <th>Total SKU DZ on PO</th>\n",
       "      <th>intl_unit_cost</th>\n",
       "      <th>fixed_intl_pkg_cost</th>\n",
       "      <th>total_intl_unit_cost_dont_use</th>\n",
       "      <th>total_intl_sku_cost</th>\n",
       "      <th>total_product_quantity</th>\n",
       "      <th>cost_per_sku</th>\n",
       "      <th>total_sku_cost</th>\n",
       "    </tr>\n",
       "  </thead>\n",
       "  <tbody>\n",
       "    <tr>\n",
       "      <th>3651</th>\n",
       "      <td>6324219821</td>\n",
       "      <td>21408</td>\n",
       "      <td>9/28/2021</td>\n",
       "      <td>60.0</td>\n",
       "      <td>832.20</td>\n",
       "      <td>Direct</td>\n",
       "      <td>Existing Business</td>\n",
       "      <td>NaN</td>\n",
       "      <td>Closed and Won</td>\n",
       "      <td>Reorder Button</td>\n",
       "      <td>...</td>\n",
       "      <td>NaN</td>\n",
       "      <td>NaN</td>\n",
       "      <td>5.0</td>\n",
       "      <td>NaN</td>\n",
       "      <td>NaN</td>\n",
       "      <td>NaN</td>\n",
       "      <td>NaN</td>\n",
       "      <td>60.0</td>\n",
       "      <td>2.56</td>\n",
       "      <td>184.32</td>\n",
       "    </tr>\n",
       "    <tr>\n",
       "      <th>3802</th>\n",
       "      <td>6312709524</td>\n",
       "      <td>21546</td>\n",
       "      <td>9/27/2021</td>\n",
       "      <td>60.0</td>\n",
       "      <td>630.00</td>\n",
       "      <td>Distributor</td>\n",
       "      <td>Existing Business</td>\n",
       "      <td>NaN</td>\n",
       "      <td>Closed and Won</td>\n",
       "      <td>NaN</td>\n",
       "      <td>...</td>\n",
       "      <td>NaN</td>\n",
       "      <td>NaN</td>\n",
       "      <td>5.0</td>\n",
       "      <td>NaN</td>\n",
       "      <td>NaN</td>\n",
       "      <td>NaN</td>\n",
       "      <td>NaN</td>\n",
       "      <td>60.0</td>\n",
       "      <td>2.56</td>\n",
       "      <td>184.32</td>\n",
       "    </tr>\n",
       "    <tr>\n",
       "      <th>5527</th>\n",
       "      <td>6954332007</td>\n",
       "      <td>23021</td>\n",
       "      <td>11/18/2021</td>\n",
       "      <td>1000.0</td>\n",
       "      <td>6460.00</td>\n",
       "      <td>Distributor</td>\n",
       "      <td>Existing Business</td>\n",
       "      <td>NaN</td>\n",
       "      <td>Closed and Won</td>\n",
       "      <td>NaN</td>\n",
       "      <td>...</td>\n",
       "      <td>NaN</td>\n",
       "      <td>NaN</td>\n",
       "      <td>34.0</td>\n",
       "      <td>NaN</td>\n",
       "      <td>NaN</td>\n",
       "      <td>NaN</td>\n",
       "      <td>NaN</td>\n",
       "      <td>400.0</td>\n",
       "      <td>1.96</td>\n",
       "      <td>823.20</td>\n",
       "    </tr>\n",
       "    <tr>\n",
       "      <th>5528</th>\n",
       "      <td>6954332007</td>\n",
       "      <td>23021</td>\n",
       "      <td>11/18/2021</td>\n",
       "      <td>1000.0</td>\n",
       "      <td>6460.00</td>\n",
       "      <td>Distributor</td>\n",
       "      <td>Existing Business</td>\n",
       "      <td>NaN</td>\n",
       "      <td>Closed and Won</td>\n",
       "      <td>NaN</td>\n",
       "      <td>...</td>\n",
       "      <td>NaN</td>\n",
       "      <td>NaN</td>\n",
       "      <td>50.0</td>\n",
       "      <td>NaN</td>\n",
       "      <td>NaN</td>\n",
       "      <td>NaN</td>\n",
       "      <td>NaN</td>\n",
       "      <td>600.0</td>\n",
       "      <td>1.88</td>\n",
       "      <td>1150.56</td>\n",
       "    </tr>\n",
       "    <tr>\n",
       "      <th>5612</th>\n",
       "      <td>7049269626</td>\n",
       "      <td>23099</td>\n",
       "      <td>11/30/2021</td>\n",
       "      <td>60.0</td>\n",
       "      <td>540.00</td>\n",
       "      <td>Distributor</td>\n",
       "      <td>Existing Business</td>\n",
       "      <td>NaN</td>\n",
       "      <td>Closed and Won</td>\n",
       "      <td>NaN</td>\n",
       "      <td>...</td>\n",
       "      <td>NaN</td>\n",
       "      <td>NaN</td>\n",
       "      <td>5.0</td>\n",
       "      <td>NaN</td>\n",
       "      <td>NaN</td>\n",
       "      <td>NaN</td>\n",
       "      <td>NaN</td>\n",
       "      <td>60.0</td>\n",
       "      <td>2.56</td>\n",
       "      <td>184.32</td>\n",
       "    </tr>\n",
       "    <tr>\n",
       "      <th>...</th>\n",
       "      <td>...</td>\n",
       "      <td>...</td>\n",
       "      <td>...</td>\n",
       "      <td>...</td>\n",
       "      <td>...</td>\n",
       "      <td>...</td>\n",
       "      <td>...</td>\n",
       "      <td>...</td>\n",
       "      <td>...</td>\n",
       "      <td>...</td>\n",
       "      <td>...</td>\n",
       "      <td>...</td>\n",
       "      <td>...</td>\n",
       "      <td>...</td>\n",
       "      <td>...</td>\n",
       "      <td>...</td>\n",
       "      <td>...</td>\n",
       "      <td>...</td>\n",
       "      <td>...</td>\n",
       "      <td>...</td>\n",
       "      <td>...</td>\n",
       "    </tr>\n",
       "    <tr>\n",
       "      <th>28064</th>\n",
       "      <td>16327565462</td>\n",
       "      <td>42961</td>\n",
       "      <td>12/1/2023</td>\n",
       "      <td>250.0</td>\n",
       "      <td>2015.00</td>\n",
       "      <td>Distributor</td>\n",
       "      <td>Existing Business</td>\n",
       "      <td>NaN</td>\n",
       "      <td>Payment Pending</td>\n",
       "      <td>NaN</td>\n",
       "      <td>...</td>\n",
       "      <td>NaN</td>\n",
       "      <td>NaN</td>\n",
       "      <td>21.0</td>\n",
       "      <td>NaN</td>\n",
       "      <td>NaN</td>\n",
       "      <td>NaN</td>\n",
       "      <td>NaN</td>\n",
       "      <td>250.0</td>\n",
       "      <td>1.96</td>\n",
       "      <td>517.44</td>\n",
       "    </tr>\n",
       "    <tr>\n",
       "      <th>28069</th>\n",
       "      <td>16746039960</td>\n",
       "      <td>42973</td>\n",
       "      <td>12/31/2023</td>\n",
       "      <td>360.0</td>\n",
       "      <td>3877.20</td>\n",
       "      <td>Direct</td>\n",
       "      <td>Existing Business</td>\n",
       "      <td>NaN</td>\n",
       "      <td>Closed and Won</td>\n",
       "      <td>Portal Order</td>\n",
       "      <td>...</td>\n",
       "      <td>NaN</td>\n",
       "      <td>NaN</td>\n",
       "      <td>30.0</td>\n",
       "      <td>NaN</td>\n",
       "      <td>NaN</td>\n",
       "      <td>NaN</td>\n",
       "      <td>NaN</td>\n",
       "      <td>360.0</td>\n",
       "      <td>1.96</td>\n",
       "      <td>729.12</td>\n",
       "    </tr>\n",
       "    <tr>\n",
       "      <th>28701</th>\n",
       "      <td>10188108889</td>\n",
       "      <td>99999</td>\n",
       "      <td>9/14/2022</td>\n",
       "      <td>60.0</td>\n",
       "      <td>0.00</td>\n",
       "      <td>Direct</td>\n",
       "      <td>Existing Business</td>\n",
       "      <td>NaN</td>\n",
       "      <td>Closed and Won</td>\n",
       "      <td>NaN</td>\n",
       "      <td>...</td>\n",
       "      <td>NaN</td>\n",
       "      <td>NaN</td>\n",
       "      <td>5.0</td>\n",
       "      <td>NaN</td>\n",
       "      <td>NaN</td>\n",
       "      <td>NaN</td>\n",
       "      <td>NaN</td>\n",
       "      <td>60.0</td>\n",
       "      <td>2.56</td>\n",
       "      <td>184.32</td>\n",
       "    </tr>\n",
       "    <tr>\n",
       "      <th>28702</th>\n",
       "      <td>5869927742</td>\n",
       "      <td>99999</td>\n",
       "      <td>8/6/2021</td>\n",
       "      <td>123.0</td>\n",
       "      <td>30.75</td>\n",
       "      <td>Distributor</td>\n",
       "      <td>New Business</td>\n",
       "      <td>NaN</td>\n",
       "      <td>Closed and Won</td>\n",
       "      <td>NaN</td>\n",
       "      <td>...</td>\n",
       "      <td>NaN</td>\n",
       "      <td>NaN</td>\n",
       "      <td>5.0</td>\n",
       "      <td>NaN</td>\n",
       "      <td>NaN</td>\n",
       "      <td>NaN</td>\n",
       "      <td>NaN</td>\n",
       "      <td>60.0</td>\n",
       "      <td>2.56</td>\n",
       "      <td>184.32</td>\n",
       "    </tr>\n",
       "    <tr>\n",
       "      <th>28703</th>\n",
       "      <td>5497549106</td>\n",
       "      <td>99999</td>\n",
       "      <td>6/21/2021</td>\n",
       "      <td>720.0</td>\n",
       "      <td>NaN</td>\n",
       "      <td>Distributor</td>\n",
       "      <td>New Business</td>\n",
       "      <td>NaN</td>\n",
       "      <td>Production</td>\n",
       "      <td>NaN</td>\n",
       "      <td>...</td>\n",
       "      <td>NaN</td>\n",
       "      <td>NaN</td>\n",
       "      <td>5.0</td>\n",
       "      <td>NaN</td>\n",
       "      <td>NaN</td>\n",
       "      <td>NaN</td>\n",
       "      <td>NaN</td>\n",
       "      <td>60.0</td>\n",
       "      <td>2.56</td>\n",
       "      <td>184.32</td>\n",
       "    </tr>\n",
       "  </tbody>\n",
       "</table>\n",
       "<p>20683 rows × 32 columns</p>\n",
       "</div>"
      ],
      "text/plain": [
       "         deal_id_x po_number order_created  total_deal_quantity  \\\n",
       "3651    6324219821     21408     9/28/2021                 60.0   \n",
       "3802    6312709524     21546     9/27/2021                 60.0   \n",
       "5527    6954332007     23021    11/18/2021               1000.0   \n",
       "5528    6954332007     23021    11/18/2021               1000.0   \n",
       "5612    7049269626     23099    11/30/2021                 60.0   \n",
       "...            ...       ...           ...                  ...   \n",
       "28064  16327565462     42961     12/1/2023                250.0   \n",
       "28069  16746039960     42973    12/31/2023                360.0   \n",
       "28701  10188108889     99999     9/14/2022                 60.0   \n",
       "28702   5869927742     99999      8/6/2021                123.0   \n",
       "28703   5497549106     99999     6/21/2021                720.0   \n",
       "\n",
       "       amount_in_company_currency client_type_x        deal_type_x  \\\n",
       "3651                       832.20        Direct  Existing Business   \n",
       "3802                       630.00   Distributor  Existing Business   \n",
       "5527                      6460.00   Distributor  Existing Business   \n",
       "5528                      6460.00   Distributor  Existing Business   \n",
       "5612                       540.00   Distributor  Existing Business   \n",
       "...                           ...           ...                ...   \n",
       "28064                     2015.00   Distributor  Existing Business   \n",
       "28069                     3877.20        Direct  Existing Business   \n",
       "28701                        0.00        Direct  Existing Business   \n",
       "28702                       30.75   Distributor       New Business   \n",
       "28703                         NaN   Distributor       New Business   \n",
       "\n",
       "      special_order_type       deal_stage automation_tools  ... deal_type_y  \\\n",
       "3651                 NaN   Closed and Won   Reorder Button  ...         NaN   \n",
       "3802                 NaN   Closed and Won              NaN  ...         NaN   \n",
       "5527                 NaN   Closed and Won              NaN  ...         NaN   \n",
       "5528                 NaN   Closed and Won              NaN  ...         NaN   \n",
       "5612                 NaN   Closed and Won              NaN  ...         NaN   \n",
       "...                  ...              ...              ...  ...         ...   \n",
       "28064                NaN  Payment Pending              NaN  ...         NaN   \n",
       "28069                NaN   Closed and Won     Portal Order  ...         NaN   \n",
       "28701                NaN   Closed and Won              NaN  ...         NaN   \n",
       "28702                NaN   Closed and Won              NaN  ...         NaN   \n",
       "28703                NaN       Production              NaN  ...         NaN   \n",
       "\n",
       "      deal_id_y  Total SKU DZ on PO intl_unit_cost fixed_intl_pkg_cost  \\\n",
       "3651        NaN                 5.0            NaN                 NaN   \n",
       "3802        NaN                 5.0            NaN                 NaN   \n",
       "5527        NaN                34.0            NaN                 NaN   \n",
       "5528        NaN                50.0            NaN                 NaN   \n",
       "5612        NaN                 5.0            NaN                 NaN   \n",
       "...         ...                 ...            ...                 ...   \n",
       "28064       NaN                21.0            NaN                 NaN   \n",
       "28069       NaN                30.0            NaN                 NaN   \n",
       "28701       NaN                 5.0            NaN                 NaN   \n",
       "28702       NaN                 5.0            NaN                 NaN   \n",
       "28703       NaN                 5.0            NaN                 NaN   \n",
       "\n",
       "       total_intl_unit_cost_dont_use  total_intl_sku_cost  \\\n",
       "3651                             NaN                  NaN   \n",
       "3802                             NaN                  NaN   \n",
       "5527                             NaN                  NaN   \n",
       "5528                             NaN                  NaN   \n",
       "5612                             NaN                  NaN   \n",
       "...                              ...                  ...   \n",
       "28064                            NaN                  NaN   \n",
       "28069                            NaN                  NaN   \n",
       "28701                            NaN                  NaN   \n",
       "28702                            NaN                  NaN   \n",
       "28703                            NaN                  NaN   \n",
       "\n",
       "       total_product_quantity  cost_per_sku  total_sku_cost  \n",
       "3651                     60.0          2.56          184.32  \n",
       "3802                     60.0          2.56          184.32  \n",
       "5527                    400.0          1.96          823.20  \n",
       "5528                    600.0          1.88         1150.56  \n",
       "5612                     60.0          2.56          184.32  \n",
       "...                       ...           ...             ...  \n",
       "28064                   250.0          1.96          517.44  \n",
       "28069                   360.0          1.96          729.12  \n",
       "28701                    60.0          2.56          184.32  \n",
       "28702                    60.0          2.56          184.32  \n",
       "28703                    60.0          2.56          184.32  \n",
       "\n",
       "[20683 rows x 32 columns]"
      ]
     },
     "execution_count": 13,
     "metadata": {},
     "output_type": "execute_result"
    }
   ],
   "source": [
    "# Save the merged DataFrame as a new CSV file\n",
    "deal_prod_merge_22_23_df.to_csv('renamed_merged_22_23_data.csv', index=False)\n",
    "\n",
    "deal_prod_merge_22_23_df"
   ]
  },
  {
   "cell_type": "code",
   "execution_count": 14,
   "metadata": {},
   "outputs": [
    {
     "data": {
      "text/plain": [
       "(20683, 32)"
      ]
     },
     "execution_count": 14,
     "metadata": {},
     "output_type": "execute_result"
    }
   ],
   "source": [
    "deal_prod_merge_22_23_df.shape"
   ]
  },
  {
   "cell_type": "code",
   "execution_count": 15,
   "metadata": {},
   "outputs": [
    {
     "name": "stdout",
     "output_type": "stream",
     "text": [
      "['deal_id_x', 'po_number', 'order_created', 'total_deal_quantity', 'amount_in_company_currency', 'client_type_x', 'deal_type_x', 'special_order_type', 'deal_stage', 'automation_tools', 'revisions', 'deal_source_ca', 'number_of_associated_contacts', 'design_difficulty', 'SKU', 'chassis', 'total_intl_product_quantity', 'mfp_product_info', 'vendor_id', 'est_ship_date', 'submitted_to_prod', 'client_type_y', 'deal_type_y', 'deal_id_y', 'Total SKU DZ on PO', 'intl_unit_cost', 'fixed_intl_pkg_cost', 'total_intl_unit_cost_dont_use', 'total_intl_sku_cost', 'total_product_quantity', 'cost_per_sku', 'total_sku_cost']\n"
     ]
    }
   ],
   "source": [
    "# Assuming your DataFrame is named df\n",
    "column_names = deal_prod_merge_22_23_df.columns.tolist()\n",
    "\n",
    "# Print the list of column names\n",
    "print(column_names)"
   ]
  },
  {
   "cell_type": "markdown",
   "metadata": {},
   "source": [
    "Group the information so that orders with multiple products are not double counts. Deal Data is by Order and Prod Data is by Product. \n",
    "\n",
    "\n",
    "If PO is unique, then use total quantity, if PO is not unique total units is the sum of total product quantity.\n",
    "If the deal is not unique, only return the first currency, client type, deal type found."
   ]
  },
  {
   "cell_type": "code",
   "execution_count": 16,
   "metadata": {},
   "outputs": [
    {
     "data": {
      "text/html": [
       "<div>\n",
       "<style scoped>\n",
       "    .dataframe tbody tr th:only-of-type {\n",
       "        vertical-align: middle;\n",
       "    }\n",
       "\n",
       "    .dataframe tbody tr th {\n",
       "        vertical-align: top;\n",
       "    }\n",
       "\n",
       "    .dataframe thead th {\n",
       "        text-align: right;\n",
       "    }\n",
       "</style>\n",
       "<table border=\"1\" class=\"dataframe\">\n",
       "  <thead>\n",
       "    <tr style=\"text-align: right;\">\n",
       "      <th></th>\n",
       "      <th>po_number</th>\n",
       "      <th>deal_id_x</th>\n",
       "      <th>order_created</th>\n",
       "      <th>total_deal_quantity</th>\n",
       "      <th>amount_in_company_currency</th>\n",
       "      <th>client_type_x</th>\n",
       "      <th>deal_type_x</th>\n",
       "      <th>special_order_type</th>\n",
       "      <th>deal_stage</th>\n",
       "      <th>automation_tools</th>\n",
       "      <th>...</th>\n",
       "      <th>client_type_y</th>\n",
       "      <th>deal_type_y</th>\n",
       "      <th>deal_id_y</th>\n",
       "      <th>Total SKU DZ on PO</th>\n",
       "      <th>intl_unit_cost</th>\n",
       "      <th>fixed_intl_pkg_cost</th>\n",
       "      <th>total_intl_unit_cost_dont_use</th>\n",
       "      <th>total_intl_sku_cost</th>\n",
       "      <th>cost_per_sku</th>\n",
       "      <th>total_sku_cost</th>\n",
       "    </tr>\n",
       "  </thead>\n",
       "  <tbody>\n",
       "    <tr>\n",
       "      <th>0</th>\n",
       "      <td>21408</td>\n",
       "      <td>6324219821</td>\n",
       "      <td>9/28/2021</td>\n",
       "      <td>60.0</td>\n",
       "      <td>832.2</td>\n",
       "      <td>Direct</td>\n",
       "      <td>Existing Business</td>\n",
       "      <td>None</td>\n",
       "      <td>Closed and Won</td>\n",
       "      <td>Reorder Button</td>\n",
       "      <td>...</td>\n",
       "      <td>None</td>\n",
       "      <td>None</td>\n",
       "      <td>NaN</td>\n",
       "      <td>5.0</td>\n",
       "      <td>NaN</td>\n",
       "      <td>NaN</td>\n",
       "      <td>0.0</td>\n",
       "      <td>0.0</td>\n",
       "      <td>2.56</td>\n",
       "      <td>184.32</td>\n",
       "    </tr>\n",
       "    <tr>\n",
       "      <th>1</th>\n",
       "      <td>21546</td>\n",
       "      <td>6312709524</td>\n",
       "      <td>9/27/2021</td>\n",
       "      <td>60.0</td>\n",
       "      <td>630.0</td>\n",
       "      <td>Distributor</td>\n",
       "      <td>Existing Business</td>\n",
       "      <td>None</td>\n",
       "      <td>Closed and Won</td>\n",
       "      <td>None</td>\n",
       "      <td>...</td>\n",
       "      <td>None</td>\n",
       "      <td>None</td>\n",
       "      <td>NaN</td>\n",
       "      <td>5.0</td>\n",
       "      <td>NaN</td>\n",
       "      <td>NaN</td>\n",
       "      <td>0.0</td>\n",
       "      <td>0.0</td>\n",
       "      <td>2.56</td>\n",
       "      <td>184.32</td>\n",
       "    </tr>\n",
       "    <tr>\n",
       "      <th>2</th>\n",
       "      <td>23021</td>\n",
       "      <td>6954332007</td>\n",
       "      <td>11/18/2021</td>\n",
       "      <td>1000.0</td>\n",
       "      <td>6460.0</td>\n",
       "      <td>Distributor</td>\n",
       "      <td>Existing Business</td>\n",
       "      <td>None</td>\n",
       "      <td>Closed and Won</td>\n",
       "      <td>None</td>\n",
       "      <td>...</td>\n",
       "      <td>None</td>\n",
       "      <td>None</td>\n",
       "      <td>NaN</td>\n",
       "      <td>84.0</td>\n",
       "      <td>NaN</td>\n",
       "      <td>NaN</td>\n",
       "      <td>0.0</td>\n",
       "      <td>0.0</td>\n",
       "      <td>1.96</td>\n",
       "      <td>1973.76</td>\n",
       "    </tr>\n",
       "    <tr>\n",
       "      <th>3</th>\n",
       "      <td>23099</td>\n",
       "      <td>7049269626</td>\n",
       "      <td>11/30/2021</td>\n",
       "      <td>60.0</td>\n",
       "      <td>540.0</td>\n",
       "      <td>Distributor</td>\n",
       "      <td>Existing Business</td>\n",
       "      <td>None</td>\n",
       "      <td>Closed and Won</td>\n",
       "      <td>None</td>\n",
       "      <td>...</td>\n",
       "      <td>None</td>\n",
       "      <td>None</td>\n",
       "      <td>NaN</td>\n",
       "      <td>5.0</td>\n",
       "      <td>NaN</td>\n",
       "      <td>NaN</td>\n",
       "      <td>0.0</td>\n",
       "      <td>0.0</td>\n",
       "      <td>2.56</td>\n",
       "      <td>184.32</td>\n",
       "    </tr>\n",
       "    <tr>\n",
       "      <th>4</th>\n",
       "      <td>23341</td>\n",
       "      <td>7229722885</td>\n",
       "      <td>12/12/2021</td>\n",
       "      <td>720.0</td>\n",
       "      <td>4456.8</td>\n",
       "      <td>Distributor</td>\n",
       "      <td>Existing Business</td>\n",
       "      <td>None</td>\n",
       "      <td>Closed and Won</td>\n",
       "      <td>None</td>\n",
       "      <td>...</td>\n",
       "      <td>None</td>\n",
       "      <td>None</td>\n",
       "      <td>NaN</td>\n",
       "      <td>60.0</td>\n",
       "      <td>NaN</td>\n",
       "      <td>NaN</td>\n",
       "      <td>0.0</td>\n",
       "      <td>0.0</td>\n",
       "      <td>1.91</td>\n",
       "      <td>1398.12</td>\n",
       "    </tr>\n",
       "  </tbody>\n",
       "</table>\n",
       "<p>5 rows × 31 columns</p>\n",
       "</div>"
      ],
      "text/plain": [
       "  po_number   deal_id_x order_created  total_deal_quantity  \\\n",
       "0     21408  6324219821     9/28/2021                 60.0   \n",
       "1     21546  6312709524     9/27/2021                 60.0   \n",
       "2     23021  6954332007    11/18/2021               1000.0   \n",
       "3     23099  7049269626    11/30/2021                 60.0   \n",
       "4     23341  7229722885    12/12/2021                720.0   \n",
       "\n",
       "   amount_in_company_currency client_type_x        deal_type_x  \\\n",
       "0                       832.2        Direct  Existing Business   \n",
       "1                       630.0   Distributor  Existing Business   \n",
       "2                      6460.0   Distributor  Existing Business   \n",
       "3                       540.0   Distributor  Existing Business   \n",
       "4                      4456.8   Distributor  Existing Business   \n",
       "\n",
       "  special_order_type      deal_stage automation_tools  ... client_type_y  \\\n",
       "0               None  Closed and Won   Reorder Button  ...          None   \n",
       "1               None  Closed and Won             None  ...          None   \n",
       "2               None  Closed and Won             None  ...          None   \n",
       "3               None  Closed and Won             None  ...          None   \n",
       "4               None  Closed and Won             None  ...          None   \n",
       "\n",
       "  deal_type_y  deal_id_y Total SKU DZ on PO intl_unit_cost  \\\n",
       "0        None        NaN                5.0            NaN   \n",
       "1        None        NaN                5.0            NaN   \n",
       "2        None        NaN               84.0            NaN   \n",
       "3        None        NaN                5.0            NaN   \n",
       "4        None        NaN               60.0            NaN   \n",
       "\n",
       "   fixed_intl_pkg_cost  total_intl_unit_cost_dont_use  total_intl_sku_cost  \\\n",
       "0                  NaN                            0.0                  0.0   \n",
       "1                  NaN                            0.0                  0.0   \n",
       "2                  NaN                            0.0                  0.0   \n",
       "3                  NaN                            0.0                  0.0   \n",
       "4                  NaN                            0.0                  0.0   \n",
       "\n",
       "   cost_per_sku  total_sku_cost  \n",
       "0          2.56          184.32  \n",
       "1          2.56          184.32  \n",
       "2          1.96         1973.76  \n",
       "3          2.56          184.32  \n",
       "4          1.91         1398.12  \n",
       "\n",
       "[5 rows x 31 columns]"
      ]
     },
     "execution_count": 16,
     "metadata": {},
     "output_type": "execute_result"
    }
   ],
   "source": [
    "# Load your data\n",
    "# df = pd.read_csv('your_file.csv')  # Replace with your file path\n",
    "\n",
    "# Define the aggregation logic\n",
    "# Define the aggregation logic with additional columns\n",
    "aggregations = {\n",
    "    'deal_id_x': 'first',\n",
    "    'order_created': 'first',\n",
    "    'total_deal_quantity': 'sum',\n",
    "    'amount_in_company_currency': 'first',\n",
    "    'client_type_x': 'first',\n",
    "    'deal_type_x': 'first',\n",
    "    'special_order_type': 'first',\n",
    "    'deal_stage': 'first',\n",
    "    'automation_tools': 'first',\n",
    "    'revisions': 'first',\n",
    "    'deal_source_ca': 'first',\n",
    "    'number_of_associated_contacts': 'first',\n",
    "    'design_difficulty': 'first',\n",
    "    'SKU': 'first',\n",
    "    'chassis': 'first',\n",
    "    'total_intl_product_quantity': 'sum',\n",
    "    'mfp_product_info': 'first',\n",
    "    'vendor_id': 'first',\n",
    "    'est_ship_date': 'first',\n",
    "    'submitted_to_prod': 'first',\n",
    "    'client_type_y': 'first',\n",
    "    'deal_type_y': 'first',\n",
    "    'deal_id_y': 'first',\n",
    "    'Total SKU DZ on PO': 'sum',\n",
    "    'intl_unit_cost': 'first',\n",
    "    'fixed_intl_pkg_cost': 'first',\n",
    "    'total_intl_unit_cost_dont_use': 'sum',\n",
    "    'total_intl_sku_cost': 'sum',\n",
    "    'total_product_quantity': 'sum',\n",
    "    'cost_per_sku': 'first',\n",
    "    'total_sku_cost': 'sum'\n",
    "}\n",
    "\n",
    "# Group by PO and aggregate\n",
    "filtered_deal_prod_summary_df = deal_prod_merge_22_23_df.groupby('po_number').agg(aggregations)\n",
    "\n",
    "# Create a boolean series to determine if the PO number is duplicated in the original dataframe\n",
    "is_duplicated = deal_prod_merge_22_23_df['po_number'].duplicated(keep=False)\n",
    "\n",
    "# Map this series to the grouped dataframe\n",
    "filtered_deal_prod_summary_df['is_duplicated'] = filtered_deal_prod_summary_df.index.map(is_duplicated)\n",
    "\n",
    "# Handle total units based on uniqueness of PO\n",
    "filtered_deal_prod_summary_df['total_deal_quantity'] = filtered_deal_prod_summary_df.apply(\n",
    "    lambda x: x['total_product_quantity'] if x['is_duplicated'] else deal_prod_merge_22_23_df.loc[deal_prod_merge_22_23_df['po_number'] == x.name, 'total_deal_quantity'].iloc[0], \n",
    "    axis=1\n",
    ")\n",
    "\n",
    "# Drop the now redundant columns\n",
    "filtered_deal_prod_summary_df = filtered_deal_prod_summary_df.drop(columns=['total_product_quantity', 'is_duplicated'])\n",
    "\n",
    "# Reset index if needed\n",
    "filtered_deal_prod_summary_df = filtered_deal_prod_summary_df.reset_index()\n",
    "\n",
    "filtered_deal_prod_summary_df.head()\n",
    "\n",
    "\n"
   ]
  },
  {
   "cell_type": "code",
   "execution_count": 17,
   "metadata": {},
   "outputs": [],
   "source": [
    "# Save the merged filtered summary DataFrame as a new CSV file\n",
    "\n",
    "# Set the display format for floating-point numbers\n",
    "pd.options.display.float_format = '{:.2f}'.format\n",
    "\n",
    "# write out csv file\n",
    "filtered_deal_prod_summary_df.to_csv('filtered_deal_prod_summary_data.csv', index=False)\n",
    "\n",
    "# Reset the display format to the default\n",
    "pd.options.display.float_format = None\n"
   ]
  },
  {
   "cell_type": "code",
   "execution_count": 18,
   "metadata": {},
   "outputs": [
    {
     "data": {
      "text/plain": [
       "(16831, 31)"
      ]
     },
     "execution_count": 18,
     "metadata": {},
     "output_type": "execute_result"
    }
   ],
   "source": [
    "# bring back csv to filtered_deal_prod_summary_df - after additional cleaning \n",
    "cleaned_deal_prod_summary_df = pd.read_csv('filtered_deal_prod_summary_data.csv')\n",
    "\n",
    "cleaned_deal_prod_summary_df.shape"
   ]
  },
  {
   "cell_type": "markdown",
   "metadata": {},
   "source": [
    "Generate Summary Statistics from the Merged and Filtered Data for revenue, costs and quantity data."
   ]
  },
  {
   "cell_type": "code",
   "execution_count": 19,
   "metadata": {},
   "outputs": [
    {
     "name": "stdout",
     "output_type": "stream",
     "text": [
      "   Statistic               Column      Value\n",
      "0      Count  total_deal_quantity   16831.00\n",
      "1        Sum  total_deal_quantity 5329389.00\n",
      "2       Mean  total_deal_quantity     316.64\n",
      "3     Median  total_deal_quantity     150.00\n",
      "4        Min  total_deal_quantity       0.00\n",
      "..       ...                  ...        ...\n",
      "67       Min       total_sku_cost       1.80\n",
      "68       Max       total_sku_cost   43086.72\n",
      "69       Std       total_sku_cost    1228.65\n",
      "70        Q1       total_sku_cost     294.36\n",
      "71        Q3       total_sku_cost     752.64\n",
      "\n",
      "[72 rows x 3 columns]\n"
     ]
    },
    {
     "name": "stderr",
     "output_type": "stream",
     "text": [
      "C:\\Users\\KatreeceHattaway\\AppData\\Local\\Temp\\ipykernel_1456\\1529344734.py:37: FutureWarning: The behavior of DataFrame concatenation with empty or all-NA entries is deprecated. In a future version, this will no longer exclude empty or all-NA columns when determining the result dtypes. To retain the old behavior, exclude the relevant entries before the concat operation.\n",
      "  summary_stats_full_df = pd.concat([summary_stats_full_df, summary_mid_df], ignore_index=True)\n"
     ]
    }
   ],
   "source": [
    "# create summary statistics dataframe to hold results of these preliminary summary stats - for both years combined - to get some whole-group numbers, etc.\n",
    "summary_stats_full_df = pd.DataFrame(columns=['Statistic', 'Column', 'Value'])\n",
    "\n",
    "# Set the display format for floating-point numbers\n",
    "pd.options.display.float_format = '{:.2f}'.format\n",
    "\n",
    "# create list of column names\n",
    "columns = ['total_deal_quantity', \n",
    "           'amount_in_company_currency', \n",
    "           'number_of_associated_contacts',\n",
    "           'total_intl_product_quantity',\n",
    "           'Total SKU DZ on PO',\n",
    "           'total_intl_sku_cost',\n",
    "           'cost_per_sku',\n",
    "           'total_sku_cost'\n",
    "             ]\n",
    "\n",
    "# Iterate over the column names\n",
    "for column_name in columns:\n",
    "    # Perform summary statistics\n",
    "    count = cleaned_deal_prod_summary_df[column_name].count()\n",
    "    sum_value = cleaned_deal_prod_summary_df[column_name].sum()\n",
    "    mean_value = cleaned_deal_prod_summary_df[column_name].mean()\n",
    "    median_value = cleaned_deal_prod_summary_df[column_name].median()\n",
    "    min_value = cleaned_deal_prod_summary_df[column_name].min()\n",
    "    max_value = cleaned_deal_prod_summary_df[column_name].max()\n",
    "    std_value = cleaned_deal_prod_summary_df[column_name].std()\n",
    "    q1 = cleaned_deal_prod_summary_df[column_name].quantile(0.25)\n",
    "    q3 = cleaned_deal_prod_summary_df[column_name].quantile(0.75)\n",
    "\n",
    "    # Create a new DataFrame with the summary statistics\n",
    "    summary_mid_df = pd.DataFrame({'Statistic': ['Count', 'Sum', 'Mean', 'Median', 'Min', 'Max', 'Std', 'Q1', 'Q3'],\n",
    "                                   'Column': [column_name, column_name, column_name, column_name, column_name, column_name, column_name, column_name, column_name],\n",
    "                                   'Value': [count, sum_value, mean_value, median_value, min_value, max_value, std_value, q1, q3]})\n",
    "\n",
    "    # Concatenate the new DataFrame with the summary_stats_full_df DataFrame\n",
    "    summary_stats_full_df = pd.concat([summary_stats_full_df, summary_mid_df], ignore_index=True)\n",
    "\n",
    "  # Save the merged DataFrame as a new CSV file\n",
    "summary_stats_full_df.to_csv('summary_stats_full.csv', index=False)\n",
    "\n",
    "# Print the summary dataframe\n",
    "print(summary_stats_full_df)\n",
    "\n",
    "# Reset the display format to the default\n",
    "pd.options.display.float_format = None\n",
    "\n"
   ]
  },
  {
   "cell_type": "code",
   "execution_count": 20,
   "metadata": {},
   "outputs": [
    {
     "name": "stdout",
     "output_type": "stream",
     "text": [
      "<class 'str'>\n"
     ]
    }
   ],
   "source": [
    "# Assuming you have a DataFrame called 'df' and a column called 'column_name'\n",
    "value = cleaned_deal_prod_summary_df.loc[0, 'submitted_to_prod']\n",
    "data_type = type(value)\n",
    "\n",
    "print(data_type)"
   ]
  },
  {
   "cell_type": "markdown",
   "metadata": {},
   "source": [
    "Generate Summary Statistics from the Merged and Filtered Data for revenue, costs and quantity data 2022."
   ]
  },
  {
   "cell_type": "code",
   "execution_count": 21,
   "metadata": {},
   "outputs": [
    {
     "name": "stdout",
     "output_type": "stream",
     "text": [
      "   Statistic               Column      Value\n",
      "0      Count  total_deal_quantity    8085.00\n",
      "1        Sum  total_deal_quantity 2677472.00\n",
      "2       Mean  total_deal_quantity     331.17\n",
      "3     Median  total_deal_quantity     150.00\n",
      "4        Min  total_deal_quantity       0.00\n",
      "..       ...                  ...        ...\n",
      "58       Min       total_sku_cost      91.52\n",
      "59       Max       total_sku_cost   43086.72\n",
      "60       Std       total_sku_cost    1266.39\n",
      "61        Q1       total_sku_cost     294.36\n",
      "62        Q3       total_sku_cost     776.88\n",
      "\n",
      "[63 rows x 3 columns]\n"
     ]
    },
    {
     "name": "stderr",
     "output_type": "stream",
     "text": [
      "C:\\Users\\KatreeceHattaway\\AppData\\Local\\Temp\\ipykernel_1456\\1881183303.py:43: FutureWarning: The behavior of DataFrame concatenation with empty or all-NA entries is deprecated. In a future version, this will no longer exclude empty or all-NA columns when determining the result dtypes. To retain the old behavior, exclude the relevant entries before the concat operation.\n",
      "  summary_stats_2022_df = pd.concat([summary_stats_2022_df, summary_2022_df], ignore_index=True)\n"
     ]
    }
   ],
   "source": [
    "# summary stats for 2022 only - based on submitted_to_prod_column\n",
    "\n",
    "# convert the submitted_to_prod from timestamp to datetime \n",
    "cleaned_deal_prod_summary_df['submitted_to_prod'] = pd.to_datetime(cleaned_deal_prod_summary_df['submitted_to_prod'])\n",
    "\n",
    "# create summary statistics dataframe to hold results of these preliminary summary stats - for 2022 - to get some whole-group numbers, etc.\n",
    "summary_stats_2022_df = pd.DataFrame(columns=['Statistic', 'Column', 'Value'])\n",
    "\n",
    "filtered_deal_prod_2022_df = cleaned_deal_prod_summary_df[cleaned_deal_prod_summary_df['submitted_to_prod'].dt.year == 2022]\n",
    "\n",
    "# Set the display format for floating-point numbers\n",
    "pd.options.display.float_format = '{:.2f}'.format\n",
    "\n",
    "# create list of column names\n",
    "columns = ['total_deal_quantity', \n",
    "           'amount_in_company_currency', \n",
    "           'number_of_associated_contacts',\n",
    "           'total_intl_product_quantity',\n",
    "           'Total SKU DZ on PO',\n",
    "           'cost_per_sku',\n",
    "           'total_sku_cost'\n",
    "             ]\n",
    "\n",
    "# Iterate over the column names\n",
    "for column_name in columns:\n",
    "    # Perform summary statistics\n",
    "    count = filtered_deal_prod_2022_df[column_name].count()\n",
    "    sum_value = filtered_deal_prod_2022_df[column_name].sum()\n",
    "    mean_value = filtered_deal_prod_2022_df[column_name].mean()\n",
    "    median_value = filtered_deal_prod_2022_df[column_name].median()\n",
    "    min_value = filtered_deal_prod_2022_df[column_name].min()\n",
    "    max_value = filtered_deal_prod_2022_df[column_name].max()\n",
    "    std_value = filtered_deal_prod_2022_df[column_name].std()\n",
    "    q1 = filtered_deal_prod_2022_df[column_name].quantile(0.25)\n",
    "    q3 = filtered_deal_prod_2022_df[column_name].quantile(0.75)\n",
    "\n",
    "    # Create a new DataFrame with the summary statistics\n",
    "    summary_2022_df = pd.DataFrame({'Statistic': ['Count', 'Sum', 'Mean', 'Median', 'Min', 'Max', 'Std', 'Q1', 'Q3'],\n",
    "                                   'Column': [column_name, column_name, column_name, column_name, column_name, column_name, column_name, column_name, column_name],\n",
    "                                   'Value': [count, sum_value, mean_value, median_value, min_value, max_value, std_value, q1, q3]})\n",
    "\n",
    "    # Concatenate the new DataFrame with the summary_stats_full_df DataFrame\n",
    "    summary_stats_2022_df = pd.concat([summary_stats_2022_df, summary_2022_df], ignore_index=True)\n",
    "\n",
    "  # Save the merged DataFrame as a new CSV file\n",
    "summary_stats_2022_df.to_csv('summary_stats_2022.csv', index=False)\n",
    "\n",
    "# Print the summary dataframe\n",
    "print(summary_stats_2022_df)\n",
    "\n",
    "# Reset the display format to the default\n",
    "pd.options.display.float_format = None\n"
   ]
  },
  {
   "cell_type": "markdown",
   "metadata": {},
   "source": [
    "Generate Summary Statistics from the Merged and Filtered Data for revenue, costs and quantity data 2023."
   ]
  },
  {
   "cell_type": "code",
   "execution_count": 22,
   "metadata": {},
   "outputs": [
    {
     "name": "stdout",
     "output_type": "stream",
     "text": [
      "   Statistic               Column      Value\n",
      "0      Count  total_deal_quantity    8746.00\n",
      "1        Sum  total_deal_quantity 2651917.00\n",
      "2       Mean  total_deal_quantity     303.21\n",
      "3     Median  total_deal_quantity     125.00\n",
      "4        Min  total_deal_quantity       0.00\n",
      "..       ...                  ...        ...\n",
      "58       Min       total_sku_cost       1.80\n",
      "59       Max       total_sku_cost   32000.00\n",
      "60       Std       total_sku_cost    1192.63\n",
      "61        Q1       total_sku_cost     276.48\n",
      "62        Q3       total_sku_cost     747.12\n",
      "\n",
      "[63 rows x 3 columns]\n"
     ]
    },
    {
     "name": "stderr",
     "output_type": "stream",
     "text": [
      "C:\\Users\\KatreeceHattaway\\AppData\\Local\\Temp\\ipykernel_1456\\1052694521.py:43: FutureWarning: The behavior of DataFrame concatenation with empty or all-NA entries is deprecated. In a future version, this will no longer exclude empty or all-NA columns when determining the result dtypes. To retain the old behavior, exclude the relevant entries before the concat operation.\n",
      "  summary_stats_2023_df = pd.concat([summary_stats_2023_df, summary_2023_df], ignore_index=True)\n"
     ]
    }
   ],
   "source": [
    "# summary stats for 2023 only - based on submitted_to_prod_column\n",
    "\n",
    "# convert the submitted_to_prod from timestamp to datetime \n",
    "cleaned_deal_prod_summary_df['submitted_to_prod'] = pd.to_datetime(cleaned_deal_prod_summary_df['submitted_to_prod'])\n",
    "\n",
    "# create summary statistics dataframe to hold results of these preliminary summary stats - for 2023 - to get some whole-group numbers, etc.\n",
    "summary_stats_2023_df = pd.DataFrame(columns=['Statistic', 'Column', 'Value'])\n",
    "\n",
    "filtered_deal_prod_2023_df = cleaned_deal_prod_summary_df[cleaned_deal_prod_summary_df['submitted_to_prod'].dt.year == 2023]\n",
    "\n",
    "# Set the display format for floating-point numbers\n",
    "pd.options.display.float_format = '{:.2f}'.format\n",
    "\n",
    "# create list of column names\n",
    "columns = ['total_deal_quantity', \n",
    "           'amount_in_company_currency', \n",
    "           'number_of_associated_contacts',\n",
    "           'total_intl_product_quantity',\n",
    "           'Total SKU DZ on PO',\n",
    "           'cost_per_sku',\n",
    "           'total_sku_cost'\n",
    "             ]\n",
    "\n",
    "# Iterate over the column names\n",
    "for column_name in columns:\n",
    "    # Perform summary statistics\n",
    "    count = filtered_deal_prod_2023_df[column_name].count()\n",
    "    sum_value = filtered_deal_prod_2023_df[column_name].sum()\n",
    "    mean_value = filtered_deal_prod_2023_df[column_name].mean()\n",
    "    median_value = filtered_deal_prod_2023_df[column_name].median()\n",
    "    min_value = filtered_deal_prod_2023_df[column_name].min()\n",
    "    max_value = filtered_deal_prod_2023_df[column_name].max()\n",
    "    std_value = filtered_deal_prod_2023_df[column_name].std()\n",
    "    q1 = filtered_deal_prod_2023_df[column_name].quantile(0.25)\n",
    "    q3 = filtered_deal_prod_2023_df[column_name].quantile(0.75)\n",
    "\n",
    "    # Create a new DataFrame with the summary statistics\n",
    "    summary_2023_df = pd.DataFrame({'Statistic': ['Count', 'Sum', 'Mean', 'Median', 'Min', 'Max', 'Std', 'Q1', 'Q3'],\n",
    "                                   'Column': [column_name, column_name, column_name, column_name, column_name, column_name, column_name, column_name, column_name],\n",
    "                                   'Value': [count, sum_value, mean_value, median_value, min_value, max_value, std_value, q1, q3]})\n",
    "\n",
    "    # Concatenate the new DataFrame with the summary_stats_full_df DataFrame\n",
    "    summary_stats_2023_df = pd.concat([summary_stats_2023_df, summary_2023_df], ignore_index=True)\n",
    "\n",
    "  # Save the merged DataFrame as a new CSV file\n",
    "summary_stats_2023_df.to_csv('summary_stats_2023.csv', index=False)\n",
    "\n",
    "# Print the summary dataframe\n",
    "print(summary_stats_2023_df)\n",
    "\n",
    "# Reset the display format to the default\n",
    "pd.options.display.float_format = None\n"
   ]
  },
  {
   "cell_type": "markdown",
   "metadata": {},
   "source": [
    "Calculate the Gross Margin and add a new column to the summary data frame to store the results."
   ]
  },
  {
   "cell_type": "code",
   "execution_count": 23,
   "metadata": {},
   "outputs": [],
   "source": [
    "# create function - for gross margin assignment\n",
    "def calculate_gm(r, c):\n",
    "    if r != 0:\n",
    "        gm = (r - c) / r\n",
    "    else:\n",
    "        gm = 0\n",
    "    return gm"
   ]
  },
  {
   "cell_type": "code",
   "execution_count": 24,
   "metadata": {},
   "outputs": [
    {
     "name": "stderr",
     "output_type": "stream",
     "text": [
      "C:\\Users\\KatreeceHattaway\\AppData\\Local\\Temp\\ipykernel_1456\\1186279960.py:10: SettingWithCopyWarning: \n",
      "A value is trying to be set on a copy of a slice from a DataFrame.\n",
      "Try using .loc[row_indexer,col_indexer] = value instead\n",
      "\n",
      "See the caveats in the documentation: https://pandas.pydata.org/pandas-docs/stable/user_guide/indexing.html#returning-a-view-versus-a-copy\n",
      "  filtered_deal_prod_2022_df[\"gross_margin\"] = filtered_deal_prod_2022_df.apply(lambda row: calculate_gm(row[\"amount_in_company_currency\"], row[\"total_sku_cost\"]), axis=1)\n",
      "C:\\Users\\KatreeceHattaway\\AppData\\Local\\Temp\\ipykernel_1456\\1186279960.py:13: SettingWithCopyWarning: \n",
      "A value is trying to be set on a copy of a slice from a DataFrame\n",
      "\n",
      "See the caveats in the documentation: https://pandas.pydata.org/pandas-docs/stable/user_guide/indexing.html#returning-a-view-versus-a-copy\n",
      "  filtered_deal_prod_2022_df['gross_margin'].fillna(0, inplace=True)\n",
      "C:\\Users\\KatreeceHattaway\\AppData\\Local\\Temp\\ipykernel_1456\\1186279960.py:16: SettingWithCopyWarning: \n",
      "A value is trying to be set on a copy of a slice from a DataFrame.\n",
      "Try using .loc[row_indexer,col_indexer] = value instead\n",
      "\n",
      "See the caveats in the documentation: https://pandas.pydata.org/pandas-docs/stable/user_guide/indexing.html#returning-a-view-versus-a-copy\n",
      "  filtered_deal_prod_2023_df[\"gross_margin\"] = filtered_deal_prod_2023_df.apply(lambda row: calculate_gm(row[\"amount_in_company_currency\"], row[\"total_sku_cost\"]), axis=1)\n",
      "C:\\Users\\KatreeceHattaway\\AppData\\Local\\Temp\\ipykernel_1456\\1186279960.py:19: SettingWithCopyWarning: \n",
      "A value is trying to be set on a copy of a slice from a DataFrame\n",
      "\n",
      "See the caveats in the documentation: https://pandas.pydata.org/pandas-docs/stable/user_guide/indexing.html#returning-a-view-versus-a-copy\n",
      "  filtered_deal_prod_2023_df['gross_margin'].fillna(0, inplace=True)\n"
     ]
    }
   ],
   "source": [
    "# New operations - to avoid dividing by zero :\n",
    "\n",
    "# full summary dataframe - assign gross margin\n",
    "cleaned_deal_prod_summary_df[\"gross_margin\"] = cleaned_deal_prod_summary_df.apply(lambda row: calculate_gm(row[\"amount_in_company_currency\"], row[\"total_sku_cost\"]), axis=1)\n",
    "\n",
    "# Fill NaN values in \"gross_margin\" column with 0\n",
    "cleaned_deal_prod_summary_df['gross_margin'].fillna(0, inplace=True)\n",
    "\n",
    "# 2022 dataframe - assign gross margin\n",
    "filtered_deal_prod_2022_df[\"gross_margin\"] = filtered_deal_prod_2022_df.apply(lambda row: calculate_gm(row[\"amount_in_company_currency\"], row[\"total_sku_cost\"]), axis=1)\n",
    "\n",
    "# Fill NaN values in \"gross_margin\" column with 0\n",
    "filtered_deal_prod_2022_df['gross_margin'].fillna(0, inplace=True)\n",
    "\n",
    "# 2023 dataframe - assign gross margin\n",
    "filtered_deal_prod_2023_df[\"gross_margin\"] = filtered_deal_prod_2023_df.apply(lambda row: calculate_gm(row[\"amount_in_company_currency\"], row[\"total_sku_cost\"]), axis=1)\n",
    "\n",
    "# Fill NaN values in \"gross_margin\" column with 0\n",
    "filtered_deal_prod_2023_df['gross_margin'].fillna(0, inplace=True)\n"
   ]
  },
  {
   "cell_type": "code",
   "execution_count": 25,
   "metadata": {},
   "outputs": [],
   "source": [
    "  # Save the merged DataFrame as a new CSV file\n",
    "filtered_deal_prod_2022_df.to_csv('filtered_deal_prod_2022.csv', index=False)"
   ]
  },
  {
   "cell_type": "markdown",
   "metadata": {},
   "source": [
    "Group by the client type and generate summary statistics of revenue, quantity, costs, and gross margin for each in 2022."
   ]
  },
  {
   "cell_type": "code",
   "execution_count": 26,
   "metadata": {},
   "outputs": [
    {
     "name": "stderr",
     "output_type": "stream",
     "text": [
      "C:\\Users\\KatreeceHattaway\\AppData\\Local\\Temp\\ipykernel_1456\\21850043.py:13: SettingWithCopyWarning: \n",
      "A value is trying to be set on a copy of a slice from a DataFrame.\n",
      "Try using .loc[row_indexer,col_indexer] = value instead\n",
      "\n",
      "See the caveats in the documentation: https://pandas.pydata.org/pandas-docs/stable/user_guide/indexing.html#returning-a-view-versus-a-copy\n",
      "  filtered_deal_prod_2022_df[list_of_columns] = filtered_deal_prod_2022_df[list_of_columns].apply(pd.to_numeric, errors='coerce')\n"
     ]
    },
    {
     "data": {
      "text/html": [
       "<div>\n",
       "<style scoped>\n",
       "    .dataframe tbody tr th:only-of-type {\n",
       "        vertical-align: middle;\n",
       "    }\n",
       "\n",
       "    .dataframe tbody tr th {\n",
       "        vertical-align: top;\n",
       "    }\n",
       "\n",
       "    .dataframe thead th {\n",
       "        text-align: right;\n",
       "    }\n",
       "</style>\n",
       "<table border=\"1\" class=\"dataframe\">\n",
       "  <thead>\n",
       "    <tr style=\"text-align: right;\">\n",
       "      <th></th>\n",
       "      <th>client_type_x</th>\n",
       "      <th>amount_in_company_currency_mean</th>\n",
       "      <th>amount_in_company_currency_median</th>\n",
       "      <th>amount_in_company_currency_max</th>\n",
       "      <th>amount_in_company_currency_min</th>\n",
       "      <th>amount_in_company_currency_sum</th>\n",
       "      <th>amount_in_company_currency_std</th>\n",
       "      <th>total_deal_quantity_mean</th>\n",
       "      <th>total_deal_quantity_median</th>\n",
       "      <th>total_deal_quantity_max</th>\n",
       "      <th>...</th>\n",
       "      <th>total_sku_cost_max</th>\n",
       "      <th>total_sku_cost_min</th>\n",
       "      <th>total_sku_cost_sum</th>\n",
       "      <th>total_sku_cost_std</th>\n",
       "      <th>gross_margin_mean</th>\n",
       "      <th>gross_margin_median</th>\n",
       "      <th>gross_margin_max</th>\n",
       "      <th>gross_margin_min</th>\n",
       "      <th>gross_margin_sum</th>\n",
       "      <th>gross_margin_std</th>\n",
       "    </tr>\n",
       "  </thead>\n",
       "  <tbody>\n",
       "    <tr>\n",
       "      <th>0</th>\n",
       "      <td>B2C</td>\n",
       "      <td>981.900000</td>\n",
       "      <td>981.900</td>\n",
       "      <td>981.90</td>\n",
       "      <td>981.9</td>\n",
       "      <td>981.90</td>\n",
       "      <td>NaN</td>\n",
       "      <td>60.000000</td>\n",
       "      <td>60.0</td>\n",
       "      <td>60.0</td>\n",
       "      <td>...</td>\n",
       "      <td>184.32</td>\n",
       "      <td>184.32</td>\n",
       "      <td>184.32</td>\n",
       "      <td>NaN</td>\n",
       "      <td>0.812282</td>\n",
       "      <td>0.812282</td>\n",
       "      <td>0.812282</td>\n",
       "      <td>0.812282</td>\n",
       "      <td>0.812282</td>\n",
       "      <td>NaN</td>\n",
       "    </tr>\n",
       "    <tr>\n",
       "      <th>1</th>\n",
       "      <td>Direct</td>\n",
       "      <td>3110.948946</td>\n",
       "      <td>1900.800</td>\n",
       "      <td>53074.98</td>\n",
       "      <td>0.0</td>\n",
       "      <td>6788090.60</td>\n",
       "      <td>3756.871469</td>\n",
       "      <td>287.337305</td>\n",
       "      <td>150.0</td>\n",
       "      <td>6396.0</td>\n",
       "      <td>...</td>\n",
       "      <td>10312.68</td>\n",
       "      <td>151.20</td>\n",
       "      <td>1475650.80</td>\n",
       "      <td>772.325643</td>\n",
       "      <td>0.764245</td>\n",
       "      <td>0.781828</td>\n",
       "      <td>0.932318</td>\n",
       "      <td>-10.352000</td>\n",
       "      <td>1667.583233</td>\n",
       "      <td>0.256198</td>\n",
       "    </tr>\n",
       "    <tr>\n",
       "      <th>2</th>\n",
       "      <td>Distributor</td>\n",
       "      <td>2477.750016</td>\n",
       "      <td>1324.695</td>\n",
       "      <td>151035.11</td>\n",
       "      <td>0.0</td>\n",
       "      <td>14167774.59</td>\n",
       "      <td>4623.862172</td>\n",
       "      <td>346.660780</td>\n",
       "      <td>150.0</td>\n",
       "      <td>25085.0</td>\n",
       "      <td>...</td>\n",
       "      <td>43086.72</td>\n",
       "      <td>91.52</td>\n",
       "      <td>4402898.40</td>\n",
       "      <td>1408.370160</td>\n",
       "      <td>0.676561</td>\n",
       "      <td>0.687593</td>\n",
       "      <td>0.947046</td>\n",
       "      <td>-3.236384</td>\n",
       "      <td>3869.252631</td>\n",
       "      <td>0.100266</td>\n",
       "    </tr>\n",
       "    <tr>\n",
       "      <th>3</th>\n",
       "      <td>Wholesale</td>\n",
       "      <td>2669.549286</td>\n",
       "      <td>1750.100</td>\n",
       "      <td>53780.80</td>\n",
       "      <td>0.0</td>\n",
       "      <td>485857.97</td>\n",
       "      <td>4310.204331</td>\n",
       "      <td>371.038462</td>\n",
       "      <td>199.0</td>\n",
       "      <td>10500.0</td>\n",
       "      <td>...</td>\n",
       "      <td>15978.24</td>\n",
       "      <td>184.32</td>\n",
       "      <td>150881.64</td>\n",
       "      <td>1301.680132</td>\n",
       "      <td>0.678456</td>\n",
       "      <td>0.686594</td>\n",
       "      <td>0.864371</td>\n",
       "      <td>0.000000</td>\n",
       "      <td>123.478980</td>\n",
       "      <td>0.099956</td>\n",
       "    </tr>\n",
       "  </tbody>\n",
       "</table>\n",
       "<p>4 rows × 25 columns</p>\n",
       "</div>"
      ],
      "text/plain": [
       "  client_type_x  amount_in_company_currency_mean  \\\n",
       "0           B2C                       981.900000   \n",
       "1        Direct                      3110.948946   \n",
       "2   Distributor                      2477.750016   \n",
       "3     Wholesale                      2669.549286   \n",
       "\n",
       "   amount_in_company_currency_median  amount_in_company_currency_max  \\\n",
       "0                            981.900                          981.90   \n",
       "1                           1900.800                        53074.98   \n",
       "2                           1324.695                       151035.11   \n",
       "3                           1750.100                        53780.80   \n",
       "\n",
       "   amount_in_company_currency_min  amount_in_company_currency_sum  \\\n",
       "0                           981.9                          981.90   \n",
       "1                             0.0                      6788090.60   \n",
       "2                             0.0                     14167774.59   \n",
       "3                             0.0                       485857.97   \n",
       "\n",
       "   amount_in_company_currency_std  total_deal_quantity_mean  \\\n",
       "0                             NaN                 60.000000   \n",
       "1                     3756.871469                287.337305   \n",
       "2                     4623.862172                346.660780   \n",
       "3                     4310.204331                371.038462   \n",
       "\n",
       "   total_deal_quantity_median  total_deal_quantity_max  ...  \\\n",
       "0                        60.0                     60.0  ...   \n",
       "1                       150.0                   6396.0  ...   \n",
       "2                       150.0                  25085.0  ...   \n",
       "3                       199.0                  10500.0  ...   \n",
       "\n",
       "   total_sku_cost_max  total_sku_cost_min  total_sku_cost_sum  \\\n",
       "0              184.32              184.32              184.32   \n",
       "1            10312.68              151.20          1475650.80   \n",
       "2            43086.72               91.52          4402898.40   \n",
       "3            15978.24              184.32           150881.64   \n",
       "\n",
       "   total_sku_cost_std  gross_margin_mean  gross_margin_median  \\\n",
       "0                 NaN           0.812282             0.812282   \n",
       "1          772.325643           0.764245             0.781828   \n",
       "2         1408.370160           0.676561             0.687593   \n",
       "3         1301.680132           0.678456             0.686594   \n",
       "\n",
       "   gross_margin_max  gross_margin_min  gross_margin_sum  gross_margin_std  \n",
       "0          0.812282          0.812282          0.812282               NaN  \n",
       "1          0.932318        -10.352000       1667.583233          0.256198  \n",
       "2          0.947046         -3.236384       3869.252631          0.100266  \n",
       "3          0.864371          0.000000        123.478980          0.099956  \n",
       "\n",
       "[4 rows x 25 columns]"
      ]
     },
     "execution_count": 26,
     "metadata": {},
     "output_type": "execute_result"
    }
   ],
   "source": [
    "# GroupBy Client_type_x Summary Stats 2022\n",
    "\n",
    "# Define the group by column\n",
    "group_by_column = \"client_type_x\"\n",
    "\n",
    "# Set the display format for floating-point numbers\n",
    "pd.options.display.float_format = '{:.2f}'.format\n",
    "\n",
    "# Define the list of columns for summary statistics\n",
    "list_of_columns = [\"amount_in_company_currency\", \"total_deal_quantity\", \"total_sku_cost\", \"gross_margin\"]\n",
    "\n",
    "# Convert columns to numeric data types\n",
    "filtered_deal_prod_2022_df[list_of_columns] = filtered_deal_prod_2022_df[list_of_columns].apply(pd.to_numeric, errors='coerce')\n",
    "\n",
    "# Perform group by and summary statistics on selected columns\n",
    "grouped_client_sum_2022_df = filtered_deal_prod_2022_df.groupby(group_by_column)[list_of_columns].agg(['mean', 'median', 'max', 'min', 'sum', 'std'])\n",
    "\n",
    "# Reset the column names to remove the multi-level index\n",
    "grouped_client_sum_2022_df.columns = grouped_client_sum_2022_df.columns.map('_'.join)\n",
    "\n",
    "# Reset the index and move \"client_type_x\" column to the first position\n",
    "grouped_client_sum_2022_df = grouped_client_sum_2022_df.reset_index()\n",
    "\n",
    "# Save the summary DataFrame as a new CSV file with right-justified numbers\n",
    "grouped_client_sum_2022_df.to_csv('grouped_summary_2022_client.csv', index=False, float_format='%.2f')\n",
    "\n",
    "# Reset the display format to the default\n",
    "pd.options.display.float_format = None\n",
    "\n",
    "# Print the first 5 records\n",
    "grouped_client_sum_2022_df.head()\n"
   ]
  },
  {
   "cell_type": "markdown",
   "metadata": {},
   "source": [
    "Group by the client type and generate summary statistics of revenue, quantity, costs, and gross margin for each in 2023."
   ]
  },
  {
   "cell_type": "code",
   "execution_count": 27,
   "metadata": {},
   "outputs": [
    {
     "name": "stderr",
     "output_type": "stream",
     "text": [
      "C:\\Users\\KatreeceHattaway\\AppData\\Local\\Temp\\ipykernel_1456\\371110733.py:13: SettingWithCopyWarning: \n",
      "A value is trying to be set on a copy of a slice from a DataFrame.\n",
      "Try using .loc[row_indexer,col_indexer] = value instead\n",
      "\n",
      "See the caveats in the documentation: https://pandas.pydata.org/pandas-docs/stable/user_guide/indexing.html#returning-a-view-versus-a-copy\n",
      "  filtered_deal_prod_2023_df[list_of_columns] = filtered_deal_prod_2023_df[list_of_columns].apply(pd.to_numeric, errors='coerce')\n"
     ]
    },
    {
     "data": {
      "text/html": [
       "<div>\n",
       "<style scoped>\n",
       "    .dataframe tbody tr th:only-of-type {\n",
       "        vertical-align: middle;\n",
       "    }\n",
       "\n",
       "    .dataframe tbody tr th {\n",
       "        vertical-align: top;\n",
       "    }\n",
       "\n",
       "    .dataframe thead th {\n",
       "        text-align: right;\n",
       "    }\n",
       "</style>\n",
       "<table border=\"1\" class=\"dataframe\">\n",
       "  <thead>\n",
       "    <tr style=\"text-align: right;\">\n",
       "      <th></th>\n",
       "      <th>client_type_x</th>\n",
       "      <th>amount_in_company_currency_mean</th>\n",
       "      <th>amount_in_company_currency_median</th>\n",
       "      <th>amount_in_company_currency_max</th>\n",
       "      <th>amount_in_company_currency_min</th>\n",
       "      <th>amount_in_company_currency_sum</th>\n",
       "      <th>amount_in_company_currency_std</th>\n",
       "      <th>total_deal_quantity_mean</th>\n",
       "      <th>total_deal_quantity_median</th>\n",
       "      <th>total_deal_quantity_max</th>\n",
       "      <th>...</th>\n",
       "      <th>total_sku_cost_max</th>\n",
       "      <th>total_sku_cost_min</th>\n",
       "      <th>total_sku_cost_sum</th>\n",
       "      <th>total_sku_cost_std</th>\n",
       "      <th>gross_margin_mean</th>\n",
       "      <th>gross_margin_median</th>\n",
       "      <th>gross_margin_max</th>\n",
       "      <th>gross_margin_min</th>\n",
       "      <th>gross_margin_sum</th>\n",
       "      <th>gross_margin_std</th>\n",
       "    </tr>\n",
       "  </thead>\n",
       "  <tbody>\n",
       "    <tr>\n",
       "      <th>0</th>\n",
       "      <td>Direct</td>\n",
       "      <td>2911.442227</td>\n",
       "      <td>1756.90</td>\n",
       "      <td>137620.0</td>\n",
       "      <td>0.0</td>\n",
       "      <td>7.176705e+06</td>\n",
       "      <td>4221.286397</td>\n",
       "      <td>235.701420</td>\n",
       "      <td>120.0</td>\n",
       "      <td>20000.0</td>\n",
       "      <td>...</td>\n",
       "      <td>30460.80</td>\n",
       "      <td>3.60</td>\n",
       "      <td>1465249.71</td>\n",
       "      <td>886.536058</td>\n",
       "      <td>0.772953</td>\n",
       "      <td>0.789803</td>\n",
       "      <td>0.949503</td>\n",
       "      <td>-10.320000</td>\n",
       "      <td>1905.330021</td>\n",
       "      <td>0.346568</td>\n",
       "    </tr>\n",
       "    <tr>\n",
       "      <th>1</th>\n",
       "      <td>Distributor</td>\n",
       "      <td>2550.127918</td>\n",
       "      <td>1377.24</td>\n",
       "      <td>96543.7</td>\n",
       "      <td>0.0</td>\n",
       "      <td>1.566034e+07</td>\n",
       "      <td>4206.029857</td>\n",
       "      <td>329.202214</td>\n",
       "      <td>150.0</td>\n",
       "      <td>20135.0</td>\n",
       "      <td>...</td>\n",
       "      <td>32000.00</td>\n",
       "      <td>1.80</td>\n",
       "      <td>4710149.96</td>\n",
       "      <td>1292.035739</td>\n",
       "      <td>0.683572</td>\n",
       "      <td>0.700995</td>\n",
       "      <td>0.979429</td>\n",
       "      <td>-8.457158</td>\n",
       "      <td>4198.500837</td>\n",
       "      <td>0.194530</td>\n",
       "    </tr>\n",
       "    <tr>\n",
       "      <th>2</th>\n",
       "      <td>Wholesale</td>\n",
       "      <td>2709.169568</td>\n",
       "      <td>1350.00</td>\n",
       "      <td>26200.0</td>\n",
       "      <td>0.0</td>\n",
       "      <td>3.765746e+05</td>\n",
       "      <td>3909.792768</td>\n",
       "      <td>352.179856</td>\n",
       "      <td>125.0</td>\n",
       "      <td>5000.0</td>\n",
       "      <td>...</td>\n",
       "      <td>8577.36</td>\n",
       "      <td>152.64</td>\n",
       "      <td>112683.68</td>\n",
       "      <td>1194.654791</td>\n",
       "      <td>0.627870</td>\n",
       "      <td>0.703438</td>\n",
       "      <td>0.799574</td>\n",
       "      <td>-9.275840</td>\n",
       "      <td>87.273964</td>\n",
       "      <td>0.849157</td>\n",
       "    </tr>\n",
       "  </tbody>\n",
       "</table>\n",
       "<p>3 rows × 25 columns</p>\n",
       "</div>"
      ],
      "text/plain": [
       "  client_type_x  amount_in_company_currency_mean  \\\n",
       "0        Direct                      2911.442227   \n",
       "1   Distributor                      2550.127918   \n",
       "2     Wholesale                      2709.169568   \n",
       "\n",
       "   amount_in_company_currency_median  amount_in_company_currency_max  \\\n",
       "0                            1756.90                        137620.0   \n",
       "1                            1377.24                         96543.7   \n",
       "2                            1350.00                         26200.0   \n",
       "\n",
       "   amount_in_company_currency_min  amount_in_company_currency_sum  \\\n",
       "0                             0.0                    7.176705e+06   \n",
       "1                             0.0                    1.566034e+07   \n",
       "2                             0.0                    3.765746e+05   \n",
       "\n",
       "   amount_in_company_currency_std  total_deal_quantity_mean  \\\n",
       "0                     4221.286397                235.701420   \n",
       "1                     4206.029857                329.202214   \n",
       "2                     3909.792768                352.179856   \n",
       "\n",
       "   total_deal_quantity_median  total_deal_quantity_max  ...  \\\n",
       "0                       120.0                  20000.0  ...   \n",
       "1                       150.0                  20135.0  ...   \n",
       "2                       125.0                   5000.0  ...   \n",
       "\n",
       "   total_sku_cost_max  total_sku_cost_min  total_sku_cost_sum  \\\n",
       "0            30460.80                3.60          1465249.71   \n",
       "1            32000.00                1.80          4710149.96   \n",
       "2             8577.36              152.64           112683.68   \n",
       "\n",
       "   total_sku_cost_std  gross_margin_mean  gross_margin_median  \\\n",
       "0          886.536058           0.772953             0.789803   \n",
       "1         1292.035739           0.683572             0.700995   \n",
       "2         1194.654791           0.627870             0.703438   \n",
       "\n",
       "   gross_margin_max  gross_margin_min  gross_margin_sum  gross_margin_std  \n",
       "0          0.949503        -10.320000       1905.330021          0.346568  \n",
       "1          0.979429         -8.457158       4198.500837          0.194530  \n",
       "2          0.799574         -9.275840         87.273964          0.849157  \n",
       "\n",
       "[3 rows x 25 columns]"
      ]
     },
     "execution_count": 27,
     "metadata": {},
     "output_type": "execute_result"
    }
   ],
   "source": [
    "# GroupBy Client_type_x Summary Stats 2023\n",
    "\n",
    "# Define the group by column\n",
    "group_by_column = \"client_type_x\"\n",
    "\n",
    "# Set the display format for floating-point numbers\n",
    "pd.options.display.float_format = '{:.2f}'.format\n",
    "\n",
    "# Define the list of columns for summary statistics\n",
    "list_of_columns = [\"amount_in_company_currency\", \"total_deal_quantity\", \"total_sku_cost\", \"gross_margin\"]\n",
    "\n",
    "# Convert columns to numeric data types - dont change!\n",
    "filtered_deal_prod_2023_df[list_of_columns] = filtered_deal_prod_2023_df[list_of_columns].apply(pd.to_numeric, errors='coerce')\n",
    "\n",
    "# Perform group by and summary statistics on selected columns\n",
    "grouped_client_sum_2023_df = filtered_deal_prod_2023_df.groupby(group_by_column)[list_of_columns].agg(['mean', 'median', 'max', 'min', 'sum', 'std'])\n",
    "\n",
    "# Reset the column names to remove the multi-level index\n",
    "grouped_client_sum_2023_df.columns = grouped_client_sum_2023_df.columns.map('_'.join)\n",
    "\n",
    "# Reset the index and move \"client_type_x\" column to the first position\n",
    "grouped_client_sum_2023_df = grouped_client_sum_2023_df.reset_index()\n",
    "\n",
    "# Save the summary DataFrame as a new CSV file with right-justified numbers\n",
    "grouped_client_sum_2023_df.to_csv('grouped_summary_2023_client.csv', index=False, float_format='%.2f')\n",
    "\n",
    "# Reset the display format to the default\n",
    "pd.options.display.float_format = None\n",
    "\n",
    "# Print the first 5 records\n",
    "grouped_client_sum_2023_df.head()\n"
   ]
  },
  {
   "cell_type": "markdown",
   "metadata": {},
   "source": [
    "Group by the business type for Existing and New Business and generate summary statistics of revenue, quantity, costs, and gross margin for each in 2022."
   ]
  },
  {
   "cell_type": "code",
   "execution_count": 28,
   "metadata": {},
   "outputs": [
    {
     "name": "stderr",
     "output_type": "stream",
     "text": [
      "C:\\Users\\KatreeceHattaway\\AppData\\Local\\Temp\\ipykernel_1456\\3524834538.py:13: SettingWithCopyWarning: \n",
      "A value is trying to be set on a copy of a slice from a DataFrame.\n",
      "Try using .loc[row_indexer,col_indexer] = value instead\n",
      "\n",
      "See the caveats in the documentation: https://pandas.pydata.org/pandas-docs/stable/user_guide/indexing.html#returning-a-view-versus-a-copy\n",
      "  filtered_deal_prod_2022_df[list_of_columns] = filtered_deal_prod_2022_df[list_of_columns].apply(pd.to_numeric, errors='coerce')\n"
     ]
    },
    {
     "data": {
      "text/html": [
       "<div>\n",
       "<style scoped>\n",
       "    .dataframe tbody tr th:only-of-type {\n",
       "        vertical-align: middle;\n",
       "    }\n",
       "\n",
       "    .dataframe tbody tr th {\n",
       "        vertical-align: top;\n",
       "    }\n",
       "\n",
       "    .dataframe thead th {\n",
       "        text-align: right;\n",
       "    }\n",
       "</style>\n",
       "<table border=\"1\" class=\"dataframe\">\n",
       "  <thead>\n",
       "    <tr style=\"text-align: right;\">\n",
       "      <th></th>\n",
       "      <th>deal_type_x</th>\n",
       "      <th>amount_in_company_currency_mean</th>\n",
       "      <th>amount_in_company_currency_median</th>\n",
       "      <th>amount_in_company_currency_max</th>\n",
       "      <th>amount_in_company_currency_min</th>\n",
       "      <th>amount_in_company_currency_sum</th>\n",
       "      <th>amount_in_company_currency_std</th>\n",
       "      <th>total_deal_quantity_mean</th>\n",
       "      <th>total_deal_quantity_median</th>\n",
       "      <th>total_deal_quantity_max</th>\n",
       "      <th>...</th>\n",
       "      <th>total_sku_cost_max</th>\n",
       "      <th>total_sku_cost_min</th>\n",
       "      <th>total_sku_cost_sum</th>\n",
       "      <th>total_sku_cost_std</th>\n",
       "      <th>gross_margin_mean</th>\n",
       "      <th>gross_margin_median</th>\n",
       "      <th>gross_margin_max</th>\n",
       "      <th>gross_margin_min</th>\n",
       "      <th>gross_margin_sum</th>\n",
       "      <th>gross_margin_std</th>\n",
       "    </tr>\n",
       "  </thead>\n",
       "  <tbody>\n",
       "    <tr>\n",
       "      <th>0</th>\n",
       "      <td>Existing Business</td>\n",
       "      <td>2687.457308</td>\n",
       "      <td>1542.00</td>\n",
       "      <td>151035.11</td>\n",
       "      <td>0.0</td>\n",
       "      <td>17218538.97</td>\n",
       "      <td>4684.998398</td>\n",
       "      <td>349.005462</td>\n",
       "      <td>150.0</td>\n",
       "      <td>25085.0</td>\n",
       "      <td>...</td>\n",
       "      <td>43086.72</td>\n",
       "      <td>122.76</td>\n",
       "      <td>4976833.12</td>\n",
       "      <td>1362.254481</td>\n",
       "      <td>0.693410</td>\n",
       "      <td>0.701794</td>\n",
       "      <td>0.936176</td>\n",
       "      <td>-3.236384</td>\n",
       "      <td>4443.368197</td>\n",
       "      <td>0.105344</td>\n",
       "    </tr>\n",
       "    <tr>\n",
       "      <th>1</th>\n",
       "      <td>New Business</td>\n",
       "      <td>2521.080793</td>\n",
       "      <td>1613.52</td>\n",
       "      <td>44700.00</td>\n",
       "      <td>0.0</td>\n",
       "      <td>4227852.49</td>\n",
       "      <td>3125.186893</td>\n",
       "      <td>262.996422</td>\n",
       "      <td>120.0</td>\n",
       "      <td>10000.0</td>\n",
       "      <td>...</td>\n",
       "      <td>13744.08</td>\n",
       "      <td>91.52</td>\n",
       "      <td>1053511.16</td>\n",
       "      <td>789.906852</td>\n",
       "      <td>0.726632</td>\n",
       "      <td>0.763596</td>\n",
       "      <td>0.947046</td>\n",
       "      <td>-10.352000</td>\n",
       "      <td>1218.561143</td>\n",
       "      <td>0.291215</td>\n",
       "    </tr>\n",
       "  </tbody>\n",
       "</table>\n",
       "<p>2 rows × 25 columns</p>\n",
       "</div>"
      ],
      "text/plain": [
       "         deal_type_x  amount_in_company_currency_mean  \\\n",
       "0  Existing Business                      2687.457308   \n",
       "1       New Business                      2521.080793   \n",
       "\n",
       "   amount_in_company_currency_median  amount_in_company_currency_max  \\\n",
       "0                            1542.00                       151035.11   \n",
       "1                            1613.52                        44700.00   \n",
       "\n",
       "   amount_in_company_currency_min  amount_in_company_currency_sum  \\\n",
       "0                             0.0                     17218538.97   \n",
       "1                             0.0                      4227852.49   \n",
       "\n",
       "   amount_in_company_currency_std  total_deal_quantity_mean  \\\n",
       "0                     4684.998398                349.005462   \n",
       "1                     3125.186893                262.996422   \n",
       "\n",
       "   total_deal_quantity_median  total_deal_quantity_max  ...  \\\n",
       "0                       150.0                  25085.0  ...   \n",
       "1                       120.0                  10000.0  ...   \n",
       "\n",
       "   total_sku_cost_max  total_sku_cost_min  total_sku_cost_sum  \\\n",
       "0            43086.72              122.76          4976833.12   \n",
       "1            13744.08               91.52          1053511.16   \n",
       "\n",
       "   total_sku_cost_std  gross_margin_mean  gross_margin_median  \\\n",
       "0         1362.254481           0.693410             0.701794   \n",
       "1          789.906852           0.726632             0.763596   \n",
       "\n",
       "   gross_margin_max  gross_margin_min  gross_margin_sum  gross_margin_std  \n",
       "0          0.936176         -3.236384       4443.368197          0.105344  \n",
       "1          0.947046        -10.352000       1218.561143          0.291215  \n",
       "\n",
       "[2 rows x 25 columns]"
      ]
     },
     "execution_count": 28,
     "metadata": {},
     "output_type": "execute_result"
    }
   ],
   "source": [
    "# GroupBy deal_type_x Summary Stats 2022\n",
    "\n",
    "# Define the group by column\n",
    "group_by_column = \"deal_type_x\"\n",
    "\n",
    "# Set the display format for floating-point numbers\n",
    "pd.options.display.float_format = '{:.2f}'.format\n",
    "\n",
    "# Define the list of columns for summary statistics\n",
    "list_of_columns = [\"amount_in_company_currency\", \"total_deal_quantity\", \"total_sku_cost\", \"gross_margin\"]\n",
    "\n",
    "# Convert columns to numeric data types - dont change!\n",
    "filtered_deal_prod_2022_df[list_of_columns] = filtered_deal_prod_2022_df[list_of_columns].apply(pd.to_numeric, errors='coerce')\n",
    "\n",
    "# Perform group by and summary statistics on selected columns\n",
    "grouped_dealtype_sum_2022_df = filtered_deal_prod_2022_df.groupby(group_by_column)[list_of_columns].agg(['mean', 'median', 'max', 'min', 'sum', 'std'])\n",
    "\n",
    "# Reset the column names to remove the multi-level index\n",
    "grouped_dealtype_sum_2022_df.columns = grouped_dealtype_sum_2022_df.columns.map('_'.join)\n",
    "\n",
    "# Reset the index and move \"client_type_x\" column to the first position\n",
    "grouped_dealtype_sum_2022_df = grouped_dealtype_sum_2022_df.reset_index()\n",
    "\n",
    "# Save the summary DataFrame as a new CSV file with right-justified numbers\n",
    "grouped_dealtype_sum_2022_df.to_csv('grouped_summary_2022_dealtype.csv', index=False, float_format='%.2f')\n",
    "\n",
    "# Reset the display format to the default\n",
    "pd.options.display.float_format = None\n",
    "\n",
    "# Print the first 5 records\n",
    "grouped_dealtype_sum_2022_df.head()"
   ]
  },
  {
   "cell_type": "code",
   "execution_count": 29,
   "metadata": {},
   "outputs": [
    {
     "name": "stderr",
     "output_type": "stream",
     "text": [
      "C:\\Users\\KatreeceHattaway\\AppData\\Local\\Temp\\ipykernel_1456\\4110215136.py:13: SettingWithCopyWarning: \n",
      "A value is trying to be set on a copy of a slice from a DataFrame.\n",
      "Try using .loc[row_indexer,col_indexer] = value instead\n",
      "\n",
      "See the caveats in the documentation: https://pandas.pydata.org/pandas-docs/stable/user_guide/indexing.html#returning-a-view-versus-a-copy\n",
      "  filtered_deal_prod_2023_df[list_of_columns] = filtered_deal_prod_2023_df[list_of_columns].apply(pd.to_numeric, errors='coerce')\n"
     ]
    },
    {
     "data": {
      "text/html": [
       "<div>\n",
       "<style scoped>\n",
       "    .dataframe tbody tr th:only-of-type {\n",
       "        vertical-align: middle;\n",
       "    }\n",
       "\n",
       "    .dataframe tbody tr th {\n",
       "        vertical-align: top;\n",
       "    }\n",
       "\n",
       "    .dataframe thead th {\n",
       "        text-align: right;\n",
       "    }\n",
       "</style>\n",
       "<table border=\"1\" class=\"dataframe\">\n",
       "  <thead>\n",
       "    <tr style=\"text-align: right;\">\n",
       "      <th></th>\n",
       "      <th>deal_type_x</th>\n",
       "      <th>amount_in_company_currency_mean</th>\n",
       "      <th>amount_in_company_currency_median</th>\n",
       "      <th>amount_in_company_currency_max</th>\n",
       "      <th>amount_in_company_currency_min</th>\n",
       "      <th>amount_in_company_currency_sum</th>\n",
       "      <th>amount_in_company_currency_std</th>\n",
       "      <th>total_deal_quantity_mean</th>\n",
       "      <th>total_deal_quantity_median</th>\n",
       "      <th>total_deal_quantity_max</th>\n",
       "      <th>...</th>\n",
       "      <th>total_sku_cost_max</th>\n",
       "      <th>total_sku_cost_min</th>\n",
       "      <th>total_sku_cost_sum</th>\n",
       "      <th>total_sku_cost_std</th>\n",
       "      <th>gross_margin_mean</th>\n",
       "      <th>gross_margin_median</th>\n",
       "      <th>gross_margin_max</th>\n",
       "      <th>gross_margin_min</th>\n",
       "      <th>gross_margin_sum</th>\n",
       "      <th>gross_margin_std</th>\n",
       "    </tr>\n",
       "  </thead>\n",
       "  <tbody>\n",
       "    <tr>\n",
       "      <th>0</th>\n",
       "      <td>Existing Business</td>\n",
       "      <td>2746.122582</td>\n",
       "      <td>1600.0</td>\n",
       "      <td>137620.0</td>\n",
       "      <td>0.0</td>\n",
       "      <td>1.917068e+07</td>\n",
       "      <td>4312.504078</td>\n",
       "      <td>326.212720</td>\n",
       "      <td>150.0</td>\n",
       "      <td>20000.0</td>\n",
       "      <td>...</td>\n",
       "      <td>30460.8</td>\n",
       "      <td>1.8</td>\n",
       "      <td>5303107.00</td>\n",
       "      <td>1185.941212</td>\n",
       "      <td>0.702907</td>\n",
       "      <td>0.711094</td>\n",
       "      <td>0.979429</td>\n",
       "      <td>-10.054187</td>\n",
       "      <td>4906.995673</td>\n",
       "      <td>0.242656</td>\n",
       "    </tr>\n",
       "    <tr>\n",
       "      <th>1</th>\n",
       "      <td>New Business</td>\n",
       "      <td>2289.881867</td>\n",
       "      <td>1520.4</td>\n",
       "      <td>96543.7</td>\n",
       "      <td>0.0</td>\n",
       "      <td>4.034772e+06</td>\n",
       "      <td>3749.069419</td>\n",
       "      <td>211.784458</td>\n",
       "      <td>120.0</td>\n",
       "      <td>20135.0</td>\n",
       "      <td>...</td>\n",
       "      <td>32000.0</td>\n",
       "      <td>3.6</td>\n",
       "      <td>982250.31</td>\n",
       "      <td>1205.827900</td>\n",
       "      <td>0.727597</td>\n",
       "      <td>0.765627</td>\n",
       "      <td>0.979429</td>\n",
       "      <td>-10.320000</td>\n",
       "      <td>1282.754034</td>\n",
       "      <td>0.362034</td>\n",
       "    </tr>\n",
       "  </tbody>\n",
       "</table>\n",
       "<p>2 rows × 25 columns</p>\n",
       "</div>"
      ],
      "text/plain": [
       "         deal_type_x  amount_in_company_currency_mean  \\\n",
       "0  Existing Business                      2746.122582   \n",
       "1       New Business                      2289.881867   \n",
       "\n",
       "   amount_in_company_currency_median  amount_in_company_currency_max  \\\n",
       "0                             1600.0                        137620.0   \n",
       "1                             1520.4                         96543.7   \n",
       "\n",
       "   amount_in_company_currency_min  amount_in_company_currency_sum  \\\n",
       "0                             0.0                    1.917068e+07   \n",
       "1                             0.0                    4.034772e+06   \n",
       "\n",
       "   amount_in_company_currency_std  total_deal_quantity_mean  \\\n",
       "0                     4312.504078                326.212720   \n",
       "1                     3749.069419                211.784458   \n",
       "\n",
       "   total_deal_quantity_median  total_deal_quantity_max  ...  \\\n",
       "0                       150.0                  20000.0  ...   \n",
       "1                       120.0                  20135.0  ...   \n",
       "\n",
       "   total_sku_cost_max  total_sku_cost_min  total_sku_cost_sum  \\\n",
       "0             30460.8                 1.8          5303107.00   \n",
       "1             32000.0                 3.6           982250.31   \n",
       "\n",
       "   total_sku_cost_std  gross_margin_mean  gross_margin_median  \\\n",
       "0         1185.941212           0.702907             0.711094   \n",
       "1         1205.827900           0.727597             0.765627   \n",
       "\n",
       "   gross_margin_max  gross_margin_min  gross_margin_sum  gross_margin_std  \n",
       "0          0.979429        -10.054187       4906.995673          0.242656  \n",
       "1          0.979429        -10.320000       1282.754034          0.362034  \n",
       "\n",
       "[2 rows x 25 columns]"
      ]
     },
     "execution_count": 29,
     "metadata": {},
     "output_type": "execute_result"
    }
   ],
   "source": [
    "# GroupBy deal_type_x Summary Stats 2023\n",
    "\n",
    "# Define the group by column\n",
    "group_by_column = \"deal_type_x\"\n",
    "\n",
    "# Set the display format for floating-point numbers\n",
    "pd.options.display.float_format = '{:.2f}'.format\n",
    "\n",
    "# Define the list of columns for summary statistics\n",
    "list_of_columns = [\"amount_in_company_currency\", \"total_deal_quantity\", \"total_sku_cost\", \"gross_margin\"]\n",
    "\n",
    "# Convert columns to numeric data types - dont change!\n",
    "filtered_deal_prod_2023_df[list_of_columns] = filtered_deal_prod_2023_df[list_of_columns].apply(pd.to_numeric, errors='coerce')\n",
    "\n",
    "# Perform group by and summary statistics on selected columns\n",
    "grouped_dealtype_sum_2023_df = filtered_deal_prod_2023_df.groupby(group_by_column)[list_of_columns].agg(['mean', 'median', 'max', 'min', 'sum', 'std'])\n",
    "\n",
    "# Reset the column names to remove the multi-level index\n",
    "grouped_dealtype_sum_2023_df.columns = grouped_dealtype_sum_2023_df.columns.map('_'.join)\n",
    "\n",
    "# Reset the index and move \"client_type_x\" column to the first position\n",
    "grouped_dealtype_sum_2023_df = grouped_dealtype_sum_2023_df.reset_index()\n",
    "\n",
    "# Save the summary DataFrame as a new CSV file with right-justified numbers\n",
    "grouped_dealtype_sum_2023_df.to_csv('grouped_summary_2023_dealtype.csv', index=False, float_format='%.2f')\n",
    "\n",
    "# Reset the display format to the default\n",
    "pd.options.display.float_format = None\n",
    "\n",
    "# Print the first 5 records\n",
    "grouped_dealtype_sum_2023_df.head()\n"
   ]
  },
  {
   "cell_type": "code",
   "execution_count": 30,
   "metadata": {},
   "outputs": [
    {
     "name": "stderr",
     "output_type": "stream",
     "text": [
      "C:\\Users\\KatreeceHattaway\\AppData\\Local\\Temp\\ipykernel_1456\\4286649069.py:13: SettingWithCopyWarning: \n",
      "A value is trying to be set on a copy of a slice from a DataFrame.\n",
      "Try using .loc[row_indexer,col_indexer] = value instead\n",
      "\n",
      "See the caveats in the documentation: https://pandas.pydata.org/pandas-docs/stable/user_guide/indexing.html#returning-a-view-versus-a-copy\n",
      "  filtered_deal_prod_2022_df[list_of_columns] = filtered_deal_prod_2022_df[list_of_columns].apply(pd.to_numeric, errors='coerce')\n"
     ]
    },
    {
     "data": {
      "text/html": [
       "<div>\n",
       "<style scoped>\n",
       "    .dataframe tbody tr th:only-of-type {\n",
       "        vertical-align: middle;\n",
       "    }\n",
       "\n",
       "    .dataframe tbody tr th {\n",
       "        vertical-align: top;\n",
       "    }\n",
       "\n",
       "    .dataframe thead th {\n",
       "        text-align: right;\n",
       "    }\n",
       "</style>\n",
       "<table border=\"1\" class=\"dataframe\">\n",
       "  <thead>\n",
       "    <tr style=\"text-align: right;\">\n",
       "      <th></th>\n",
       "      <th>chassis</th>\n",
       "      <th>amount_in_company_currency_mean</th>\n",
       "      <th>amount_in_company_currency_median</th>\n",
       "      <th>amount_in_company_currency_max</th>\n",
       "      <th>amount_in_company_currency_min</th>\n",
       "      <th>amount_in_company_currency_sum</th>\n",
       "      <th>amount_in_company_currency_std</th>\n",
       "      <th>total_deal_quantity_mean</th>\n",
       "      <th>total_deal_quantity_median</th>\n",
       "      <th>total_deal_quantity_max</th>\n",
       "      <th>...</th>\n",
       "      <th>total_sku_cost_max</th>\n",
       "      <th>total_sku_cost_min</th>\n",
       "      <th>total_sku_cost_sum</th>\n",
       "      <th>total_sku_cost_std</th>\n",
       "      <th>gross_margin_mean</th>\n",
       "      <th>gross_margin_median</th>\n",
       "      <th>gross_margin_max</th>\n",
       "      <th>gross_margin_min</th>\n",
       "      <th>gross_margin_sum</th>\n",
       "      <th>gross_margin_std</th>\n",
       "    </tr>\n",
       "  </thead>\n",
       "  <tbody>\n",
       "    <tr>\n",
       "      <th>0</th>\n",
       "      <td>10.0</td>\n",
       "      <td>2634.761890</td>\n",
       "      <td>1556.0</td>\n",
       "      <td>151035.11</td>\n",
       "      <td>0.0</td>\n",
       "      <td>17323559.43</td>\n",
       "      <td>4440.633333</td>\n",
       "      <td>329.302920</td>\n",
       "      <td>150.0</td>\n",
       "      <td>25085.0</td>\n",
       "      <td>...</td>\n",
       "      <td>43086.72</td>\n",
       "      <td>122.88</td>\n",
       "      <td>4848102.36</td>\n",
       "      <td>1266.446147</td>\n",
       "      <td>0.702422</td>\n",
       "      <td>0.711761</td>\n",
       "      <td>0.936176</td>\n",
       "      <td>-10.352000</td>\n",
       "      <td>4619.126462</td>\n",
       "      <td>0.166363</td>\n",
       "    </tr>\n",
       "    <tr>\n",
       "      <th>1</th>\n",
       "      <td>11.0</td>\n",
       "      <td>1563.877500</td>\n",
       "      <td>1052.0</td>\n",
       "      <td>10272.00</td>\n",
       "      <td>642.6</td>\n",
       "      <td>31277.55</td>\n",
       "      <td>2088.969982</td>\n",
       "      <td>173.700000</td>\n",
       "      <td>90.0</td>\n",
       "      <td>1600.0</td>\n",
       "      <td>...</td>\n",
       "      <td>3369.60</td>\n",
       "      <td>203.76</td>\n",
       "      <td>9863.04</td>\n",
       "      <td>688.075600</td>\n",
       "      <td>0.685180</td>\n",
       "      <td>0.678588</td>\n",
       "      <td>0.797857</td>\n",
       "      <td>0.620693</td>\n",
       "      <td>13.703602</td>\n",
       "      <td>0.054337</td>\n",
       "    </tr>\n",
       "    <tr>\n",
       "      <th>2</th>\n",
       "      <td>12.0</td>\n",
       "      <td>3261.666228</td>\n",
       "      <td>1849.2</td>\n",
       "      <td>60910.00</td>\n",
       "      <td>0.0</td>\n",
       "      <td>544698.26</td>\n",
       "      <td>5558.377930</td>\n",
       "      <td>417.215569</td>\n",
       "      <td>240.0</td>\n",
       "      <td>12000.0</td>\n",
       "      <td>...</td>\n",
       "      <td>18151.92</td>\n",
       "      <td>122.76</td>\n",
       "      <td>144775.80</td>\n",
       "      <td>1551.868812</td>\n",
       "      <td>0.714844</td>\n",
       "      <td>0.734725</td>\n",
       "      <td>0.852702</td>\n",
       "      <td>0.000000</td>\n",
       "      <td>119.378965</td>\n",
       "      <td>0.104920</td>\n",
       "    </tr>\n",
       "    <tr>\n",
       "      <th>3</th>\n",
       "      <td>13.0</td>\n",
       "      <td>4300.806923</td>\n",
       "      <td>1629.6</td>\n",
       "      <td>29075.46</td>\n",
       "      <td>1330.0</td>\n",
       "      <td>111820.98</td>\n",
       "      <td>6179.321913</td>\n",
       "      <td>840.692308</td>\n",
       "      <td>244.0</td>\n",
       "      <td>10000.0</td>\n",
       "      <td>...</td>\n",
       "      <td>12024.00</td>\n",
       "      <td>313.20</td>\n",
       "      <td>33967.80</td>\n",
       "      <td>2426.090261</td>\n",
       "      <td>0.747570</td>\n",
       "      <td>0.770892</td>\n",
       "      <td>0.817323</td>\n",
       "      <td>0.471472</td>\n",
       "      <td>19.436815</td>\n",
       "      <td>0.081224</td>\n",
       "    </tr>\n",
       "    <tr>\n",
       "      <th>4</th>\n",
       "      <td>14.0</td>\n",
       "      <td>4415.360000</td>\n",
       "      <td>3529.4</td>\n",
       "      <td>9389.52</td>\n",
       "      <td>1521.6</td>\n",
       "      <td>35322.88</td>\n",
       "      <td>3175.203871</td>\n",
       "      <td>700.000000</td>\n",
       "      <td>680.0</td>\n",
       "      <td>1600.0</td>\n",
       "      <td>...</td>\n",
       "      <td>2366.40</td>\n",
       "      <td>313.20</td>\n",
       "      <td>9594.72</td>\n",
       "      <td>866.206169</td>\n",
       "      <td>0.738830</td>\n",
       "      <td>0.753916</td>\n",
       "      <td>0.801017</td>\n",
       "      <td>0.653630</td>\n",
       "      <td>5.910641</td>\n",
       "      <td>0.056916</td>\n",
       "    </tr>\n",
       "  </tbody>\n",
       "</table>\n",
       "<p>5 rows × 25 columns</p>\n",
       "</div>"
      ],
      "text/plain": [
       "   chassis  amount_in_company_currency_mean  \\\n",
       "0     10.0                      2634.761890   \n",
       "1     11.0                      1563.877500   \n",
       "2     12.0                      3261.666228   \n",
       "3     13.0                      4300.806923   \n",
       "4     14.0                      4415.360000   \n",
       "\n",
       "   amount_in_company_currency_median  amount_in_company_currency_max  \\\n",
       "0                             1556.0                       151035.11   \n",
       "1                             1052.0                        10272.00   \n",
       "2                             1849.2                        60910.00   \n",
       "3                             1629.6                        29075.46   \n",
       "4                             3529.4                         9389.52   \n",
       "\n",
       "   amount_in_company_currency_min  amount_in_company_currency_sum  \\\n",
       "0                             0.0                     17323559.43   \n",
       "1                           642.6                        31277.55   \n",
       "2                             0.0                       544698.26   \n",
       "3                          1330.0                       111820.98   \n",
       "4                          1521.6                        35322.88   \n",
       "\n",
       "   amount_in_company_currency_std  total_deal_quantity_mean  \\\n",
       "0                     4440.633333                329.302920   \n",
       "1                     2088.969982                173.700000   \n",
       "2                     5558.377930                417.215569   \n",
       "3                     6179.321913                840.692308   \n",
       "4                     3175.203871                700.000000   \n",
       "\n",
       "   total_deal_quantity_median  total_deal_quantity_max  ...  \\\n",
       "0                       150.0                  25085.0  ...   \n",
       "1                        90.0                   1600.0  ...   \n",
       "2                       240.0                  12000.0  ...   \n",
       "3                       244.0                  10000.0  ...   \n",
       "4                       680.0                   1600.0  ...   \n",
       "\n",
       "   total_sku_cost_max  total_sku_cost_min  total_sku_cost_sum  \\\n",
       "0            43086.72              122.88          4848102.36   \n",
       "1             3369.60              203.76             9863.04   \n",
       "2            18151.92              122.76           144775.80   \n",
       "3            12024.00              313.20            33967.80   \n",
       "4             2366.40              313.20             9594.72   \n",
       "\n",
       "   total_sku_cost_std  gross_margin_mean  gross_margin_median  \\\n",
       "0         1266.446147           0.702422             0.711761   \n",
       "1          688.075600           0.685180             0.678588   \n",
       "2         1551.868812           0.714844             0.734725   \n",
       "3         2426.090261           0.747570             0.770892   \n",
       "4          866.206169           0.738830             0.753916   \n",
       "\n",
       "   gross_margin_max  gross_margin_min  gross_margin_sum  gross_margin_std  \n",
       "0          0.936176        -10.352000       4619.126462          0.166363  \n",
       "1          0.797857          0.620693         13.703602          0.054337  \n",
       "2          0.852702          0.000000        119.378965          0.104920  \n",
       "3          0.817323          0.471472         19.436815          0.081224  \n",
       "4          0.801017          0.653630          5.910641          0.056916  \n",
       "\n",
       "[5 rows x 25 columns]"
      ]
     },
     "execution_count": 30,
     "metadata": {},
     "output_type": "execute_result"
    }
   ],
   "source": [
    "# GroupBy chassis Summary Stats 2022\n",
    "\n",
    "# Define the group by column\n",
    "group_by_column = \"chassis\"\n",
    "\n",
    "# Set the display format for floating-point numbers\n",
    "pd.options.display.float_format = '{:.2f}'.format\n",
    "\n",
    "# Define the list of columns for summary statistics\n",
    "list_of_columns = [\"amount_in_company_currency\", \"total_deal_quantity\", \"total_sku_cost\", \"gross_margin\"]\n",
    "\n",
    "# Convert columns to numeric data types - dont change!\n",
    "filtered_deal_prod_2022_df[list_of_columns] = filtered_deal_prod_2022_df[list_of_columns].apply(pd.to_numeric, errors='coerce')\n",
    "\n",
    "# Perform group by and summary statistics on selected columns\n",
    "grouped_chassis_sum_2022_df = filtered_deal_prod_2022_df.groupby(group_by_column)[list_of_columns].agg(['mean', 'median', 'max', 'min', 'sum', 'std'])\n",
    "\n",
    "# Reset the column names to remove the multi-level index\n",
    "grouped_chassis_sum_2022_df.columns = grouped_chassis_sum_2022_df.columns.map('_'.join)\n",
    "\n",
    "# Reset the index and move \"client_type_x\" column to the first position\n",
    "grouped_chassis_sum_2022_df = grouped_chassis_sum_2022_df.reset_index()\n",
    "\n",
    "# Save the summary DataFrame as a new CSV file with right-justified numbers\n",
    "grouped_chassis_sum_2022_df.to_csv('grouped_summary_2022_chassis.csv', index=False, float_format='%.2f')\n",
    "\n",
    "# Reset the display format to the default\n",
    "pd.options.display.float_format = None\n",
    "\n",
    "# Print the first 5 records\n",
    "grouped_chassis_sum_2022_df.head()"
   ]
  },
  {
   "cell_type": "code",
   "execution_count": 31,
   "metadata": {},
   "outputs": [
    {
     "name": "stderr",
     "output_type": "stream",
     "text": [
      "C:\\Users\\KatreeceHattaway\\AppData\\Local\\Temp\\ipykernel_1456\\1292538113.py:13: SettingWithCopyWarning: \n",
      "A value is trying to be set on a copy of a slice from a DataFrame.\n",
      "Try using .loc[row_indexer,col_indexer] = value instead\n",
      "\n",
      "See the caveats in the documentation: https://pandas.pydata.org/pandas-docs/stable/user_guide/indexing.html#returning-a-view-versus-a-copy\n",
      "  filtered_deal_prod_2023_df[list_of_columns] = filtered_deal_prod_2023_df[list_of_columns].apply(pd.to_numeric, errors='coerce')\n"
     ]
    },
    {
     "data": {
      "text/html": [
       "<div>\n",
       "<style scoped>\n",
       "    .dataframe tbody tr th:only-of-type {\n",
       "        vertical-align: middle;\n",
       "    }\n",
       "\n",
       "    .dataframe tbody tr th {\n",
       "        vertical-align: top;\n",
       "    }\n",
       "\n",
       "    .dataframe thead th {\n",
       "        text-align: right;\n",
       "    }\n",
       "</style>\n",
       "<table border=\"1\" class=\"dataframe\">\n",
       "  <thead>\n",
       "    <tr style=\"text-align: right;\">\n",
       "      <th></th>\n",
       "      <th>chassis</th>\n",
       "      <th>amount_in_company_currency_mean</th>\n",
       "      <th>amount_in_company_currency_median</th>\n",
       "      <th>amount_in_company_currency_max</th>\n",
       "      <th>amount_in_company_currency_min</th>\n",
       "      <th>amount_in_company_currency_sum</th>\n",
       "      <th>amount_in_company_currency_std</th>\n",
       "      <th>total_deal_quantity_mean</th>\n",
       "      <th>total_deal_quantity_median</th>\n",
       "      <th>total_deal_quantity_max</th>\n",
       "      <th>...</th>\n",
       "      <th>total_sku_cost_max</th>\n",
       "      <th>total_sku_cost_min</th>\n",
       "      <th>total_sku_cost_sum</th>\n",
       "      <th>total_sku_cost_std</th>\n",
       "      <th>gross_margin_mean</th>\n",
       "      <th>gross_margin_median</th>\n",
       "      <th>gross_margin_max</th>\n",
       "      <th>gross_margin_min</th>\n",
       "      <th>gross_margin_sum</th>\n",
       "      <th>gross_margin_std</th>\n",
       "    </tr>\n",
       "  </thead>\n",
       "  <tbody>\n",
       "    <tr>\n",
       "      <th>0</th>\n",
       "      <td>10.0</td>\n",
       "      <td>2626.250230</td>\n",
       "      <td>1520.57</td>\n",
       "      <td>137620.00</td>\n",
       "      <td>0.0</td>\n",
       "      <td>17259716.51</td>\n",
       "      <td>4181.997698</td>\n",
       "      <td>315.479610</td>\n",
       "      <td>150.0</td>\n",
       "      <td>20135.0</td>\n",
       "      <td>...</td>\n",
       "      <td>30624.96</td>\n",
       "      <td>114.48</td>\n",
       "      <td>4715492.12</td>\n",
       "      <td>1169.509711</td>\n",
       "      <td>0.707089</td>\n",
       "      <td>0.719845</td>\n",
       "      <td>0.949503</td>\n",
       "      <td>-10.320000</td>\n",
       "      <td>4646.990569</td>\n",
       "      <td>0.287958</td>\n",
       "    </tr>\n",
       "    <tr>\n",
       "      <th>1</th>\n",
       "      <td>11.0</td>\n",
       "      <td>1873.879310</td>\n",
       "      <td>1347.00</td>\n",
       "      <td>9917.59</td>\n",
       "      <td>526.8</td>\n",
       "      <td>54342.50</td>\n",
       "      <td>1835.833807</td>\n",
       "      <td>184.586207</td>\n",
       "      <td>120.0</td>\n",
       "      <td>850.0</td>\n",
       "      <td>...</td>\n",
       "      <td>1883.52</td>\n",
       "      <td>203.76</td>\n",
       "      <td>15489.00</td>\n",
       "      <td>400.177972</td>\n",
       "      <td>0.692383</td>\n",
       "      <td>0.690710</td>\n",
       "      <td>0.810083</td>\n",
       "      <td>0.544875</td>\n",
       "      <td>20.079121</td>\n",
       "      <td>0.048803</td>\n",
       "    </tr>\n",
       "    <tr>\n",
       "      <th>2</th>\n",
       "      <td>12.0</td>\n",
       "      <td>3086.262014</td>\n",
       "      <td>1797.60</td>\n",
       "      <td>25228.00</td>\n",
       "      <td>0.0</td>\n",
       "      <td>428990.42</td>\n",
       "      <td>4084.892610</td>\n",
       "      <td>376.561151</td>\n",
       "      <td>200.0</td>\n",
       "      <td>4760.0</td>\n",
       "      <td>...</td>\n",
       "      <td>6065.52</td>\n",
       "      <td>160.56</td>\n",
       "      <td>109303.16</td>\n",
       "      <td>970.266606</td>\n",
       "      <td>0.720244</td>\n",
       "      <td>0.741161</td>\n",
       "      <td>0.847830</td>\n",
       "      <td>0.000000</td>\n",
       "      <td>100.113863</td>\n",
       "      <td>0.103310</td>\n",
       "    </tr>\n",
       "    <tr>\n",
       "      <th>3</th>\n",
       "      <td>13.0</td>\n",
       "      <td>1962.907143</td>\n",
       "      <td>1684.00</td>\n",
       "      <td>5892.00</td>\n",
       "      <td>0.0</td>\n",
       "      <td>27480.70</td>\n",
       "      <td>1285.976015</td>\n",
       "      <td>319.571429</td>\n",
       "      <td>222.0</td>\n",
       "      <td>1200.0</td>\n",
       "      <td>...</td>\n",
       "      <td>1890.72</td>\n",
       "      <td>341.28</td>\n",
       "      <td>7415.76</td>\n",
       "      <td>407.524604</td>\n",
       "      <td>0.700307</td>\n",
       "      <td>0.755796</td>\n",
       "      <td>0.797340</td>\n",
       "      <td>0.000000</td>\n",
       "      <td>9.804298</td>\n",
       "      <td>0.204777</td>\n",
       "    </tr>\n",
       "    <tr>\n",
       "      <th>4</th>\n",
       "      <td>14.0</td>\n",
       "      <td>2560.902000</td>\n",
       "      <td>1734.00</td>\n",
       "      <td>5452.91</td>\n",
       "      <td>1639.2</td>\n",
       "      <td>12804.51</td>\n",
       "      <td>1641.914508</td>\n",
       "      <td>272.000000</td>\n",
       "      <td>240.0</td>\n",
       "      <td>480.0</td>\n",
       "      <td>...</td>\n",
       "      <td>1038.24</td>\n",
       "      <td>341.28</td>\n",
       "      <td>2540.52</td>\n",
       "      <td>297.817667</td>\n",
       "      <td>0.795540</td>\n",
       "      <td>0.803183</td>\n",
       "      <td>0.829145</td>\n",
       "      <td>0.749414</td>\n",
       "      <td>3.977701</td>\n",
       "      <td>0.029989</td>\n",
       "    </tr>\n",
       "  </tbody>\n",
       "</table>\n",
       "<p>5 rows × 25 columns</p>\n",
       "</div>"
      ],
      "text/plain": [
       "   chassis  amount_in_company_currency_mean  \\\n",
       "0     10.0                      2626.250230   \n",
       "1     11.0                      1873.879310   \n",
       "2     12.0                      3086.262014   \n",
       "3     13.0                      1962.907143   \n",
       "4     14.0                      2560.902000   \n",
       "\n",
       "   amount_in_company_currency_median  amount_in_company_currency_max  \\\n",
       "0                            1520.57                       137620.00   \n",
       "1                            1347.00                         9917.59   \n",
       "2                            1797.60                        25228.00   \n",
       "3                            1684.00                         5892.00   \n",
       "4                            1734.00                         5452.91   \n",
       "\n",
       "   amount_in_company_currency_min  amount_in_company_currency_sum  \\\n",
       "0                             0.0                     17259716.51   \n",
       "1                           526.8                        54342.50   \n",
       "2                             0.0                       428990.42   \n",
       "3                             0.0                        27480.70   \n",
       "4                          1639.2                        12804.51   \n",
       "\n",
       "   amount_in_company_currency_std  total_deal_quantity_mean  \\\n",
       "0                     4181.997698                315.479610   \n",
       "1                     1835.833807                184.586207   \n",
       "2                     4084.892610                376.561151   \n",
       "3                     1285.976015                319.571429   \n",
       "4                     1641.914508                272.000000   \n",
       "\n",
       "   total_deal_quantity_median  total_deal_quantity_max  ...  \\\n",
       "0                       150.0                  20135.0  ...   \n",
       "1                       120.0                    850.0  ...   \n",
       "2                       200.0                   4760.0  ...   \n",
       "3                       222.0                   1200.0  ...   \n",
       "4                       240.0                    480.0  ...   \n",
       "\n",
       "   total_sku_cost_max  total_sku_cost_min  total_sku_cost_sum  \\\n",
       "0            30624.96              114.48          4715492.12   \n",
       "1             1883.52              203.76            15489.00   \n",
       "2             6065.52              160.56           109303.16   \n",
       "3             1890.72              341.28             7415.76   \n",
       "4             1038.24              341.28             2540.52   \n",
       "\n",
       "   total_sku_cost_std  gross_margin_mean  gross_margin_median  \\\n",
       "0         1169.509711           0.707089             0.719845   \n",
       "1          400.177972           0.692383             0.690710   \n",
       "2          970.266606           0.720244             0.741161   \n",
       "3          407.524604           0.700307             0.755796   \n",
       "4          297.817667           0.795540             0.803183   \n",
       "\n",
       "   gross_margin_max  gross_margin_min  gross_margin_sum  gross_margin_std  \n",
       "0          0.949503        -10.320000       4646.990569          0.287958  \n",
       "1          0.810083          0.544875         20.079121          0.048803  \n",
       "2          0.847830          0.000000        100.113863          0.103310  \n",
       "3          0.797340          0.000000          9.804298          0.204777  \n",
       "4          0.829145          0.749414          3.977701          0.029989  \n",
       "\n",
       "[5 rows x 25 columns]"
      ]
     },
     "execution_count": 31,
     "metadata": {},
     "output_type": "execute_result"
    }
   ],
   "source": [
    "# GroupBy chassis Summary Stats 2023\n",
    "\n",
    "# Define the group by column\n",
    "group_by_column = \"chassis\"\n",
    "\n",
    "# Set the display format for floating-point numbers\n",
    "pd.options.display.float_format = '{:.2f}'.format\n",
    "\n",
    "# Define the list of columns for summary statistics\n",
    "list_of_columns = [\"amount_in_company_currency\", \"total_deal_quantity\", \"total_sku_cost\", \"gross_margin\"]\n",
    "\n",
    "# Convert columns to numeric data types - dont change!\n",
    "filtered_deal_prod_2023_df[list_of_columns] = filtered_deal_prod_2023_df[list_of_columns].apply(pd.to_numeric, errors='coerce')\n",
    "\n",
    "# Perform group by and summary statistics on selected columns\n",
    "grouped_chassis_sum_2023_df = filtered_deal_prod_2023_df.groupby(group_by_column)[list_of_columns].agg(['mean', 'median', 'max', 'min', 'sum', 'std'])\n",
    "\n",
    "# Reset the column names to remove the multi-level index\n",
    "grouped_chassis_sum_2023_df.columns = grouped_chassis_sum_2023_df.columns.map('_'.join)\n",
    "\n",
    "# Reset the index and move \"client_type_x\" column to the first position\n",
    "grouped_chassis_sum_2023_df = grouped_chassis_sum_2023_df.reset_index()\n",
    "\n",
    "# Save the summary DataFrame as a new CSV file with right-justified numbers\n",
    "grouped_chassis_sum_2023_df.to_csv('grouped_summary_2023_chassis.csv', index=False, float_format='%.2f')\n",
    "\n",
    "# Reset the display format to the default\n",
    "pd.options.display.float_format = None\n",
    "\n",
    "# Print the first 5 records\n",
    "grouped_chassis_sum_2023_df.head()\n"
   ]
  },
  {
   "cell_type": "code",
   "execution_count": 32,
   "metadata": {},
   "outputs": [
    {
     "name": "stderr",
     "output_type": "stream",
     "text": [
      "C:\\Users\\KatreeceHattaway\\AppData\\Local\\Temp\\ipykernel_1456\\1400147068.py:13: SettingWithCopyWarning: \n",
      "A value is trying to be set on a copy of a slice from a DataFrame.\n",
      "Try using .loc[row_indexer,col_indexer] = value instead\n",
      "\n",
      "See the caveats in the documentation: https://pandas.pydata.org/pandas-docs/stable/user_guide/indexing.html#returning-a-view-versus-a-copy\n",
      "  filtered_deal_prod_2022_df[list_of_columns] = filtered_deal_prod_2022_df[list_of_columns].apply(pd.to_numeric, errors='coerce')\n"
     ]
    },
    {
     "data": {
      "text/html": [
       "<div>\n",
       "<style scoped>\n",
       "    .dataframe tbody tr th:only-of-type {\n",
       "        vertical-align: middle;\n",
       "    }\n",
       "\n",
       "    .dataframe tbody tr th {\n",
       "        vertical-align: top;\n",
       "    }\n",
       "\n",
       "    .dataframe thead th {\n",
       "        text-align: right;\n",
       "    }\n",
       "</style>\n",
       "<table border=\"1\" class=\"dataframe\">\n",
       "  <thead>\n",
       "    <tr style=\"text-align: right;\">\n",
       "      <th></th>\n",
       "      <th>vendor_id</th>\n",
       "      <th>amount_in_company_currency_mean</th>\n",
       "      <th>amount_in_company_currency_median</th>\n",
       "      <th>amount_in_company_currency_max</th>\n",
       "      <th>amount_in_company_currency_min</th>\n",
       "      <th>amount_in_company_currency_sum</th>\n",
       "      <th>amount_in_company_currency_std</th>\n",
       "      <th>total_deal_quantity_mean</th>\n",
       "      <th>total_deal_quantity_median</th>\n",
       "      <th>total_deal_quantity_max</th>\n",
       "      <th>...</th>\n",
       "      <th>total_sku_cost_max</th>\n",
       "      <th>total_sku_cost_min</th>\n",
       "      <th>total_sku_cost_sum</th>\n",
       "      <th>total_sku_cost_std</th>\n",
       "      <th>gross_margin_mean</th>\n",
       "      <th>gross_margin_median</th>\n",
       "      <th>gross_margin_max</th>\n",
       "      <th>gross_margin_min</th>\n",
       "      <th>gross_margin_sum</th>\n",
       "      <th>gross_margin_std</th>\n",
       "    </tr>\n",
       "  </thead>\n",
       "  <tbody>\n",
       "    <tr>\n",
       "      <th>0</th>\n",
       "      <td>1.0</td>\n",
       "      <td>2843.782882</td>\n",
       "      <td>1660.8</td>\n",
       "      <td>151035.11</td>\n",
       "      <td>0.0</td>\n",
       "      <td>7806184.01</td>\n",
       "      <td>5742.466596</td>\n",
       "      <td>368.375091</td>\n",
       "      <td>154.5</td>\n",
       "      <td>25085.0</td>\n",
       "      <td>...</td>\n",
       "      <td>43086.72</td>\n",
       "      <td>122.88</td>\n",
       "      <td>2016348.48</td>\n",
       "      <td>1683.005377</td>\n",
       "      <td>0.731196</td>\n",
       "      <td>0.730297</td>\n",
       "      <td>0.947046</td>\n",
       "      <td>-3.236384</td>\n",
       "      <td>2007.865531</td>\n",
       "      <td>0.126859</td>\n",
       "    </tr>\n",
       "    <tr>\n",
       "      <th>1</th>\n",
       "      <td>2.0</td>\n",
       "      <td>0.000000</td>\n",
       "      <td>0.0</td>\n",
       "      <td>0.00</td>\n",
       "      <td>0.0</td>\n",
       "      <td>0.00</td>\n",
       "      <td>NaN</td>\n",
       "      <td>240.000000</td>\n",
       "      <td>240.0</td>\n",
       "      <td>240.0</td>\n",
       "      <td>...</td>\n",
       "      <td>468.72</td>\n",
       "      <td>468.72</td>\n",
       "      <td>468.72</td>\n",
       "      <td>NaN</td>\n",
       "      <td>0.000000</td>\n",
       "      <td>0.000000</td>\n",
       "      <td>0.000000</td>\n",
       "      <td>0.000000</td>\n",
       "      <td>0.000000</td>\n",
       "      <td>NaN</td>\n",
       "    </tr>\n",
       "    <tr>\n",
       "      <th>2</th>\n",
       "      <td>3.0</td>\n",
       "      <td>2856.114864</td>\n",
       "      <td>1762.0</td>\n",
       "      <td>57200.00</td>\n",
       "      <td>0.0</td>\n",
       "      <td>9947848.07</td>\n",
       "      <td>3966.864175</td>\n",
       "      <td>363.362618</td>\n",
       "      <td>200.0</td>\n",
       "      <td>10000.0</td>\n",
       "      <td>...</td>\n",
       "      <td>17052.48</td>\n",
       "      <td>122.76</td>\n",
       "      <td>2984734.20</td>\n",
       "      <td>1109.947515</td>\n",
       "      <td>0.669783</td>\n",
       "      <td>0.676765</td>\n",
       "      <td>0.921255</td>\n",
       "      <td>-10.352000</td>\n",
       "      <td>2332.853936</td>\n",
       "      <td>0.209368</td>\n",
       "    </tr>\n",
       "    <tr>\n",
       "      <th>3</th>\n",
       "      <td>4.0</td>\n",
       "      <td>1947.755628</td>\n",
       "      <td>1126.0</td>\n",
       "      <td>32305.00</td>\n",
       "      <td>0.0</td>\n",
       "      <td>3533228.71</td>\n",
       "      <td>2371.545479</td>\n",
       "      <td>220.552370</td>\n",
       "      <td>120.0</td>\n",
       "      <td>6500.0</td>\n",
       "      <td>...</td>\n",
       "      <td>10555.92</td>\n",
       "      <td>185.76</td>\n",
       "      <td>997435.08</td>\n",
       "      <td>653.976526</td>\n",
       "      <td>0.710708</td>\n",
       "      <td>0.712268</td>\n",
       "      <td>0.926867</td>\n",
       "      <td>0.000000</td>\n",
       "      <td>1289.224466</td>\n",
       "      <td>0.075420</td>\n",
       "    </tr>\n",
       "    <tr>\n",
       "      <th>4</th>\n",
       "      <td>5.0</td>\n",
       "      <td>3793.986552</td>\n",
       "      <td>2675.0</td>\n",
       "      <td>13110.00</td>\n",
       "      <td>0.0</td>\n",
       "      <td>110025.61</td>\n",
       "      <td>2771.138404</td>\n",
       "      <td>0.000000</td>\n",
       "      <td>0.0</td>\n",
       "      <td>0.0</td>\n",
       "      <td>...</td>\n",
       "      <td>2648.00</td>\n",
       "      <td>91.52</td>\n",
       "      <td>22423.60</td>\n",
       "      <td>544.769315</td>\n",
       "      <td>0.767689</td>\n",
       "      <td>0.792494</td>\n",
       "      <td>0.874163</td>\n",
       "      <td>0.000000</td>\n",
       "      <td>22.262987</td>\n",
       "      <td>0.162928</td>\n",
       "    </tr>\n",
       "  </tbody>\n",
       "</table>\n",
       "<p>5 rows × 25 columns</p>\n",
       "</div>"
      ],
      "text/plain": [
       "   vendor_id  amount_in_company_currency_mean  \\\n",
       "0        1.0                      2843.782882   \n",
       "1        2.0                         0.000000   \n",
       "2        3.0                      2856.114864   \n",
       "3        4.0                      1947.755628   \n",
       "4        5.0                      3793.986552   \n",
       "\n",
       "   amount_in_company_currency_median  amount_in_company_currency_max  \\\n",
       "0                             1660.8                       151035.11   \n",
       "1                                0.0                            0.00   \n",
       "2                             1762.0                        57200.00   \n",
       "3                             1126.0                        32305.00   \n",
       "4                             2675.0                        13110.00   \n",
       "\n",
       "   amount_in_company_currency_min  amount_in_company_currency_sum  \\\n",
       "0                             0.0                      7806184.01   \n",
       "1                             0.0                            0.00   \n",
       "2                             0.0                      9947848.07   \n",
       "3                             0.0                      3533228.71   \n",
       "4                             0.0                       110025.61   \n",
       "\n",
       "   amount_in_company_currency_std  total_deal_quantity_mean  \\\n",
       "0                     5742.466596                368.375091   \n",
       "1                             NaN                240.000000   \n",
       "2                     3966.864175                363.362618   \n",
       "3                     2371.545479                220.552370   \n",
       "4                     2771.138404                  0.000000   \n",
       "\n",
       "   total_deal_quantity_median  total_deal_quantity_max  ...  \\\n",
       "0                       154.5                  25085.0  ...   \n",
       "1                       240.0                    240.0  ...   \n",
       "2                       200.0                  10000.0  ...   \n",
       "3                       120.0                   6500.0  ...   \n",
       "4                         0.0                      0.0  ...   \n",
       "\n",
       "   total_sku_cost_max  total_sku_cost_min  total_sku_cost_sum  \\\n",
       "0            43086.72              122.88          2016348.48   \n",
       "1              468.72              468.72              468.72   \n",
       "2            17052.48              122.76          2984734.20   \n",
       "3            10555.92              185.76           997435.08   \n",
       "4             2648.00               91.52            22423.60   \n",
       "\n",
       "   total_sku_cost_std  gross_margin_mean  gross_margin_median  \\\n",
       "0         1683.005377           0.731196             0.730297   \n",
       "1                 NaN           0.000000             0.000000   \n",
       "2         1109.947515           0.669783             0.676765   \n",
       "3          653.976526           0.710708             0.712268   \n",
       "4          544.769315           0.767689             0.792494   \n",
       "\n",
       "   gross_margin_max  gross_margin_min  gross_margin_sum  gross_margin_std  \n",
       "0          0.947046         -3.236384       2007.865531          0.126859  \n",
       "1          0.000000          0.000000          0.000000               NaN  \n",
       "2          0.921255        -10.352000       2332.853936          0.209368  \n",
       "3          0.926867          0.000000       1289.224466          0.075420  \n",
       "4          0.874163          0.000000         22.262987          0.162928  \n",
       "\n",
       "[5 rows x 25 columns]"
      ]
     },
     "execution_count": 32,
     "metadata": {},
     "output_type": "execute_result"
    }
   ],
   "source": [
    "# GroupBy vendor_id Summary Stats 2022\n",
    "\n",
    "# Define the group by column\n",
    "group_by_column = \"vendor_id\"\n",
    "\n",
    "# Set the display format for floating-point numbers\n",
    "pd.options.display.float_format = '{:.2f}'.format\n",
    "\n",
    "# Define the list of columns for summary statistics\n",
    "list_of_columns = [\"amount_in_company_currency\", \"total_deal_quantity\", \"total_sku_cost\", \"gross_margin\"]\n",
    "\n",
    "# Convert columns to numeric data types - dont change!\n",
    "filtered_deal_prod_2022_df[list_of_columns] = filtered_deal_prod_2022_df[list_of_columns].apply(pd.to_numeric, errors='coerce')\n",
    "\n",
    "# Perform group by and summary statistics on selected columns\n",
    "grouped_vendor_sum_2022_df = filtered_deal_prod_2022_df.groupby(group_by_column)[list_of_columns].agg(['mean', 'median', 'max', 'min', 'sum', 'std'])\n",
    "\n",
    "# Reset the column names to remove the multi-level index\n",
    "grouped_vendor_sum_2022_df.columns = grouped_vendor_sum_2022_df.columns.map('_'.join)\n",
    "\n",
    "# Reset the index and move \"client_type_x\" column to the first position\n",
    "grouped_vendor_sum_2022_df = grouped_vendor_sum_2022_df.reset_index()\n",
    "\n",
    "# Save the summary DataFrame as a new CSV file with right-justified numbers\n",
    "grouped_vendor_sum_2022_df.to_csv('grouped_summary_2022_vendor.csv', index=False, float_format='%.2f')\n",
    "\n",
    "# Reset the display format to the default\n",
    "pd.options.display.float_format = None\n",
    "\n",
    "# Print the first 5 records\n",
    "grouped_vendor_sum_2022_df.head()"
   ]
  },
  {
   "cell_type": "code",
   "execution_count": 33,
   "metadata": {},
   "outputs": [
    {
     "name": "stderr",
     "output_type": "stream",
     "text": [
      "C:\\Users\\KatreeceHattaway\\AppData\\Local\\Temp\\ipykernel_1456\\2995014507.py:13: SettingWithCopyWarning: \n",
      "A value is trying to be set on a copy of a slice from a DataFrame.\n",
      "Try using .loc[row_indexer,col_indexer] = value instead\n",
      "\n",
      "See the caveats in the documentation: https://pandas.pydata.org/pandas-docs/stable/user_guide/indexing.html#returning-a-view-versus-a-copy\n",
      "  filtered_deal_prod_2023_df[list_of_columns] = filtered_deal_prod_2023_df[list_of_columns].apply(pd.to_numeric, errors='coerce')\n"
     ]
    },
    {
     "data": {
      "text/html": [
       "<div>\n",
       "<style scoped>\n",
       "    .dataframe tbody tr th:only-of-type {\n",
       "        vertical-align: middle;\n",
       "    }\n",
       "\n",
       "    .dataframe tbody tr th {\n",
       "        vertical-align: top;\n",
       "    }\n",
       "\n",
       "    .dataframe thead th {\n",
       "        text-align: right;\n",
       "    }\n",
       "</style>\n",
       "<table border=\"1\" class=\"dataframe\">\n",
       "  <thead>\n",
       "    <tr style=\"text-align: right;\">\n",
       "      <th></th>\n",
       "      <th>vendor_id</th>\n",
       "      <th>amount_in_company_currency_mean</th>\n",
       "      <th>amount_in_company_currency_median</th>\n",
       "      <th>amount_in_company_currency_max</th>\n",
       "      <th>amount_in_company_currency_min</th>\n",
       "      <th>amount_in_company_currency_sum</th>\n",
       "      <th>amount_in_company_currency_std</th>\n",
       "      <th>total_deal_quantity_mean</th>\n",
       "      <th>total_deal_quantity_median</th>\n",
       "      <th>total_deal_quantity_max</th>\n",
       "      <th>...</th>\n",
       "      <th>total_sku_cost_max</th>\n",
       "      <th>total_sku_cost_min</th>\n",
       "      <th>total_sku_cost_sum</th>\n",
       "      <th>total_sku_cost_std</th>\n",
       "      <th>gross_margin_mean</th>\n",
       "      <th>gross_margin_median</th>\n",
       "      <th>gross_margin_max</th>\n",
       "      <th>gross_margin_min</th>\n",
       "      <th>gross_margin_sum</th>\n",
       "      <th>gross_margin_std</th>\n",
       "    </tr>\n",
       "  </thead>\n",
       "  <tbody>\n",
       "    <tr>\n",
       "      <th>0</th>\n",
       "      <td>1.0</td>\n",
       "      <td>2860.175431</td>\n",
       "      <td>1800.0</td>\n",
       "      <td>137620.00</td>\n",
       "      <td>0.0</td>\n",
       "      <td>1.031665e+07</td>\n",
       "      <td>4751.617259</td>\n",
       "      <td>345.051289</td>\n",
       "      <td>200.0</td>\n",
       "      <td>20135.0</td>\n",
       "      <td>...</td>\n",
       "      <td>30624.96</td>\n",
       "      <td>114.48</td>\n",
       "      <td>2505648.52</td>\n",
       "      <td>1240.149036</td>\n",
       "      <td>0.736753</td>\n",
       "      <td>0.743358</td>\n",
       "      <td>0.949503</td>\n",
       "      <td>-9.275840</td>\n",
       "      <td>2657.467549</td>\n",
       "      <td>0.277099</td>\n",
       "    </tr>\n",
       "    <tr>\n",
       "      <th>1</th>\n",
       "      <td>3.0</td>\n",
       "      <td>2800.428138</td>\n",
       "      <td>1520.4</td>\n",
       "      <td>79234.12</td>\n",
       "      <td>0.0</td>\n",
       "      <td>7.818795e+06</td>\n",
       "      <td>4210.770603</td>\n",
       "      <td>341.642320</td>\n",
       "      <td>125.0</td>\n",
       "      <td>10000.0</td>\n",
       "      <td>...</td>\n",
       "      <td>17234.40</td>\n",
       "      <td>136.80</td>\n",
       "      <td>2334344.16</td>\n",
       "      <td>1228.871392</td>\n",
       "      <td>0.686694</td>\n",
       "      <td>0.686694</td>\n",
       "      <td>0.908199</td>\n",
       "      <td>-10.054187</td>\n",
       "      <td>1917.935171</td>\n",
       "      <td>0.221074</td>\n",
       "    </tr>\n",
       "    <tr>\n",
       "      <th>2</th>\n",
       "      <td>4.0</td>\n",
       "      <td>1997.948992</td>\n",
       "      <td>1172.0</td>\n",
       "      <td>52400.00</td>\n",
       "      <td>0.0</td>\n",
       "      <td>4.073818e+06</td>\n",
       "      <td>2701.588236</td>\n",
       "      <td>222.221677</td>\n",
       "      <td>120.0</td>\n",
       "      <td>10000.0</td>\n",
       "      <td>...</td>\n",
       "      <td>17134.20</td>\n",
       "      <td>108.00</td>\n",
       "      <td>1214908.80</td>\n",
       "      <td>816.552314</td>\n",
       "      <td>0.680093</td>\n",
       "      <td>0.693918</td>\n",
       "      <td>0.880968</td>\n",
       "      <td>-10.320000</td>\n",
       "      <td>1386.710081</td>\n",
       "      <td>0.301911</td>\n",
       "    </tr>\n",
       "    <tr>\n",
       "      <th>3</th>\n",
       "      <td>5.0</td>\n",
       "      <td>5795.709730</td>\n",
       "      <td>2550.0</td>\n",
       "      <td>67825.00</td>\n",
       "      <td>0.0</td>\n",
       "      <td>2.144413e+05</td>\n",
       "      <td>11998.397233</td>\n",
       "      <td>0.000000</td>\n",
       "      <td>0.0</td>\n",
       "      <td>0.0</td>\n",
       "      <td>...</td>\n",
       "      <td>32000.00</td>\n",
       "      <td>91.52</td>\n",
       "      <td>66204.88</td>\n",
       "      <td>5423.325397</td>\n",
       "      <td>0.692454</td>\n",
       "      <td>0.774000</td>\n",
       "      <td>0.921601</td>\n",
       "      <td>-0.045943</td>\n",
       "      <td>25.620798</td>\n",
       "      <td>0.234654</td>\n",
       "    </tr>\n",
       "    <tr>\n",
       "      <th>4</th>\n",
       "      <td>10.0</td>\n",
       "      <td>2925.584481</td>\n",
       "      <td>1927.5</td>\n",
       "      <td>22970.43</td>\n",
       "      <td>0.0</td>\n",
       "      <td>7.899078e+05</td>\n",
       "      <td>3006.918376</td>\n",
       "      <td>0.000000</td>\n",
       "      <td>0.0</td>\n",
       "      <td>0.0</td>\n",
       "      <td>...</td>\n",
       "      <td>6102.42</td>\n",
       "      <td>1.80</td>\n",
       "      <td>166976.99</td>\n",
       "      <td>727.525998</td>\n",
       "      <td>0.753227</td>\n",
       "      <td>0.792094</td>\n",
       "      <td>0.979429</td>\n",
       "      <td>-4.680000</td>\n",
       "      <td>203.371222</td>\n",
       "      <td>0.362343</td>\n",
       "    </tr>\n",
       "  </tbody>\n",
       "</table>\n",
       "<p>5 rows × 25 columns</p>\n",
       "</div>"
      ],
      "text/plain": [
       "   vendor_id  amount_in_company_currency_mean  \\\n",
       "0        1.0                      2860.175431   \n",
       "1        3.0                      2800.428138   \n",
       "2        4.0                      1997.948992   \n",
       "3        5.0                      5795.709730   \n",
       "4       10.0                      2925.584481   \n",
       "\n",
       "   amount_in_company_currency_median  amount_in_company_currency_max  \\\n",
       "0                             1800.0                       137620.00   \n",
       "1                             1520.4                        79234.12   \n",
       "2                             1172.0                        52400.00   \n",
       "3                             2550.0                        67825.00   \n",
       "4                             1927.5                        22970.43   \n",
       "\n",
       "   amount_in_company_currency_min  amount_in_company_currency_sum  \\\n",
       "0                             0.0                    1.031665e+07   \n",
       "1                             0.0                    7.818795e+06   \n",
       "2                             0.0                    4.073818e+06   \n",
       "3                             0.0                    2.144413e+05   \n",
       "4                             0.0                    7.899078e+05   \n",
       "\n",
       "   amount_in_company_currency_std  total_deal_quantity_mean  \\\n",
       "0                     4751.617259                345.051289   \n",
       "1                     4210.770603                341.642320   \n",
       "2                     2701.588236                222.221677   \n",
       "3                    11998.397233                  0.000000   \n",
       "4                     3006.918376                  0.000000   \n",
       "\n",
       "   total_deal_quantity_median  total_deal_quantity_max  ...  \\\n",
       "0                       200.0                  20135.0  ...   \n",
       "1                       125.0                  10000.0  ...   \n",
       "2                       120.0                  10000.0  ...   \n",
       "3                         0.0                      0.0  ...   \n",
       "4                         0.0                      0.0  ...   \n",
       "\n",
       "   total_sku_cost_max  total_sku_cost_min  total_sku_cost_sum  \\\n",
       "0            30624.96              114.48          2505648.52   \n",
       "1            17234.40              136.80          2334344.16   \n",
       "2            17134.20              108.00          1214908.80   \n",
       "3            32000.00               91.52            66204.88   \n",
       "4             6102.42                1.80           166976.99   \n",
       "\n",
       "   total_sku_cost_std  gross_margin_mean  gross_margin_median  \\\n",
       "0         1240.149036           0.736753             0.743358   \n",
       "1         1228.871392           0.686694             0.686694   \n",
       "2          816.552314           0.680093             0.693918   \n",
       "3         5423.325397           0.692454             0.774000   \n",
       "4          727.525998           0.753227             0.792094   \n",
       "\n",
       "   gross_margin_max  gross_margin_min  gross_margin_sum  gross_margin_std  \n",
       "0          0.949503         -9.275840       2657.467549          0.277099  \n",
       "1          0.908199        -10.054187       1917.935171          0.221074  \n",
       "2          0.880968        -10.320000       1386.710081          0.301911  \n",
       "3          0.921601         -0.045943         25.620798          0.234654  \n",
       "4          0.979429         -4.680000        203.371222          0.362343  \n",
       "\n",
       "[5 rows x 25 columns]"
      ]
     },
     "execution_count": 33,
     "metadata": {},
     "output_type": "execute_result"
    }
   ],
   "source": [
    "# GroupBy vendor_id Summary Stats 2023\n",
    "\n",
    "# Define the group by column\n",
    "group_by_column = \"vendor_id\"\n",
    "\n",
    "# Set the display format for floating-point numbers\n",
    "pd.options.display.float_format = '{:.2f}'.format\n",
    "\n",
    "# Define the list of columns for summary statistics\n",
    "list_of_columns = [\"amount_in_company_currency\", \"total_deal_quantity\", \"total_sku_cost\", \"gross_margin\"]\n",
    "\n",
    "# Convert columns to numeric data types - dont change!\n",
    "filtered_deal_prod_2023_df[list_of_columns] = filtered_deal_prod_2023_df[list_of_columns].apply(pd.to_numeric, errors='coerce')\n",
    "\n",
    "# Perform group by and summary statistics on selected columns\n",
    "grouped_vendor_sum_2023_df = filtered_deal_prod_2023_df.groupby(group_by_column)[list_of_columns].agg(['mean', 'median', 'max', 'min', 'sum', 'std'])\n",
    "\n",
    "# Reset the column names to remove the multi-level index\n",
    "grouped_vendor_sum_2023_df.columns = grouped_vendor_sum_2023_df.columns.map('_'.join)\n",
    "\n",
    "# Reset the index and move \"client_type_x\" column to the first position\n",
    "grouped_vendor_sum_2023_df = grouped_vendor_sum_2023_df.reset_index()\n",
    "\n",
    "# Save the summary DataFrame as a new CSV file with right-justified numbers\n",
    "grouped_vendor_sum_2023_df.to_csv('grouped_summary_2023_vendor.csv', index=False, float_format='%.2f')\n",
    "\n",
    "# Reset the display format to the default\n",
    "pd.options.display.float_format = None\n",
    "\n",
    "# Print the first 5 records\n",
    "grouped_vendor_sum_2023_df.head()\n"
   ]
  },
  {
   "cell_type": "code",
   "execution_count": 34,
   "metadata": {},
   "outputs": [
    {
     "name": "stderr",
     "output_type": "stream",
     "text": [
      "C:\\Users\\KatreeceHattaway\\AppData\\Local\\Temp\\ipykernel_1456\\3064494977.py:13: SettingWithCopyWarning: \n",
      "A value is trying to be set on a copy of a slice from a DataFrame.\n",
      "Try using .loc[row_indexer,col_indexer] = value instead\n",
      "\n",
      "See the caveats in the documentation: https://pandas.pydata.org/pandas-docs/stable/user_guide/indexing.html#returning-a-view-versus-a-copy\n",
      "  filtered_deal_prod_2022_df[list_of_columns] = filtered_deal_prod_2022_df[list_of_columns].apply(pd.to_numeric, errors='coerce')\n"
     ]
    },
    {
     "data": {
      "text/html": [
       "<div>\n",
       "<style scoped>\n",
       "    .dataframe tbody tr th:only-of-type {\n",
       "        vertical-align: middle;\n",
       "    }\n",
       "\n",
       "    .dataframe tbody tr th {\n",
       "        vertical-align: top;\n",
       "    }\n",
       "\n",
       "    .dataframe thead th {\n",
       "        text-align: right;\n",
       "    }\n",
       "</style>\n",
       "<table border=\"1\" class=\"dataframe\">\n",
       "  <thead>\n",
       "    <tr style=\"text-align: right;\">\n",
       "      <th></th>\n",
       "      <th>design_difficulty</th>\n",
       "      <th>amount_in_company_currency_mean</th>\n",
       "      <th>amount_in_company_currency_median</th>\n",
       "      <th>amount_in_company_currency_max</th>\n",
       "      <th>amount_in_company_currency_min</th>\n",
       "      <th>amount_in_company_currency_sum</th>\n",
       "      <th>amount_in_company_currency_std</th>\n",
       "      <th>total_deal_quantity_mean</th>\n",
       "      <th>total_deal_quantity_median</th>\n",
       "      <th>total_deal_quantity_max</th>\n",
       "      <th>...</th>\n",
       "      <th>total_sku_cost_max</th>\n",
       "      <th>total_sku_cost_min</th>\n",
       "      <th>total_sku_cost_sum</th>\n",
       "      <th>total_sku_cost_std</th>\n",
       "      <th>gross_margin_mean</th>\n",
       "      <th>gross_margin_median</th>\n",
       "      <th>gross_margin_max</th>\n",
       "      <th>gross_margin_min</th>\n",
       "      <th>gross_margin_sum</th>\n",
       "      <th>gross_margin_std</th>\n",
       "    </tr>\n",
       "  </thead>\n",
       "  <tbody>\n",
       "    <tr>\n",
       "      <th>0</th>\n",
       "      <td>Hand Sanitizer</td>\n",
       "      <td>933.600000</td>\n",
       "      <td>933.6</td>\n",
       "      <td>933.60</td>\n",
       "      <td>933.6</td>\n",
       "      <td>933.60</td>\n",
       "      <td>NaN</td>\n",
       "      <td>120.000000</td>\n",
       "      <td>120.0</td>\n",
       "      <td>120.0</td>\n",
       "      <td>...</td>\n",
       "      <td>340.56</td>\n",
       "      <td>340.56</td>\n",
       "      <td>340.56</td>\n",
       "      <td>NaN</td>\n",
       "      <td>0.635219</td>\n",
       "      <td>0.635219</td>\n",
       "      <td>0.635219</td>\n",
       "      <td>0.635219</td>\n",
       "      <td>0.635219</td>\n",
       "      <td>NaN</td>\n",
       "    </tr>\n",
       "    <tr>\n",
       "      <th>1</th>\n",
       "      <td>High</td>\n",
       "      <td>2781.388958</td>\n",
       "      <td>1749.0</td>\n",
       "      <td>19988.97</td>\n",
       "      <td>585.6</td>\n",
       "      <td>133506.67</td>\n",
       "      <td>3807.031884</td>\n",
       "      <td>336.375000</td>\n",
       "      <td>165.0</td>\n",
       "      <td>3000.0</td>\n",
       "      <td>...</td>\n",
       "      <td>5798.76</td>\n",
       "      <td>184.32</td>\n",
       "      <td>36756.12</td>\n",
       "      <td>1059.041254</td>\n",
       "      <td>0.716431</td>\n",
       "      <td>0.720833</td>\n",
       "      <td>0.852702</td>\n",
       "      <td>0.486799</td>\n",
       "      <td>34.388699</td>\n",
       "      <td>0.074237</td>\n",
       "    </tr>\n",
       "    <tr>\n",
       "      <th>2</th>\n",
       "      <td>High Res Preview</td>\n",
       "      <td>2108.070601</td>\n",
       "      <td>1442.4</td>\n",
       "      <td>34050.24</td>\n",
       "      <td>0.0</td>\n",
       "      <td>4102305.39</td>\n",
       "      <td>2305.709993</td>\n",
       "      <td>233.061151</td>\n",
       "      <td>120.0</td>\n",
       "      <td>5000.0</td>\n",
       "      <td>...</td>\n",
       "      <td>10395.60</td>\n",
       "      <td>91.52</td>\n",
       "      <td>1121674.64</td>\n",
       "      <td>619.160067</td>\n",
       "      <td>0.711361</td>\n",
       "      <td>0.718731</td>\n",
       "      <td>0.901880</td>\n",
       "      <td>-1.524932</td>\n",
       "      <td>1384.308731</td>\n",
       "      <td>0.092469</td>\n",
       "    </tr>\n",
       "    <tr>\n",
       "      <th>3</th>\n",
       "      <td>Knitted Mockup Tool</td>\n",
       "      <td>1958.477647</td>\n",
       "      <td>1444.2</td>\n",
       "      <td>9508.19</td>\n",
       "      <td>830.4</td>\n",
       "      <td>66588.24</td>\n",
       "      <td>1805.000082</td>\n",
       "      <td>195.529412</td>\n",
       "      <td>120.0</td>\n",
       "      <td>1200.0</td>\n",
       "      <td>...</td>\n",
       "      <td>2314.92</td>\n",
       "      <td>184.32</td>\n",
       "      <td>16302.48</td>\n",
       "      <td>483.951539</td>\n",
       "      <td>0.763591</td>\n",
       "      <td>0.766754</td>\n",
       "      <td>0.829677</td>\n",
       "      <td>0.653325</td>\n",
       "      <td>25.962099</td>\n",
       "      <td>0.039377</td>\n",
       "    </tr>\n",
       "    <tr>\n",
       "      <th>4</th>\n",
       "      <td>Low</td>\n",
       "      <td>2614.849276</td>\n",
       "      <td>1484.4</td>\n",
       "      <td>71519.28</td>\n",
       "      <td>0.0</td>\n",
       "      <td>4657046.56</td>\n",
       "      <td>3888.456480</td>\n",
       "      <td>320.313307</td>\n",
       "      <td>144.0</td>\n",
       "      <td>15000.0</td>\n",
       "      <td>...</td>\n",
       "      <td>22818.24</td>\n",
       "      <td>151.20</td>\n",
       "      <td>1304242.44</td>\n",
       "      <td>1110.487902</td>\n",
       "      <td>0.705428</td>\n",
       "      <td>0.710384</td>\n",
       "      <td>0.947046</td>\n",
       "      <td>-0.069041</td>\n",
       "      <td>1256.367620</td>\n",
       "      <td>0.078961</td>\n",
       "    </tr>\n",
       "  </tbody>\n",
       "</table>\n",
       "<p>5 rows × 25 columns</p>\n",
       "</div>"
      ],
      "text/plain": [
       "     design_difficulty  amount_in_company_currency_mean  \\\n",
       "0       Hand Sanitizer                       933.600000   \n",
       "1                High                       2781.388958   \n",
       "2     High Res Preview                      2108.070601   \n",
       "3  Knitted Mockup Tool                      1958.477647   \n",
       "4                 Low                       2614.849276   \n",
       "\n",
       "   amount_in_company_currency_median  amount_in_company_currency_max  \\\n",
       "0                              933.6                          933.60   \n",
       "1                             1749.0                        19988.97   \n",
       "2                             1442.4                        34050.24   \n",
       "3                             1444.2                         9508.19   \n",
       "4                             1484.4                        71519.28   \n",
       "\n",
       "   amount_in_company_currency_min  amount_in_company_currency_sum  \\\n",
       "0                           933.6                          933.60   \n",
       "1                           585.6                       133506.67   \n",
       "2                             0.0                      4102305.39   \n",
       "3                           830.4                        66588.24   \n",
       "4                             0.0                      4657046.56   \n",
       "\n",
       "   amount_in_company_currency_std  total_deal_quantity_mean  \\\n",
       "0                             NaN                120.000000   \n",
       "1                     3807.031884                336.375000   \n",
       "2                     2305.709993                233.061151   \n",
       "3                     1805.000082                195.529412   \n",
       "4                     3888.456480                320.313307   \n",
       "\n",
       "   total_deal_quantity_median  total_deal_quantity_max  ...  \\\n",
       "0                       120.0                    120.0  ...   \n",
       "1                       165.0                   3000.0  ...   \n",
       "2                       120.0                   5000.0  ...   \n",
       "3                       120.0                   1200.0  ...   \n",
       "4                       144.0                  15000.0  ...   \n",
       "\n",
       "   total_sku_cost_max  total_sku_cost_min  total_sku_cost_sum  \\\n",
       "0              340.56              340.56              340.56   \n",
       "1             5798.76              184.32            36756.12   \n",
       "2            10395.60               91.52          1121674.64   \n",
       "3             2314.92              184.32            16302.48   \n",
       "4            22818.24              151.20          1304242.44   \n",
       "\n",
       "   total_sku_cost_std  gross_margin_mean  gross_margin_median  \\\n",
       "0                 NaN           0.635219             0.635219   \n",
       "1         1059.041254           0.716431             0.720833   \n",
       "2          619.160067           0.711361             0.718731   \n",
       "3          483.951539           0.763591             0.766754   \n",
       "4         1110.487902           0.705428             0.710384   \n",
       "\n",
       "   gross_margin_max  gross_margin_min  gross_margin_sum  gross_margin_std  \n",
       "0          0.635219          0.635219          0.635219               NaN  \n",
       "1          0.852702          0.486799         34.388699          0.074237  \n",
       "2          0.901880         -1.524932       1384.308731          0.092469  \n",
       "3          0.829677          0.653325         25.962099          0.039377  \n",
       "4          0.947046         -0.069041       1256.367620          0.078961  \n",
       "\n",
       "[5 rows x 25 columns]"
      ]
     },
     "execution_count": 34,
     "metadata": {},
     "output_type": "execute_result"
    }
   ],
   "source": [
    "# GroupBy design_difficulty Summary Stats 2022\n",
    "\n",
    "# Define the group by column\n",
    "group_by_column = \"design_difficulty\"\n",
    "\n",
    "# Set the display format for floating-point numbers\n",
    "pd.options.display.float_format = '{:.2f}'.format\n",
    "\n",
    "# Define the list of columns for summary statistics\n",
    "list_of_columns = [\"amount_in_company_currency\", \"total_deal_quantity\", \"total_sku_cost\", \"gross_margin\"]\n",
    "\n",
    "# Convert columns to numeric data types - dont change!\n",
    "filtered_deal_prod_2022_df[list_of_columns] = filtered_deal_prod_2022_df[list_of_columns].apply(pd.to_numeric, errors='coerce')\n",
    "\n",
    "# Perform group by and summary statistics on selected columns\n",
    "grouped_design_sum_2022_df = filtered_deal_prod_2022_df.groupby(group_by_column)[list_of_columns].agg(['mean', 'median', 'max', 'min', 'sum', 'std'])\n",
    "\n",
    "# Reset the column names to remove the multi-level index\n",
    "grouped_design_sum_2022_df.columns = grouped_design_sum_2022_df.columns.map('_'.join)\n",
    "\n",
    "# Reset the index and move \"client_type_x\" column to the first position\n",
    "grouped_design_sum_2022_df = grouped_design_sum_2022_df.reset_index()\n",
    "\n",
    "# Save the summary DataFrame as a new CSV file with right-justified numbers\n",
    "grouped_design_sum_2022_df.to_csv('grouped_summary_2022_design.csv', index=False, float_format='%.2f')\n",
    "\n",
    "# Reset the display format to the default\n",
    "pd.options.display.float_format = None\n",
    "\n",
    "# Print the first 5 records\n",
    "grouped_design_sum_2022_df.head()"
   ]
  },
  {
   "cell_type": "code",
   "execution_count": 35,
   "metadata": {},
   "outputs": [
    {
     "name": "stderr",
     "output_type": "stream",
     "text": [
      "C:\\Users\\KatreeceHattaway\\AppData\\Local\\Temp\\ipykernel_1456\\954462894.py:13: SettingWithCopyWarning: \n",
      "A value is trying to be set on a copy of a slice from a DataFrame.\n",
      "Try using .loc[row_indexer,col_indexer] = value instead\n",
      "\n",
      "See the caveats in the documentation: https://pandas.pydata.org/pandas-docs/stable/user_guide/indexing.html#returning-a-view-versus-a-copy\n",
      "  filtered_deal_prod_2023_df[list_of_columns] = filtered_deal_prod_2023_df[list_of_columns].apply(pd.to_numeric, errors='coerce')\n"
     ]
    },
    {
     "data": {
      "text/html": [
       "<div>\n",
       "<style scoped>\n",
       "    .dataframe tbody tr th:only-of-type {\n",
       "        vertical-align: middle;\n",
       "    }\n",
       "\n",
       "    .dataframe tbody tr th {\n",
       "        vertical-align: top;\n",
       "    }\n",
       "\n",
       "    .dataframe thead th {\n",
       "        text-align: right;\n",
       "    }\n",
       "</style>\n",
       "<table border=\"1\" class=\"dataframe\">\n",
       "  <thead>\n",
       "    <tr style=\"text-align: right;\">\n",
       "      <th></th>\n",
       "      <th>design_difficulty</th>\n",
       "      <th>amount_in_company_currency_mean</th>\n",
       "      <th>amount_in_company_currency_median</th>\n",
       "      <th>amount_in_company_currency_max</th>\n",
       "      <th>amount_in_company_currency_min</th>\n",
       "      <th>amount_in_company_currency_sum</th>\n",
       "      <th>amount_in_company_currency_std</th>\n",
       "      <th>total_deal_quantity_mean</th>\n",
       "      <th>total_deal_quantity_median</th>\n",
       "      <th>total_deal_quantity_max</th>\n",
       "      <th>...</th>\n",
       "      <th>total_sku_cost_max</th>\n",
       "      <th>total_sku_cost_min</th>\n",
       "      <th>total_sku_cost_sum</th>\n",
       "      <th>total_sku_cost_std</th>\n",
       "      <th>gross_margin_mean</th>\n",
       "      <th>gross_margin_median</th>\n",
       "      <th>gross_margin_max</th>\n",
       "      <th>gross_margin_min</th>\n",
       "      <th>gross_margin_sum</th>\n",
       "      <th>gross_margin_std</th>\n",
       "    </tr>\n",
       "  </thead>\n",
       "  <tbody>\n",
       "    <tr>\n",
       "      <th>0</th>\n",
       "      <td>High</td>\n",
       "      <td>4796.607143</td>\n",
       "      <td>2175.805</td>\n",
       "      <td>96543.70</td>\n",
       "      <td>0.0</td>\n",
       "      <td>470067.50</td>\n",
       "      <td>10416.759148</td>\n",
       "      <td>664.838384</td>\n",
       "      <td>240.0</td>\n",
       "      <td>20135.0</td>\n",
       "      <td>...</td>\n",
       "      <td>30624.96</td>\n",
       "      <td>152.64</td>\n",
       "      <td>131660.90</td>\n",
       "      <td>3234.464413</td>\n",
       "      <td>0.704365</td>\n",
       "      <td>0.722459</td>\n",
       "      <td>0.879526</td>\n",
       "      <td>-0.045943</td>\n",
       "      <td>69.732147</td>\n",
       "      <td>0.140670</td>\n",
       "    </tr>\n",
       "    <tr>\n",
       "      <th>1</th>\n",
       "      <td>High Res Preview</td>\n",
       "      <td>2351.860905</td>\n",
       "      <td>1466.440</td>\n",
       "      <td>52427.00</td>\n",
       "      <td>0.0</td>\n",
       "      <td>3922903.99</td>\n",
       "      <td>3432.170736</td>\n",
       "      <td>248.628897</td>\n",
       "      <td>120.0</td>\n",
       "      <td>10300.0</td>\n",
       "      <td>...</td>\n",
       "      <td>17134.20</td>\n",
       "      <td>5.40</td>\n",
       "      <td>1005253.76</td>\n",
       "      <td>932.945967</td>\n",
       "      <td>0.723732</td>\n",
       "      <td>0.735438</td>\n",
       "      <td>0.969143</td>\n",
       "      <td>-8.457158</td>\n",
       "      <td>1207.184459</td>\n",
       "      <td>0.240029</td>\n",
       "    </tr>\n",
       "    <tr>\n",
       "      <th>2</th>\n",
       "      <td>Low</td>\n",
       "      <td>2523.745288</td>\n",
       "      <td>1517.100</td>\n",
       "      <td>79234.12</td>\n",
       "      <td>0.0</td>\n",
       "      <td>6347219.40</td>\n",
       "      <td>3778.997548</td>\n",
       "      <td>285.953877</td>\n",
       "      <td>121.0</td>\n",
       "      <td>12000.0</td>\n",
       "      <td>...</td>\n",
       "      <td>18757.44</td>\n",
       "      <td>3.60</td>\n",
       "      <td>1719221.13</td>\n",
       "      <td>994.226164</td>\n",
       "      <td>0.705204</td>\n",
       "      <td>0.715939</td>\n",
       "      <td>0.976000</td>\n",
       "      <td>-10.320000</td>\n",
       "      <td>1773.589255</td>\n",
       "      <td>0.308069</td>\n",
       "    </tr>\n",
       "    <tr>\n",
       "      <th>3</th>\n",
       "      <td>Medium</td>\n",
       "      <td>3097.549021</td>\n",
       "      <td>1891.375</td>\n",
       "      <td>32830.98</td>\n",
       "      <td>0.0</td>\n",
       "      <td>1170873.53</td>\n",
       "      <td>4121.331569</td>\n",
       "      <td>342.978836</td>\n",
       "      <td>177.5</td>\n",
       "      <td>5404.0</td>\n",
       "      <td>...</td>\n",
       "      <td>10773.60</td>\n",
       "      <td>3.60</td>\n",
       "      <td>308077.52</td>\n",
       "      <td>1205.863817</td>\n",
       "      <td>0.724704</td>\n",
       "      <td>0.727069</td>\n",
       "      <td>0.979429</td>\n",
       "      <td>0.000000</td>\n",
       "      <td>273.938261</td>\n",
       "      <td>0.084556</td>\n",
       "    </tr>\n",
       "    <tr>\n",
       "      <th>4</th>\n",
       "      <td>Not Rated</td>\n",
       "      <td>2859.661407</td>\n",
       "      <td>1575.000</td>\n",
       "      <td>18300.00</td>\n",
       "      <td>398.7</td>\n",
       "      <td>386054.29</td>\n",
       "      <td>3217.879102</td>\n",
       "      <td>316.629630</td>\n",
       "      <td>120.0</td>\n",
       "      <td>3000.0</td>\n",
       "      <td>...</td>\n",
       "      <td>5171.04</td>\n",
       "      <td>140.64</td>\n",
       "      <td>104554.04</td>\n",
       "      <td>860.181021</td>\n",
       "      <td>0.716126</td>\n",
       "      <td>0.717430</td>\n",
       "      <td>0.822129</td>\n",
       "      <td>0.555206</td>\n",
       "      <td>96.677017</td>\n",
       "      <td>0.056331</td>\n",
       "    </tr>\n",
       "  </tbody>\n",
       "</table>\n",
       "<p>5 rows × 25 columns</p>\n",
       "</div>"
      ],
      "text/plain": [
       "  design_difficulty  amount_in_company_currency_mean  \\\n",
       "0             High                       4796.607143   \n",
       "1  High Res Preview                      2351.860905   \n",
       "2              Low                       2523.745288   \n",
       "3           Medium                       3097.549021   \n",
       "4         Not Rated                      2859.661407   \n",
       "\n",
       "   amount_in_company_currency_median  amount_in_company_currency_max  \\\n",
       "0                           2175.805                        96543.70   \n",
       "1                           1466.440                        52427.00   \n",
       "2                           1517.100                        79234.12   \n",
       "3                           1891.375                        32830.98   \n",
       "4                           1575.000                        18300.00   \n",
       "\n",
       "   amount_in_company_currency_min  amount_in_company_currency_sum  \\\n",
       "0                             0.0                       470067.50   \n",
       "1                             0.0                      3922903.99   \n",
       "2                             0.0                      6347219.40   \n",
       "3                             0.0                      1170873.53   \n",
       "4                           398.7                       386054.29   \n",
       "\n",
       "   amount_in_company_currency_std  total_deal_quantity_mean  \\\n",
       "0                    10416.759148                664.838384   \n",
       "1                     3432.170736                248.628897   \n",
       "2                     3778.997548                285.953877   \n",
       "3                     4121.331569                342.978836   \n",
       "4                     3217.879102                316.629630   \n",
       "\n",
       "   total_deal_quantity_median  total_deal_quantity_max  ...  \\\n",
       "0                       240.0                  20135.0  ...   \n",
       "1                       120.0                  10300.0  ...   \n",
       "2                       121.0                  12000.0  ...   \n",
       "3                       177.5                   5404.0  ...   \n",
       "4                       120.0                   3000.0  ...   \n",
       "\n",
       "   total_sku_cost_max  total_sku_cost_min  total_sku_cost_sum  \\\n",
       "0            30624.96              152.64           131660.90   \n",
       "1            17134.20                5.40          1005253.76   \n",
       "2            18757.44                3.60          1719221.13   \n",
       "3            10773.60                3.60           308077.52   \n",
       "4             5171.04              140.64           104554.04   \n",
       "\n",
       "   total_sku_cost_std  gross_margin_mean  gross_margin_median  \\\n",
       "0         3234.464413           0.704365             0.722459   \n",
       "1          932.945967           0.723732             0.735438   \n",
       "2          994.226164           0.705204             0.715939   \n",
       "3         1205.863817           0.724704             0.727069   \n",
       "4          860.181021           0.716126             0.717430   \n",
       "\n",
       "   gross_margin_max  gross_margin_min  gross_margin_sum  gross_margin_std  \n",
       "0          0.879526         -0.045943         69.732147          0.140670  \n",
       "1          0.969143         -8.457158       1207.184459          0.240029  \n",
       "2          0.976000        -10.320000       1773.589255          0.308069  \n",
       "3          0.979429          0.000000        273.938261          0.084556  \n",
       "4          0.822129          0.555206         96.677017          0.056331  \n",
       "\n",
       "[5 rows x 25 columns]"
      ]
     },
     "execution_count": 35,
     "metadata": {},
     "output_type": "execute_result"
    }
   ],
   "source": [
    "# GroupBy design_difficulty Summary Stats 2023\n",
    "\n",
    "# Define the group by column\n",
    "group_by_column = \"design_difficulty\"\n",
    "\n",
    "# Set the display format for floating-point numbers\n",
    "pd.options.display.float_format = '{:.2f}'.format\n",
    "\n",
    "# Define the list of columns for summary statistics\n",
    "list_of_columns = [\"amount_in_company_currency\", \"total_deal_quantity\", \"total_sku_cost\", \"gross_margin\"]\n",
    "\n",
    "# Convert columns to numeric data types - dont change!\n",
    "filtered_deal_prod_2023_df[list_of_columns] = filtered_deal_prod_2023_df[list_of_columns].apply(pd.to_numeric, errors='coerce')\n",
    "\n",
    "# Perform group by and summary statistics on selected columns\n",
    "grouped_design_sum_2023_df = filtered_deal_prod_2023_df.groupby(group_by_column)[list_of_columns].agg(['mean', 'median', 'max', 'min', 'sum', 'std'])\n",
    "\n",
    "# Reset the column names to remove the multi-level index\n",
    "grouped_design_sum_2023_df.columns = grouped_design_sum_2023_df.columns.map('_'.join)\n",
    "\n",
    "# Reset the index and move \"client_type_x\" column to the first position\n",
    "grouped_design_sum_2023_df = grouped_design_sum_2023_df.reset_index()\n",
    "\n",
    "# Save the summary DataFrame as a new CSV file with right-justified numbers\n",
    "grouped_design_sum_2023_df.to_csv('grouped_summary_2023_design.csv', index=False, float_format='%.2f')\n",
    "\n",
    "# Reset the display format to the default\n",
    "pd.options.display.float_format = None\n",
    "\n",
    "# Print the first 5 records\n",
    "grouped_design_sum_2023_df.head()"
   ]
  },
  {
   "cell_type": "code",
   "execution_count": 36,
   "metadata": {},
   "outputs": [
    {
     "name": "stderr",
     "output_type": "stream",
     "text": [
      "C:\\Users\\KatreeceHattaway\\AppData\\Local\\Temp\\ipykernel_1456\\1027431421.py:13: SettingWithCopyWarning: \n",
      "A value is trying to be set on a copy of a slice from a DataFrame.\n",
      "Try using .loc[row_indexer,col_indexer] = value instead\n",
      "\n",
      "See the caveats in the documentation: https://pandas.pydata.org/pandas-docs/stable/user_guide/indexing.html#returning-a-view-versus-a-copy\n",
      "  filtered_deal_prod_2022_df[list_of_columns] = filtered_deal_prod_2022_df[list_of_columns].apply(pd.to_numeric, errors='coerce')\n"
     ]
    },
    {
     "data": {
      "text/html": [
       "<div>\n",
       "<style scoped>\n",
       "    .dataframe tbody tr th:only-of-type {\n",
       "        vertical-align: middle;\n",
       "    }\n",
       "\n",
       "    .dataframe tbody tr th {\n",
       "        vertical-align: top;\n",
       "    }\n",
       "\n",
       "    .dataframe thead th {\n",
       "        text-align: right;\n",
       "    }\n",
       "</style>\n",
       "<table border=\"1\" class=\"dataframe\">\n",
       "  <thead>\n",
       "    <tr style=\"text-align: right;\">\n",
       "      <th></th>\n",
       "      <th>deal_source_ca</th>\n",
       "      <th>amount_in_company_currency_mean</th>\n",
       "      <th>amount_in_company_currency_median</th>\n",
       "      <th>amount_in_company_currency_max</th>\n",
       "      <th>amount_in_company_currency_min</th>\n",
       "      <th>amount_in_company_currency_sum</th>\n",
       "      <th>amount_in_company_currency_std</th>\n",
       "      <th>total_deal_quantity_mean</th>\n",
       "      <th>total_deal_quantity_median</th>\n",
       "      <th>total_deal_quantity_max</th>\n",
       "      <th>...</th>\n",
       "      <th>total_sku_cost_max</th>\n",
       "      <th>total_sku_cost_min</th>\n",
       "      <th>total_sku_cost_sum</th>\n",
       "      <th>total_sku_cost_std</th>\n",
       "      <th>gross_margin_mean</th>\n",
       "      <th>gross_margin_median</th>\n",
       "      <th>gross_margin_max</th>\n",
       "      <th>gross_margin_min</th>\n",
       "      <th>gross_margin_sum</th>\n",
       "      <th>gross_margin_std</th>\n",
       "    </tr>\n",
       "  </thead>\n",
       "  <tbody>\n",
       "    <tr>\n",
       "      <th>0</th>\n",
       "      <td>AL Leads</td>\n",
       "      <td>1119.600000</td>\n",
       "      <td>1119.60</td>\n",
       "      <td>1155.60</td>\n",
       "      <td>1083.60</td>\n",
       "      <td>2239.20</td>\n",
       "      <td>50.911688</td>\n",
       "      <td>120.000000</td>\n",
       "      <td>120.0</td>\n",
       "      <td>120.0</td>\n",
       "      <td>...</td>\n",
       "      <td>363.00</td>\n",
       "      <td>340.56</td>\n",
       "      <td>703.56</td>\n",
       "      <td>15.867476</td>\n",
       "      <td>0.685796</td>\n",
       "      <td>0.685796</td>\n",
       "      <td>0.685877</td>\n",
       "      <td>0.685714</td>\n",
       "      <td>1.371592</td>\n",
       "      <td>0.000115</td>\n",
       "    </tr>\n",
       "    <tr>\n",
       "      <th>1</th>\n",
       "      <td>AM Outbound</td>\n",
       "      <td>4158.220000</td>\n",
       "      <td>4158.22</td>\n",
       "      <td>4158.22</td>\n",
       "      <td>4158.22</td>\n",
       "      <td>4158.22</td>\n",
       "      <td>NaN</td>\n",
       "      <td>360.000000</td>\n",
       "      <td>360.0</td>\n",
       "      <td>360.0</td>\n",
       "      <td>...</td>\n",
       "      <td>1021.68</td>\n",
       "      <td>1021.68</td>\n",
       "      <td>1021.68</td>\n",
       "      <td>NaN</td>\n",
       "      <td>0.754299</td>\n",
       "      <td>0.754299</td>\n",
       "      <td>0.754299</td>\n",
       "      <td>0.754299</td>\n",
       "      <td>0.754299</td>\n",
       "      <td>NaN</td>\n",
       "    </tr>\n",
       "    <tr>\n",
       "      <th>2</th>\n",
       "      <td>ASI Connect</td>\n",
       "      <td>3731.968889</td>\n",
       "      <td>1185.60</td>\n",
       "      <td>24312.52</td>\n",
       "      <td>585.60</td>\n",
       "      <td>33587.72</td>\n",
       "      <td>7734.410522</td>\n",
       "      <td>409.333333</td>\n",
       "      <td>120.0</td>\n",
       "      <td>2654.0</td>\n",
       "      <td>...</td>\n",
       "      <td>4596.48</td>\n",
       "      <td>184.32</td>\n",
       "      <td>7625.88</td>\n",
       "      <td>1418.017156</td>\n",
       "      <td>0.692929</td>\n",
       "      <td>0.685246</td>\n",
       "      <td>0.810942</td>\n",
       "      <td>0.601090</td>\n",
       "      <td>6.236362</td>\n",
       "      <td>0.065642</td>\n",
       "    </tr>\n",
       "    <tr>\n",
       "      <th>3</th>\n",
       "      <td>Client Referral</td>\n",
       "      <td>2453.047390</td>\n",
       "      <td>1326.80</td>\n",
       "      <td>54488.80</td>\n",
       "      <td>0.00</td>\n",
       "      <td>4361518.26</td>\n",
       "      <td>3705.904957</td>\n",
       "      <td>335.295276</td>\n",
       "      <td>150.0</td>\n",
       "      <td>10500.0</td>\n",
       "      <td>...</td>\n",
       "      <td>16488.60</td>\n",
       "      <td>122.76</td>\n",
       "      <td>1328144.40</td>\n",
       "      <td>1116.358659</td>\n",
       "      <td>0.681883</td>\n",
       "      <td>0.697953</td>\n",
       "      <td>0.893996</td>\n",
       "      <td>-3.236384</td>\n",
       "      <td>1212.387526</td>\n",
       "      <td>0.124198</td>\n",
       "    </tr>\n",
       "    <tr>\n",
       "      <th>4</th>\n",
       "      <td>CommonSku</td>\n",
       "      <td>2375.714771</td>\n",
       "      <td>1151.25</td>\n",
       "      <td>47937.34</td>\n",
       "      <td>585.60</td>\n",
       "      <td>258952.91</td>\n",
       "      <td>4759.735627</td>\n",
       "      <td>321.440367</td>\n",
       "      <td>120.0</td>\n",
       "      <td>8100.0</td>\n",
       "      <td>...</td>\n",
       "      <td>13141.44</td>\n",
       "      <td>184.32</td>\n",
       "      <td>80235.12</td>\n",
       "      <td>1353.789780</td>\n",
       "      <td>0.684521</td>\n",
       "      <td>0.686600</td>\n",
       "      <td>0.828188</td>\n",
       "      <td>0.391162</td>\n",
       "      <td>74.612843</td>\n",
       "      <td>0.063790</td>\n",
       "    </tr>\n",
       "  </tbody>\n",
       "</table>\n",
       "<p>5 rows × 25 columns</p>\n",
       "</div>"
      ],
      "text/plain": [
       "    deal_source_ca  amount_in_company_currency_mean  \\\n",
       "0         AL Leads                      1119.600000   \n",
       "1      AM Outbound                      4158.220000   \n",
       "2      ASI Connect                      3731.968889   \n",
       "3  Client Referral                      2453.047390   \n",
       "4        CommonSku                      2375.714771   \n",
       "\n",
       "   amount_in_company_currency_median  amount_in_company_currency_max  \\\n",
       "0                            1119.60                         1155.60   \n",
       "1                            4158.22                         4158.22   \n",
       "2                            1185.60                        24312.52   \n",
       "3                            1326.80                        54488.80   \n",
       "4                            1151.25                        47937.34   \n",
       "\n",
       "   amount_in_company_currency_min  amount_in_company_currency_sum  \\\n",
       "0                         1083.60                         2239.20   \n",
       "1                         4158.22                         4158.22   \n",
       "2                          585.60                        33587.72   \n",
       "3                            0.00                      4361518.26   \n",
       "4                          585.60                       258952.91   \n",
       "\n",
       "   amount_in_company_currency_std  total_deal_quantity_mean  \\\n",
       "0                       50.911688                120.000000   \n",
       "1                             NaN                360.000000   \n",
       "2                     7734.410522                409.333333   \n",
       "3                     3705.904957                335.295276   \n",
       "4                     4759.735627                321.440367   \n",
       "\n",
       "   total_deal_quantity_median  total_deal_quantity_max  ...  \\\n",
       "0                       120.0                    120.0  ...   \n",
       "1                       360.0                    360.0  ...   \n",
       "2                       120.0                   2654.0  ...   \n",
       "3                       150.0                  10500.0  ...   \n",
       "4                       120.0                   8100.0  ...   \n",
       "\n",
       "   total_sku_cost_max  total_sku_cost_min  total_sku_cost_sum  \\\n",
       "0              363.00              340.56              703.56   \n",
       "1             1021.68             1021.68             1021.68   \n",
       "2             4596.48              184.32             7625.88   \n",
       "3            16488.60              122.76          1328144.40   \n",
       "4            13141.44              184.32            80235.12   \n",
       "\n",
       "   total_sku_cost_std  gross_margin_mean  gross_margin_median  \\\n",
       "0           15.867476           0.685796             0.685796   \n",
       "1                 NaN           0.754299             0.754299   \n",
       "2         1418.017156           0.692929             0.685246   \n",
       "3         1116.358659           0.681883             0.697953   \n",
       "4         1353.789780           0.684521             0.686600   \n",
       "\n",
       "   gross_margin_max  gross_margin_min  gross_margin_sum  gross_margin_std  \n",
       "0          0.685877          0.685714          1.371592          0.000115  \n",
       "1          0.754299          0.754299          0.754299               NaN  \n",
       "2          0.810942          0.601090          6.236362          0.065642  \n",
       "3          0.893996         -3.236384       1212.387526          0.124198  \n",
       "4          0.828188          0.391162         74.612843          0.063790  \n",
       "\n",
       "[5 rows x 25 columns]"
      ]
     },
     "execution_count": 36,
     "metadata": {},
     "output_type": "execute_result"
    }
   ],
   "source": [
    "# GroupBy deal_source_ca Summary Stats 2022\n",
    "\n",
    "# Define the group by column\n",
    "group_by_column = \"deal_source_ca\"\n",
    "\n",
    "# Set the display format for floating-point numbers\n",
    "pd.options.display.float_format = '{:.2f}'.format\n",
    "\n",
    "# Define the list of columns for summary statistics\n",
    "list_of_columns = [\"amount_in_company_currency\", \"total_deal_quantity\", \"total_sku_cost\", \"gross_margin\"]\n",
    "\n",
    "# Convert columns to numeric data types - dont change!\n",
    "filtered_deal_prod_2022_df[list_of_columns] = filtered_deal_prod_2022_df[list_of_columns].apply(pd.to_numeric, errors='coerce')\n",
    "\n",
    "# Perform group by and summary statistics on selected columns\n",
    "grouped_dealsource_sum_2022_df = filtered_deal_prod_2022_df.groupby(group_by_column)[list_of_columns].agg(['mean', 'median', 'max', 'min', 'sum', 'std'])\n",
    "\n",
    "# Reset the column names to remove the multi-level index\n",
    "grouped_dealsource_sum_2022_df.columns = grouped_dealsource_sum_2022_df.columns.map('_'.join)\n",
    "\n",
    "# Reset the index and move \"client_type_x\" column to the first position\n",
    "grouped_dealsource_sum_2022_df = grouped_dealsource_sum_2022_df.reset_index()\n",
    "\n",
    "# Save the summary DataFrame as a new CSV file with right-justified numbers\n",
    "grouped_dealsource_sum_2022_df.to_csv('grouped_summary_2022_dealsource.csv', index=False, float_format='%.2f')\n",
    "\n",
    "# Reset the display format to the default\n",
    "pd.options.display.float_format = None\n",
    "\n",
    "# Print the first 5 records\n",
    "grouped_dealsource_sum_2022_df.head()"
   ]
  },
  {
   "cell_type": "code",
   "execution_count": 37,
   "metadata": {},
   "outputs": [
    {
     "name": "stderr",
     "output_type": "stream",
     "text": [
      "C:\\Users\\KatreeceHattaway\\AppData\\Local\\Temp\\ipykernel_1456\\501917372.py:13: SettingWithCopyWarning: \n",
      "A value is trying to be set on a copy of a slice from a DataFrame.\n",
      "Try using .loc[row_indexer,col_indexer] = value instead\n",
      "\n",
      "See the caveats in the documentation: https://pandas.pydata.org/pandas-docs/stable/user_guide/indexing.html#returning-a-view-versus-a-copy\n",
      "  filtered_deal_prod_2023_df[list_of_columns] = filtered_deal_prod_2023_df[list_of_columns].apply(pd.to_numeric, errors='coerce')\n"
     ]
    },
    {
     "data": {
      "text/html": [
       "<div>\n",
       "<style scoped>\n",
       "    .dataframe tbody tr th:only-of-type {\n",
       "        vertical-align: middle;\n",
       "    }\n",
       "\n",
       "    .dataframe tbody tr th {\n",
       "        vertical-align: top;\n",
       "    }\n",
       "\n",
       "    .dataframe thead th {\n",
       "        text-align: right;\n",
       "    }\n",
       "</style>\n",
       "<table border=\"1\" class=\"dataframe\">\n",
       "  <thead>\n",
       "    <tr style=\"text-align: right;\">\n",
       "      <th></th>\n",
       "      <th>deal_source_ca</th>\n",
       "      <th>amount_in_company_currency_mean</th>\n",
       "      <th>amount_in_company_currency_median</th>\n",
       "      <th>amount_in_company_currency_max</th>\n",
       "      <th>amount_in_company_currency_min</th>\n",
       "      <th>amount_in_company_currency_sum</th>\n",
       "      <th>amount_in_company_currency_std</th>\n",
       "      <th>total_deal_quantity_mean</th>\n",
       "      <th>total_deal_quantity_median</th>\n",
       "      <th>total_deal_quantity_max</th>\n",
       "      <th>...</th>\n",
       "      <th>total_sku_cost_max</th>\n",
       "      <th>total_sku_cost_min</th>\n",
       "      <th>total_sku_cost_sum</th>\n",
       "      <th>total_sku_cost_std</th>\n",
       "      <th>gross_margin_mean</th>\n",
       "      <th>gross_margin_median</th>\n",
       "      <th>gross_margin_max</th>\n",
       "      <th>gross_margin_min</th>\n",
       "      <th>gross_margin_sum</th>\n",
       "      <th>gross_margin_std</th>\n",
       "    </tr>\n",
       "  </thead>\n",
       "  <tbody>\n",
       "    <tr>\n",
       "      <th>0</th>\n",
       "      <td>ASI Connect</td>\n",
       "      <td>1405.127143</td>\n",
       "      <td>1339.20</td>\n",
       "      <td>3388.5</td>\n",
       "      <td>175.0</td>\n",
       "      <td>19671.78</td>\n",
       "      <td>822.047931</td>\n",
       "      <td>141.357143</td>\n",
       "      <td>110.0</td>\n",
       "      <td>450.0</td>\n",
       "      <td>...</td>\n",
       "      <td>1188.72</td>\n",
       "      <td>3.60</td>\n",
       "      <td>5943.12</td>\n",
       "      <td>293.686902</td>\n",
       "      <td>0.722649</td>\n",
       "      <td>0.702177</td>\n",
       "      <td>0.979429</td>\n",
       "      <td>0.641087</td>\n",
       "      <td>10.117085</td>\n",
       "      <td>0.081678</td>\n",
       "    </tr>\n",
       "    <tr>\n",
       "      <th>1</th>\n",
       "      <td>Client Referral</td>\n",
       "      <td>2776.527746</td>\n",
       "      <td>1600.00</td>\n",
       "      <td>137620.0</td>\n",
       "      <td>0.0</td>\n",
       "      <td>4398019.95</td>\n",
       "      <td>5207.510577</td>\n",
       "      <td>357.579545</td>\n",
       "      <td>150.0</td>\n",
       "      <td>20000.0</td>\n",
       "      <td>...</td>\n",
       "      <td>32000.00</td>\n",
       "      <td>3.60</td>\n",
       "      <td>1302889.72</td>\n",
       "      <td>1531.731386</td>\n",
       "      <td>0.690276</td>\n",
       "      <td>0.702068</td>\n",
       "      <td>0.979429</td>\n",
       "      <td>-2.402057</td>\n",
       "      <td>1093.397094</td>\n",
       "      <td>0.114636</td>\n",
       "    </tr>\n",
       "    <tr>\n",
       "      <th>2</th>\n",
       "      <td>CommonSku</td>\n",
       "      <td>1982.635839</td>\n",
       "      <td>1268.69</td>\n",
       "      <td>14352.0</td>\n",
       "      <td>0.0</td>\n",
       "      <td>271621.11</td>\n",
       "      <td>2248.053217</td>\n",
       "      <td>217.839416</td>\n",
       "      <td>120.0</td>\n",
       "      <td>2400.0</td>\n",
       "      <td>...</td>\n",
       "      <td>4148.64</td>\n",
       "      <td>91.52</td>\n",
       "      <td>81159.62</td>\n",
       "      <td>628.733500</td>\n",
       "      <td>0.679461</td>\n",
       "      <td>0.702479</td>\n",
       "      <td>0.834796</td>\n",
       "      <td>0.000000</td>\n",
       "      <td>93.086117</td>\n",
       "      <td>0.121305</td>\n",
       "    </tr>\n",
       "    <tr>\n",
       "      <th>3</th>\n",
       "      <td>Direct Traffic</td>\n",
       "      <td>2725.865274</td>\n",
       "      <td>1744.54</td>\n",
       "      <td>27510.0</td>\n",
       "      <td>0.0</td>\n",
       "      <td>1643696.76</td>\n",
       "      <td>3036.859439</td>\n",
       "      <td>247.520730</td>\n",
       "      <td>120.0</td>\n",
       "      <td>5250.0</td>\n",
       "      <td>...</td>\n",
       "      <td>8218.08</td>\n",
       "      <td>3.60</td>\n",
       "      <td>379764.81</td>\n",
       "      <td>720.700421</td>\n",
       "      <td>0.724773</td>\n",
       "      <td>0.770568</td>\n",
       "      <td>0.976000</td>\n",
       "      <td>-10.320000</td>\n",
       "      <td>437.038103</td>\n",
       "      <td>0.592216</td>\n",
       "    </tr>\n",
       "    <tr>\n",
       "      <th>4</th>\n",
       "      <td>ESP Central</td>\n",
       "      <td>2211.397500</td>\n",
       "      <td>1050.00</td>\n",
       "      <td>18278.0</td>\n",
       "      <td>409.2</td>\n",
       "      <td>53073.54</td>\n",
       "      <td>3646.144838</td>\n",
       "      <td>275.500000</td>\n",
       "      <td>120.0</td>\n",
       "      <td>2600.0</td>\n",
       "      <td>...</td>\n",
       "      <td>6128.64</td>\n",
       "      <td>152.64</td>\n",
       "      <td>17255.04</td>\n",
       "      <td>1225.569848</td>\n",
       "      <td>0.673758</td>\n",
       "      <td>0.669328</td>\n",
       "      <td>0.763907</td>\n",
       "      <td>0.605536</td>\n",
       "      <td>16.170188</td>\n",
       "      <td>0.038261</td>\n",
       "    </tr>\n",
       "  </tbody>\n",
       "</table>\n",
       "<p>5 rows × 25 columns</p>\n",
       "</div>"
      ],
      "text/plain": [
       "    deal_source_ca  amount_in_company_currency_mean  \\\n",
       "0      ASI Connect                      1405.127143   \n",
       "1  Client Referral                      2776.527746   \n",
       "2        CommonSku                      1982.635839   \n",
       "3   Direct Traffic                      2725.865274   \n",
       "4      ESP Central                      2211.397500   \n",
       "\n",
       "   amount_in_company_currency_median  amount_in_company_currency_max  \\\n",
       "0                            1339.20                          3388.5   \n",
       "1                            1600.00                        137620.0   \n",
       "2                            1268.69                         14352.0   \n",
       "3                            1744.54                         27510.0   \n",
       "4                            1050.00                         18278.0   \n",
       "\n",
       "   amount_in_company_currency_min  amount_in_company_currency_sum  \\\n",
       "0                           175.0                        19671.78   \n",
       "1                             0.0                      4398019.95   \n",
       "2                             0.0                       271621.11   \n",
       "3                             0.0                      1643696.76   \n",
       "4                           409.2                        53073.54   \n",
       "\n",
       "   amount_in_company_currency_std  total_deal_quantity_mean  \\\n",
       "0                      822.047931                141.357143   \n",
       "1                     5207.510577                357.579545   \n",
       "2                     2248.053217                217.839416   \n",
       "3                     3036.859439                247.520730   \n",
       "4                     3646.144838                275.500000   \n",
       "\n",
       "   total_deal_quantity_median  total_deal_quantity_max  ...  \\\n",
       "0                       110.0                    450.0  ...   \n",
       "1                       150.0                  20000.0  ...   \n",
       "2                       120.0                   2400.0  ...   \n",
       "3                       120.0                   5250.0  ...   \n",
       "4                       120.0                   2600.0  ...   \n",
       "\n",
       "   total_sku_cost_max  total_sku_cost_min  total_sku_cost_sum  \\\n",
       "0             1188.72                3.60             5943.12   \n",
       "1            32000.00                3.60          1302889.72   \n",
       "2             4148.64               91.52            81159.62   \n",
       "3             8218.08                3.60           379764.81   \n",
       "4             6128.64              152.64            17255.04   \n",
       "\n",
       "   total_sku_cost_std  gross_margin_mean  gross_margin_median  \\\n",
       "0          293.686902           0.722649             0.702177   \n",
       "1         1531.731386           0.690276             0.702068   \n",
       "2          628.733500           0.679461             0.702479   \n",
       "3          720.700421           0.724773             0.770568   \n",
       "4         1225.569848           0.673758             0.669328   \n",
       "\n",
       "   gross_margin_max  gross_margin_min  gross_margin_sum  gross_margin_std  \n",
       "0          0.979429          0.641087         10.117085          0.081678  \n",
       "1          0.979429         -2.402057       1093.397094          0.114636  \n",
       "2          0.834796          0.000000         93.086117          0.121305  \n",
       "3          0.976000        -10.320000        437.038103          0.592216  \n",
       "4          0.763907          0.605536         16.170188          0.038261  \n",
       "\n",
       "[5 rows x 25 columns]"
      ]
     },
     "execution_count": 37,
     "metadata": {},
     "output_type": "execute_result"
    }
   ],
   "source": [
    "# GroupBy deal_source_ca Summary Stats 2023\n",
    "\n",
    "# Define the group by column\n",
    "group_by_column = \"deal_source_ca\"\n",
    "\n",
    "# Set the display format for floating-point numbers\n",
    "pd.options.display.float_format = '{:.2f}'.format\n",
    "\n",
    "# Define the list of columns for summary statistics\n",
    "list_of_columns = [\"amount_in_company_currency\", \"total_deal_quantity\", \"total_sku_cost\", \"gross_margin\"]\n",
    "\n",
    "# Convert columns to numeric data types - dont change!\n",
    "filtered_deal_prod_2023_df[list_of_columns] = filtered_deal_prod_2023_df[list_of_columns].apply(pd.to_numeric, errors='coerce')\n",
    "\n",
    "# Perform group by and summary statistics on selected columns\n",
    "grouped_dealsource_sum_2023_df = filtered_deal_prod_2023_df.groupby(group_by_column)[list_of_columns].agg(['mean', 'median', 'max', 'min', 'sum', 'std'])\n",
    "\n",
    "# Reset the column names to remove the multi-level index\n",
    "grouped_dealsource_sum_2023_df.columns = grouped_dealsource_sum_2023_df.columns.map('_'.join)\n",
    "\n",
    "# Reset the index and move \"client_type_x\" column to the first position\n",
    "grouped_dealsource_sum_2023_df = grouped_dealsource_sum_2023_df.reset_index()\n",
    "\n",
    "# Save the summary DataFrame as a new CSV file with right-justified numbers\n",
    "grouped_dealsource_sum_2023_df.to_csv('grouped_summary_2023_dealsource.csv', index=False, float_format='%.2f')\n",
    "\n",
    "# Reset the display format to the default\n",
    "pd.options.display.float_format = None\n",
    "\n",
    "# Print the first 5 records\n",
    "grouped_dealsource_sum_2023_df.head()"
   ]
  },
  {
   "cell_type": "code",
   "execution_count": 38,
   "metadata": {},
   "outputs": [
    {
     "name": "stderr",
     "output_type": "stream",
     "text": [
      "C:\\Users\\KatreeceHattaway\\AppData\\Local\\Temp\\ipykernel_1456\\1797207124.py:13: SettingWithCopyWarning: \n",
      "A value is trying to be set on a copy of a slice from a DataFrame.\n",
      "Try using .loc[row_indexer,col_indexer] = value instead\n",
      "\n",
      "See the caveats in the documentation: https://pandas.pydata.org/pandas-docs/stable/user_guide/indexing.html#returning-a-view-versus-a-copy\n",
      "  filtered_deal_prod_2022_df[list_of_columns] = filtered_deal_prod_2022_df[list_of_columns].apply(pd.to_numeric, errors='coerce')\n"
     ]
    },
    {
     "data": {
      "text/html": [
       "<div>\n",
       "<style scoped>\n",
       "    .dataframe tbody tr th:only-of-type {\n",
       "        vertical-align: middle;\n",
       "    }\n",
       "\n",
       "    .dataframe tbody tr th {\n",
       "        vertical-align: top;\n",
       "    }\n",
       "\n",
       "    .dataframe thead th {\n",
       "        text-align: right;\n",
       "    }\n",
       "</style>\n",
       "<table border=\"1\" class=\"dataframe\">\n",
       "  <thead>\n",
       "    <tr style=\"text-align: right;\">\n",
       "      <th></th>\n",
       "      <th>automation_tools</th>\n",
       "      <th>amount_in_company_currency_mean</th>\n",
       "      <th>amount_in_company_currency_median</th>\n",
       "      <th>amount_in_company_currency_max</th>\n",
       "      <th>amount_in_company_currency_min</th>\n",
       "      <th>amount_in_company_currency_sum</th>\n",
       "      <th>amount_in_company_currency_std</th>\n",
       "      <th>total_deal_quantity_mean</th>\n",
       "      <th>total_deal_quantity_median</th>\n",
       "      <th>total_deal_quantity_max</th>\n",
       "      <th>...</th>\n",
       "      <th>total_sku_cost_max</th>\n",
       "      <th>total_sku_cost_min</th>\n",
       "      <th>total_sku_cost_sum</th>\n",
       "      <th>total_sku_cost_std</th>\n",
       "      <th>gross_margin_mean</th>\n",
       "      <th>gross_margin_median</th>\n",
       "      <th>gross_margin_max</th>\n",
       "      <th>gross_margin_min</th>\n",
       "      <th>gross_margin_sum</th>\n",
       "      <th>gross_margin_std</th>\n",
       "    </tr>\n",
       "  </thead>\n",
       "  <tbody>\n",
       "    <tr>\n",
       "      <th>0</th>\n",
       "      <td>3D Builder</td>\n",
       "      <td>1976.774923</td>\n",
       "      <td>1449.445</td>\n",
       "      <td>8968.08</td>\n",
       "      <td>585.60</td>\n",
       "      <td>256980.74</td>\n",
       "      <td>1620.545371</td>\n",
       "      <td>166.223077</td>\n",
       "      <td>120.0</td>\n",
       "      <td>950.0</td>\n",
       "      <td>...</td>\n",
       "      <td>1739.88</td>\n",
       "      <td>184.32</td>\n",
       "      <td>55421.08</td>\n",
       "      <td>312.664026</td>\n",
       "      <td>0.774209</td>\n",
       "      <td>0.782584</td>\n",
       "      <td>0.835770</td>\n",
       "      <td>0.652166</td>\n",
       "      <td>100.647212</td>\n",
       "      <td>0.039431</td>\n",
       "    </tr>\n",
       "    <tr>\n",
       "      <th>1</th>\n",
       "      <td>Intake 1.0</td>\n",
       "      <td>3812.030000</td>\n",
       "      <td>3812.030</td>\n",
       "      <td>3812.03</td>\n",
       "      <td>3812.03</td>\n",
       "      <td>3812.03</td>\n",
       "      <td>NaN</td>\n",
       "      <td>360.000000</td>\n",
       "      <td>360.0</td>\n",
       "      <td>360.0</td>\n",
       "      <td>...</td>\n",
       "      <td>896.52</td>\n",
       "      <td>896.52</td>\n",
       "      <td>896.52</td>\n",
       "      <td>NaN</td>\n",
       "      <td>0.764818</td>\n",
       "      <td>0.764818</td>\n",
       "      <td>0.764818</td>\n",
       "      <td>0.764818</td>\n",
       "      <td>0.764818</td>\n",
       "      <td>NaN</td>\n",
       "    </tr>\n",
       "    <tr>\n",
       "      <th>2</th>\n",
       "      <td>Intake 2.0 Edward</td>\n",
       "      <td>2544.934348</td>\n",
       "      <td>1593.870</td>\n",
       "      <td>26492.57</td>\n",
       "      <td>585.60</td>\n",
       "      <td>995069.33</td>\n",
       "      <td>2554.245405</td>\n",
       "      <td>241.012788</td>\n",
       "      <td>120.0</td>\n",
       "      <td>4000.0</td>\n",
       "      <td>...</td>\n",
       "      <td>6894.72</td>\n",
       "      <td>151.20</td>\n",
       "      <td>231777.36</td>\n",
       "      <td>586.384651</td>\n",
       "      <td>0.758601</td>\n",
       "      <td>0.770157</td>\n",
       "      <td>0.900204</td>\n",
       "      <td>0.382013</td>\n",
       "      <td>296.613149</td>\n",
       "      <td>0.058074</td>\n",
       "    </tr>\n",
       "    <tr>\n",
       "      <th>3</th>\n",
       "      <td>Intake 2.0 Jacob</td>\n",
       "      <td>832.200000</td>\n",
       "      <td>832.200</td>\n",
       "      <td>832.20</td>\n",
       "      <td>832.20</td>\n",
       "      <td>832.20</td>\n",
       "      <td>NaN</td>\n",
       "      <td>60.000000</td>\n",
       "      <td>60.0</td>\n",
       "      <td>60.0</td>\n",
       "      <td>...</td>\n",
       "      <td>184.32</td>\n",
       "      <td>184.32</td>\n",
       "      <td>184.32</td>\n",
       "      <td>NaN</td>\n",
       "      <td>0.778515</td>\n",
       "      <td>0.778515</td>\n",
       "      <td>0.778515</td>\n",
       "      <td>0.778515</td>\n",
       "      <td>0.778515</td>\n",
       "      <td>NaN</td>\n",
       "    </tr>\n",
       "    <tr>\n",
       "      <th>4</th>\n",
       "      <td>Intake 3.0</td>\n",
       "      <td>2176.759132</td>\n",
       "      <td>1474.680</td>\n",
       "      <td>20939.88</td>\n",
       "      <td>168.00</td>\n",
       "      <td>1253813.26</td>\n",
       "      <td>2103.649973</td>\n",
       "      <td>194.185764</td>\n",
       "      <td>120.0</td>\n",
       "      <td>2400.0</td>\n",
       "      <td>...</td>\n",
       "      <td>4072.32</td>\n",
       "      <td>184.32</td>\n",
       "      <td>285541.76</td>\n",
       "      <td>451.556829</td>\n",
       "      <td>0.759972</td>\n",
       "      <td>0.776573</td>\n",
       "      <td>0.901880</td>\n",
       "      <td>-0.097143</td>\n",
       "      <td>437.743923</td>\n",
       "      <td>0.066260</td>\n",
       "    </tr>\n",
       "  </tbody>\n",
       "</table>\n",
       "<p>5 rows × 25 columns</p>\n",
       "</div>"
      ],
      "text/plain": [
       "    automation_tools  amount_in_company_currency_mean  \\\n",
       "0         3D Builder                      1976.774923   \n",
       "1         Intake 1.0                      3812.030000   \n",
       "2  Intake 2.0 Edward                      2544.934348   \n",
       "3   Intake 2.0 Jacob                       832.200000   \n",
       "4         Intake 3.0                      2176.759132   \n",
       "\n",
       "   amount_in_company_currency_median  amount_in_company_currency_max  \\\n",
       "0                           1449.445                         8968.08   \n",
       "1                           3812.030                         3812.03   \n",
       "2                           1593.870                        26492.57   \n",
       "3                            832.200                          832.20   \n",
       "4                           1474.680                        20939.88   \n",
       "\n",
       "   amount_in_company_currency_min  amount_in_company_currency_sum  \\\n",
       "0                          585.60                       256980.74   \n",
       "1                         3812.03                         3812.03   \n",
       "2                          585.60                       995069.33   \n",
       "3                          832.20                          832.20   \n",
       "4                          168.00                      1253813.26   \n",
       "\n",
       "   amount_in_company_currency_std  total_deal_quantity_mean  \\\n",
       "0                     1620.545371                166.223077   \n",
       "1                             NaN                360.000000   \n",
       "2                     2554.245405                241.012788   \n",
       "3                             NaN                 60.000000   \n",
       "4                     2103.649973                194.185764   \n",
       "\n",
       "   total_deal_quantity_median  total_deal_quantity_max  ...  \\\n",
       "0                       120.0                    950.0  ...   \n",
       "1                       360.0                    360.0  ...   \n",
       "2                       120.0                   4000.0  ...   \n",
       "3                        60.0                     60.0  ...   \n",
       "4                       120.0                   2400.0  ...   \n",
       "\n",
       "   total_sku_cost_max  total_sku_cost_min  total_sku_cost_sum  \\\n",
       "0             1739.88              184.32            55421.08   \n",
       "1              896.52              896.52              896.52   \n",
       "2             6894.72              151.20           231777.36   \n",
       "3              184.32              184.32              184.32   \n",
       "4             4072.32              184.32           285541.76   \n",
       "\n",
       "   total_sku_cost_std  gross_margin_mean  gross_margin_median  \\\n",
       "0          312.664026           0.774209             0.782584   \n",
       "1                 NaN           0.764818             0.764818   \n",
       "2          586.384651           0.758601             0.770157   \n",
       "3                 NaN           0.778515             0.778515   \n",
       "4          451.556829           0.759972             0.776573   \n",
       "\n",
       "   gross_margin_max  gross_margin_min  gross_margin_sum  gross_margin_std  \n",
       "0          0.835770          0.652166        100.647212          0.039431  \n",
       "1          0.764818          0.764818          0.764818               NaN  \n",
       "2          0.900204          0.382013        296.613149          0.058074  \n",
       "3          0.778515          0.778515          0.778515               NaN  \n",
       "4          0.901880         -0.097143        437.743923          0.066260  \n",
       "\n",
       "[5 rows x 25 columns]"
      ]
     },
     "execution_count": 38,
     "metadata": {},
     "output_type": "execute_result"
    }
   ],
   "source": [
    "# GroupBy automation_tools Summary Stats 2022\n",
    "\n",
    "# Define the group by column\n",
    "group_by_column = \"automation_tools\"\n",
    "\n",
    "# Set the display format for floating-point numbers\n",
    "pd.options.display.float_format = '{:.2f}'.format\n",
    "\n",
    "# Define the list of columns for summary statistics\n",
    "list_of_columns = [\"amount_in_company_currency\", \"total_deal_quantity\", \"total_sku_cost\", \"gross_margin\"]\n",
    "\n",
    "# Convert columns to numeric data types - dont change!\n",
    "filtered_deal_prod_2022_df[list_of_columns] = filtered_deal_prod_2022_df[list_of_columns].apply(pd.to_numeric, errors='coerce')\n",
    "\n",
    "# Perform group by and summary statistics on selected columns\n",
    "grouped_automationtools_sum_2022_df = filtered_deal_prod_2022_df.groupby(group_by_column)[list_of_columns].agg(['mean', 'median', 'max', 'min', 'sum', 'std'])\n",
    "\n",
    "# Reset the column names to remove the multi-level index\n",
    "grouped_automationtools_sum_2022_df.columns = grouped_automationtools_sum_2022_df.columns.map('_'.join)\n",
    "\n",
    "# Reset the index and move \"client_type_x\" column to the first position\n",
    "grouped_automationtools_sum_2022_df = grouped_automationtools_sum_2022_df.reset_index()\n",
    "\n",
    "# Save the summary DataFrame as a new CSV file with right-justified numbers\n",
    "grouped_automationtools_sum_2022_df.to_csv('grouped_summary_2022_automationtools.csv', index=False, float_format='%.2f')\n",
    "\n",
    "# Reset the display format to the default\n",
    "pd.options.display.float_format = None\n",
    "\n",
    "# Print the first 5 records\n",
    "grouped_automationtools_sum_2022_df.head()"
   ]
  },
  {
   "cell_type": "code",
   "execution_count": 39,
   "metadata": {},
   "outputs": [
    {
     "name": "stderr",
     "output_type": "stream",
     "text": [
      "C:\\Users\\KatreeceHattaway\\AppData\\Local\\Temp\\ipykernel_1456\\2793870370.py:13: SettingWithCopyWarning: \n",
      "A value is trying to be set on a copy of a slice from a DataFrame.\n",
      "Try using .loc[row_indexer,col_indexer] = value instead\n",
      "\n",
      "See the caveats in the documentation: https://pandas.pydata.org/pandas-docs/stable/user_guide/indexing.html#returning-a-view-versus-a-copy\n",
      "  filtered_deal_prod_2023_df[list_of_columns] = filtered_deal_prod_2023_df[list_of_columns].apply(pd.to_numeric, errors='coerce')\n"
     ]
    },
    {
     "data": {
      "text/html": [
       "<div>\n",
       "<style scoped>\n",
       "    .dataframe tbody tr th:only-of-type {\n",
       "        vertical-align: middle;\n",
       "    }\n",
       "\n",
       "    .dataframe tbody tr th {\n",
       "        vertical-align: top;\n",
       "    }\n",
       "\n",
       "    .dataframe thead th {\n",
       "        text-align: right;\n",
       "    }\n",
       "</style>\n",
       "<table border=\"1\" class=\"dataframe\">\n",
       "  <thead>\n",
       "    <tr style=\"text-align: right;\">\n",
       "      <th></th>\n",
       "      <th>automation_tools</th>\n",
       "      <th>amount_in_company_currency_mean</th>\n",
       "      <th>amount_in_company_currency_median</th>\n",
       "      <th>amount_in_company_currency_max</th>\n",
       "      <th>amount_in_company_currency_min</th>\n",
       "      <th>amount_in_company_currency_sum</th>\n",
       "      <th>amount_in_company_currency_std</th>\n",
       "      <th>total_deal_quantity_mean</th>\n",
       "      <th>total_deal_quantity_median</th>\n",
       "      <th>total_deal_quantity_max</th>\n",
       "      <th>...</th>\n",
       "      <th>total_sku_cost_max</th>\n",
       "      <th>total_sku_cost_min</th>\n",
       "      <th>total_sku_cost_sum</th>\n",
       "      <th>total_sku_cost_std</th>\n",
       "      <th>gross_margin_mean</th>\n",
       "      <th>gross_margin_median</th>\n",
       "      <th>gross_margin_max</th>\n",
       "      <th>gross_margin_min</th>\n",
       "      <th>gross_margin_sum</th>\n",
       "      <th>gross_margin_std</th>\n",
       "    </tr>\n",
       "  </thead>\n",
       "  <tbody>\n",
       "    <tr>\n",
       "      <th>0</th>\n",
       "      <td>3D Builder</td>\n",
       "      <td>2278.752006</td>\n",
       "      <td>1520.4</td>\n",
       "      <td>27214.29</td>\n",
       "      <td>0.0</td>\n",
       "      <td>749709.41</td>\n",
       "      <td>2820.091746</td>\n",
       "      <td>192.115502</td>\n",
       "      <td>120.0</td>\n",
       "      <td>2800.0</td>\n",
       "      <td>...</td>\n",
       "      <td>5692.32</td>\n",
       "      <td>126.00</td>\n",
       "      <td>167036.68</td>\n",
       "      <td>642.311895</td>\n",
       "      <td>0.767413</td>\n",
       "      <td>0.779209</td>\n",
       "      <td>0.908199</td>\n",
       "      <td>-0.461321</td>\n",
       "      <td>252.478911</td>\n",
       "      <td>0.093933</td>\n",
       "    </tr>\n",
       "    <tr>\n",
       "      <th>1</th>\n",
       "      <td>Intake 2.0 Edward</td>\n",
       "      <td>935.100000</td>\n",
       "      <td>935.1</td>\n",
       "      <td>1182.00</td>\n",
       "      <td>688.2</td>\n",
       "      <td>1870.20</td>\n",
       "      <td>349.169329</td>\n",
       "      <td>90.000000</td>\n",
       "      <td>90.0</td>\n",
       "      <td>120.0</td>\n",
       "      <td>...</td>\n",
       "      <td>294.36</td>\n",
       "      <td>203.76</td>\n",
       "      <td>498.12</td>\n",
       "      <td>64.063874</td>\n",
       "      <td>0.727444</td>\n",
       "      <td>0.727444</td>\n",
       "      <td>0.750964</td>\n",
       "      <td>0.703923</td>\n",
       "      <td>1.454888</td>\n",
       "      <td>0.033263</td>\n",
       "    </tr>\n",
       "    <tr>\n",
       "      <th>2</th>\n",
       "      <td>Intake 3.0</td>\n",
       "      <td>2203.185252</td>\n",
       "      <td>1520.4</td>\n",
       "      <td>17575.05</td>\n",
       "      <td>569.7</td>\n",
       "      <td>742473.43</td>\n",
       "      <td>2221.701309</td>\n",
       "      <td>190.721068</td>\n",
       "      <td>120.0</td>\n",
       "      <td>2750.0</td>\n",
       "      <td>...</td>\n",
       "      <td>4435.20</td>\n",
       "      <td>122.88</td>\n",
       "      <td>162837.32</td>\n",
       "      <td>484.613809</td>\n",
       "      <td>0.772180</td>\n",
       "      <td>0.777137</td>\n",
       "      <td>0.938297</td>\n",
       "      <td>0.549852</td>\n",
       "      <td>260.224571</td>\n",
       "      <td>0.048808</td>\n",
       "    </tr>\n",
       "    <tr>\n",
       "      <th>3</th>\n",
       "      <td>Intake 4.0 Logged In</td>\n",
       "      <td>2228.965874</td>\n",
       "      <td>1520.4</td>\n",
       "      <td>24350.00</td>\n",
       "      <td>385.8</td>\n",
       "      <td>956226.36</td>\n",
       "      <td>2349.607300</td>\n",
       "      <td>202.920746</td>\n",
       "      <td>120.0</td>\n",
       "      <td>3000.0</td>\n",
       "      <td>...</td>\n",
       "      <td>5180.64</td>\n",
       "      <td>122.88</td>\n",
       "      <td>225699.21</td>\n",
       "      <td>523.081599</td>\n",
       "      <td>0.742264</td>\n",
       "      <td>0.754301</td>\n",
       "      <td>0.925148</td>\n",
       "      <td>0.477836</td>\n",
       "      <td>318.431144</td>\n",
       "      <td>0.068221</td>\n",
       "    </tr>\n",
       "    <tr>\n",
       "      <th>4</th>\n",
       "      <td>Intake 4.0 Logged Out</td>\n",
       "      <td>2116.635371</td>\n",
       "      <td>1520.4</td>\n",
       "      <td>17928.00</td>\n",
       "      <td>469.2</td>\n",
       "      <td>484709.50</td>\n",
       "      <td>1996.247062</td>\n",
       "      <td>157.296943</td>\n",
       "      <td>120.0</td>\n",
       "      <td>1800.0</td>\n",
       "      <td>...</td>\n",
       "      <td>4548.96</td>\n",
       "      <td>122.88</td>\n",
       "      <td>103583.92</td>\n",
       "      <td>492.191159</td>\n",
       "      <td>0.785052</td>\n",
       "      <td>0.788279</td>\n",
       "      <td>0.949503</td>\n",
       "      <td>0.631068</td>\n",
       "      <td>179.776952</td>\n",
       "      <td>0.044982</td>\n",
       "    </tr>\n",
       "  </tbody>\n",
       "</table>\n",
       "<p>5 rows × 25 columns</p>\n",
       "</div>"
      ],
      "text/plain": [
       "        automation_tools  amount_in_company_currency_mean  \\\n",
       "0             3D Builder                      2278.752006   \n",
       "1      Intake 2.0 Edward                       935.100000   \n",
       "2             Intake 3.0                      2203.185252   \n",
       "3   Intake 4.0 Logged In                      2228.965874   \n",
       "4  Intake 4.0 Logged Out                      2116.635371   \n",
       "\n",
       "   amount_in_company_currency_median  amount_in_company_currency_max  \\\n",
       "0                             1520.4                        27214.29   \n",
       "1                              935.1                         1182.00   \n",
       "2                             1520.4                        17575.05   \n",
       "3                             1520.4                        24350.00   \n",
       "4                             1520.4                        17928.00   \n",
       "\n",
       "   amount_in_company_currency_min  amount_in_company_currency_sum  \\\n",
       "0                             0.0                       749709.41   \n",
       "1                           688.2                         1870.20   \n",
       "2                           569.7                       742473.43   \n",
       "3                           385.8                       956226.36   \n",
       "4                           469.2                       484709.50   \n",
       "\n",
       "   amount_in_company_currency_std  total_deal_quantity_mean  \\\n",
       "0                     2820.091746                192.115502   \n",
       "1                      349.169329                 90.000000   \n",
       "2                     2221.701309                190.721068   \n",
       "3                     2349.607300                202.920746   \n",
       "4                     1996.247062                157.296943   \n",
       "\n",
       "   total_deal_quantity_median  total_deal_quantity_max  ...  \\\n",
       "0                       120.0                   2800.0  ...   \n",
       "1                        90.0                    120.0  ...   \n",
       "2                       120.0                   2750.0  ...   \n",
       "3                       120.0                   3000.0  ...   \n",
       "4                       120.0                   1800.0  ...   \n",
       "\n",
       "   total_sku_cost_max  total_sku_cost_min  total_sku_cost_sum  \\\n",
       "0             5692.32              126.00           167036.68   \n",
       "1              294.36              203.76              498.12   \n",
       "2             4435.20              122.88           162837.32   \n",
       "3             5180.64              122.88           225699.21   \n",
       "4             4548.96              122.88           103583.92   \n",
       "\n",
       "   total_sku_cost_std  gross_margin_mean  gross_margin_median  \\\n",
       "0          642.311895           0.767413             0.779209   \n",
       "1           64.063874           0.727444             0.727444   \n",
       "2          484.613809           0.772180             0.777137   \n",
       "3          523.081599           0.742264             0.754301   \n",
       "4          492.191159           0.785052             0.788279   \n",
       "\n",
       "   gross_margin_max  gross_margin_min  gross_margin_sum  gross_margin_std  \n",
       "0          0.908199         -0.461321        252.478911          0.093933  \n",
       "1          0.750964          0.703923          1.454888          0.033263  \n",
       "2          0.938297          0.549852        260.224571          0.048808  \n",
       "3          0.925148          0.477836        318.431144          0.068221  \n",
       "4          0.949503          0.631068        179.776952          0.044982  \n",
       "\n",
       "[5 rows x 25 columns]"
      ]
     },
     "execution_count": 39,
     "metadata": {},
     "output_type": "execute_result"
    }
   ],
   "source": [
    "# GroupBy automation_tools Summary Stats 2023\n",
    "\n",
    "# Define the group by column\n",
    "group_by_column = \"automation_tools\"\n",
    "\n",
    "# Set the display format for floating-point numbers\n",
    "pd.options.display.float_format = '{:.2f}'.format\n",
    "\n",
    "# Define the list of columns for summary statistics\n",
    "list_of_columns = [\"amount_in_company_currency\", \"total_deal_quantity\", \"total_sku_cost\", \"gross_margin\"]\n",
    "\n",
    "# Convert columns to numeric data types - dont change!\n",
    "filtered_deal_prod_2023_df[list_of_columns] = filtered_deal_prod_2023_df[list_of_columns].apply(pd.to_numeric, errors='coerce')\n",
    "\n",
    "# Perform group by and summary statistics on selected columns\n",
    "grouped_automationtools_sum_2023_df = filtered_deal_prod_2023_df.groupby(group_by_column)[list_of_columns].agg(['mean', 'median', 'max', 'min', 'sum', 'std'])\n",
    "\n",
    "# Reset the column names to remove the multi-level index\n",
    "grouped_automationtools_sum_2023_df.columns = grouped_automationtools_sum_2023_df.columns.map('_'.join)\n",
    "\n",
    "# Reset the index and move \"client_type_x\" column to the first position\n",
    "grouped_automationtools_sum_2023_df = grouped_automationtools_sum_2023_df.reset_index()\n",
    "\n",
    "# Save the summary DataFrame as a new CSV file with right-justified numbers\n",
    "grouped_automationtools_sum_2023_df.to_csv('grouped_summary_2023_automationtools.csv', index=False, float_format='%.2f')\n",
    "\n",
    "# Reset the display format to the default\n",
    "pd.options.display.float_format = None\n",
    "\n",
    "# Print the first 5 records\n",
    "grouped_automationtools_sum_2023_df.head()"
   ]
  },
  {
   "cell_type": "markdown",
   "metadata": {},
   "source": [
    "Calculate the total Costs for each year and display in a graph with changes between the years and how they compare to revenue."
   ]
  },
  {
   "cell_type": "code",
   "execution_count": 40,
   "metadata": {},
   "outputs": [
    {
     "data": {
      "image/png": "[encoded data removed]",
      "text/plain": [
       "<Figure size 1000x600 with 1 Axes>"
      ]
     },
     "metadata": {},
     "output_type": "display_data"
    }
   ],
   "source": [
    "#What were the total costs compared to 2022 to 2023?- KH\n",
    "import matplotlib.pyplot as plt\n",
    "import locale\n",
    "import os\n",
    "\n",
    "# Set the locale to format numbers as currency\n",
    "locale.setlocale(locale.LC_ALL, 'en_US.UTF-8')\n",
    "\n",
    "# Data\n",
    "years = ['2022 Costs', '2022 Revenue', '2023 Costs', '2023 Revenue']\n",
    "\n",
    "# Calculate total costs and total revenue for each year\n",
    "total_cost_2022 = (filtered_deal_prod_2022_df[\"total_sku_cost\"] + filtered_deal_prod_2022_df[\"total_intl_sku_cost\"]).sum()\n",
    "total_cost_2023 = (filtered_deal_prod_2023_df[\"total_sku_cost\"] + filtered_deal_prod_2023_df[\"total_intl_sku_cost\"]).sum()\n",
    "total_revenue_2022 = (filtered_deal_prod_2022_df[\"amount_in_company_currency\"]).sum()\n",
    "total_revenue_2023 = (filtered_deal_prod_2023_df[\"amount_in_company_currency\"]).sum()\n",
    "\n",
    "# Calculate the change in dollar amount and percentage for total costs\n",
    "dollar_change_costs = total_cost_2023 - total_cost_2022\n",
    "percentage_change_costs = (dollar_change_costs / total_cost_2022) * 100\n",
    "\n",
    "# Calculate the change in dollar amount and percentage for total revenue\n",
    "dollar_change_revenue = total_revenue_2023 - total_revenue_2022\n",
    "percentage_change_revenue = (dollar_change_revenue / total_revenue_2022) * 100\n",
    "\n",
    "# Create the bar chart\n",
    "plt.figure(figsize=(10, 6))\n",
    "bars = plt.bar(\n",
    "    years,\n",
    "    [total_cost_2022, total_revenue_2022, total_cost_2023, total_revenue_2023],\n",
    "    color=['skyblue', 'skyblue', 'lightgreen', 'lightgreen']\n",
    ")\n",
    "plt.xlabel('Year and Type')\n",
    "plt.ylabel('Total Amount')\n",
    "plt.title(f'Total Costs and Revenue Comparison: 2022 vs 2023\\n'\n",
    "          f'Dollar Change in Costs: {locale.currency(dollar_change_costs, grouping=True)}\\n'\n",
    "          f'Percentage Change in Costs: {percentage_change_costs:.2f}%\\n'\n",
    "          f'Dollar Change in Revenue: {locale.currency(dollar_change_revenue, grouping=True)}\\n'\n",
    "          f'Percentage Change in Revenue: {percentage_change_revenue:.2f}%')\n",
    "\n",
    "# Add data labels above each bar\n",
    "for bar in bars:\n",
    "    height = bar.get_height()\n",
    "    plt.text(bar.get_x() + bar.get_width()/2, height,\n",
    "             locale.currency(height, grouping=True), ha='center', va='bottom', fontsize=12)\n",
    "\n",
    "plt.xticks(rotation=45)  # Rotate x-axis labels for better readability\n",
    "\n",
    "# Save plot in data resources folder\n",
    "plot_filename = os.path.join('..', 'data_resources', 'cost_revenue_comparison_bar_chart_plot.png')\n",
    "plt.savefig(plot_filename)\n",
    "\n",
    "plt.show()\n",
    "\n",
    "\n",
    "\n",
    "#What was the total order size by price break year to year? (Bins and Slice!)- KH\n"
   ]
  },
  {
   "cell_type": "markdown",
   "metadata": {},
   "source": [
    "Calculate and display monthly costs and revenue in 2022 and 2023. "
   ]
  },
  {
   "cell_type": "code",
   "execution_count": 41,
   "metadata": {},
   "outputs": [
    {
     "name": "stderr",
     "output_type": "stream",
     "text": [
      "C:\\Users\\KatreeceHattaway\\AppData\\Local\\Temp\\ipykernel_1456\\2878514549.py:5: SettingWithCopyWarning: \n",
      "A value is trying to be set on a copy of a slice from a DataFrame.\n",
      "Try using .loc[row_indexer,col_indexer] = value instead\n",
      "\n",
      "See the caveats in the documentation: https://pandas.pydata.org/pandas-docs/stable/user_guide/indexing.html#returning-a-view-versus-a-copy\n",
      "  filtered_deal_prod_2022_df.loc[:, 'month'] = filtered_deal_prod_2022_df['submitted_to_prod'].dt.month\n",
      "C:\\Users\\KatreeceHattaway\\AppData\\Local\\Temp\\ipykernel_1456\\2878514549.py:6: SettingWithCopyWarning: \n",
      "A value is trying to be set on a copy of a slice from a DataFrame.\n",
      "Try using .loc[row_indexer,col_indexer] = value instead\n",
      "\n",
      "See the caveats in the documentation: https://pandas.pydata.org/pandas-docs/stable/user_guide/indexing.html#returning-a-view-versus-a-copy\n",
      "  filtered_deal_prod_2022_df.loc[:, 'year'] = filtered_deal_prod_2022_df['submitted_to_prod'].dt.year\n",
      "C:\\Users\\KatreeceHattaway\\AppData\\Local\\Temp\\ipykernel_1456\\2878514549.py:8: SettingWithCopyWarning: \n",
      "A value is trying to be set on a copy of a slice from a DataFrame.\n",
      "Try using .loc[row_indexer,col_indexer] = value instead\n",
      "\n",
      "See the caveats in the documentation: https://pandas.pydata.org/pandas-docs/stable/user_guide/indexing.html#returning-a-view-versus-a-copy\n",
      "  filtered_deal_prod_2023_df.loc[:, 'month'] = filtered_deal_prod_2023_df['submitted_to_prod'].dt.month\n",
      "C:\\Users\\KatreeceHattaway\\AppData\\Local\\Temp\\ipykernel_1456\\2878514549.py:9: SettingWithCopyWarning: \n",
      "A value is trying to be set on a copy of a slice from a DataFrame.\n",
      "Try using .loc[row_indexer,col_indexer] = value instead\n",
      "\n",
      "See the caveats in the documentation: https://pandas.pydata.org/pandas-docs/stable/user_guide/indexing.html#returning-a-view-versus-a-copy\n",
      "  filtered_deal_prod_2023_df.loc[:, 'year'] = filtered_deal_prod_2023_df['submitted_to_prod'].dt.year\n"
     ]
    }
   ],
   "source": [
    "# Corrected approach to modifying DataFrame columns\n",
    "filtered_deal_prod_2022_df.loc[:, 'submitted_to_prod'] = pd.to_datetime(filtered_deal_prod_2022_df['submitted_to_prod'])\n",
    "filtered_deal_prod_2023_df.loc[:, 'submitted_to_prod'] = pd.to_datetime(filtered_deal_prod_2023_df['submitted_to_prod'])\n",
    "\n",
    "filtered_deal_prod_2022_df.loc[:, 'month'] = filtered_deal_prod_2022_df['submitted_to_prod'].dt.month\n",
    "filtered_deal_prod_2022_df.loc[:, 'year'] = filtered_deal_prod_2022_df['submitted_to_prod'].dt.year\n",
    "\n",
    "filtered_deal_prod_2023_df.loc[:, 'month'] = filtered_deal_prod_2023_df['submitted_to_prod'].dt.month\n",
    "filtered_deal_prod_2023_df.loc[:, 'year'] = filtered_deal_prod_2023_df['submitted_to_prod'].dt.year\n"
   ]
  },
  {
   "cell_type": "code",
   "execution_count": 42,
   "metadata": {},
   "outputs": [
    {
     "data": {
      "image/png": "[encoded data removed]",
      "text/plain": [
       "<Figure size 1400x800 with 1 Axes>"
      ]
     },
     "metadata": {},
     "output_type": "display_data"
    }
   ],
   "source": [
    "import pandas as pd\n",
    "import matplotlib.pyplot as plt\n",
    "import locale\n",
    "\n",
    "# Assuming filtered_deal_prod_2022_df and filtered_deal_prod_2023_df are your DataFrames\n",
    "# Here you should have filtered_deal_prod_2022_df and filtered_deal_prod_2023_df defined\n",
    "\n",
    "# Your function definition appears correct, so we will use it as is\n",
    "def calculate_monthly_totals(df):\n",
    "    # Correcting the summing and resetting index steps\n",
    "    monthly_costs = df.groupby(['year', 'month'])[['total_sku_cost', 'total_intl_sku_cost']].sum().sum(axis=1).reset_index()\n",
    "    monthly_costs.columns = ['year', 'month', 'Total Costs']  # Renaming columns appropriately\n",
    "    \n",
    "    monthly_revenue = df.groupby(['year', 'month'])[['amount_in_company_currency']].sum().reset_index()\n",
    "    monthly_revenue.columns = ['year', 'month', 'Total Revenue']  # Renaming columns appropriately\n",
    "\n",
    "    # Merging on 'year' and 'month'\n",
    "    monthly_totals = pd.merge(monthly_costs, monthly_revenue, on=['year', 'month'])\n",
    "    return monthly_totals\n",
    "\n",
    "# Correcting the code to call calculate_monthly_totals for each DataFrame and combining the results\n",
    "monthly_totals_2022 = calculate_monthly_totals(filtered_deal_prod_2022_df)\n",
    "monthly_totals_2023 = calculate_monthly_totals(filtered_deal_prod_2023_df)\n",
    "\n",
    "# Combine the 2022 and 2023 monthly totals into a single DataFrame\n",
    "monthly_totals = pd.concat([monthly_totals_2022, monthly_totals_2023], ignore_index=True)\n",
    "\n",
    "# Now, plotting\n",
    "plt.figure(figsize=(14, 8))\n",
    "for year in monthly_totals['year'].unique():\n",
    "    yearly_data = monthly_totals[monthly_totals['year'] == year]\n",
    "    plt.plot(yearly_data['month'], yearly_data['Total Costs'], marker='o', label=f'{year} Total Costs')\n",
    "    plt.plot(yearly_data['month'], yearly_data['Total Revenue'], marker='s', label=f'{year} Total Revenue')\n",
    "\n",
    "plt.xlabel('Month')\n",
    "plt.ylabel('Amount')\n",
    "plt.title('Monthly Total Costs and Revenue for 2022 and 2023')\n",
    "plt.legend()\n",
    "plt.xticks(range(1, 13), ['Jan', 'Feb', 'Mar', 'Apr', 'May', 'Jun', 'Jul', 'Aug', 'Sep', 'Oct', 'Nov', 'Dec'])\n",
    "plt.grid(True)\n",
    "\n",
    "# Save plot in data resources folder\n",
    "plot_filename = os.path.join('..', 'data_resources', 'Monthly_total_costs_revenue_2022_2023_plot.png')\n",
    "plt.savefig(plot_filename)\n",
    "\n",
    "# Display plot\n",
    "plt.show()\n"
   ]
  },
  {
   "cell_type": "code",
   "execution_count": 43,
   "metadata": {},
   "outputs": [
    {
     "data": {
      "image/png": "[encoded data removed]",
      "text/plain": [
       "<Figure size 640x480 with 1 Axes>"
      ]
     },
     "metadata": {},
     "output_type": "display_data"
    }
   ],
   "source": [
    "# What was the total client type share in 2022 - Pie chart \n",
    "\n",
    "# Count the occurrences of each client type\n",
    "client_type_counts = filtered_deal_prod_2022_df['client_type_x'].value_counts()\n",
    "\n",
    "# Create a pie chart\n",
    "plt.pie(client_type_counts, labels=client_type_counts.index, autopct='%1.1f%%')\n",
    "\n",
    "# Add a title\n",
    "plt.title('Breakdown of Client Types - 2022')\n",
    "\n",
    "# Save plot in data resources folder\n",
    "plot_filename = os.path.join('..', 'data_resources', 'Client_type_pie_2022.png')\n",
    "plt.savefig(plot_filename)\n",
    "\n",
    "# Display the chart\n",
    "plt.show()"
   ]
  },
  {
   "cell_type": "code",
   "execution_count": 44,
   "metadata": {},
   "outputs": [
    {
     "data": {
      "image/png": "[encoded data removed]",
      "text/plain": [
       "<Figure size 640x480 with 1 Axes>"
      ]
     },
     "metadata": {},
     "output_type": "display_data"
    }
   ],
   "source": [
    "# What was the total client type share in 2023 - Pie chart \n",
    "\n",
    "# Count the occurrences of each client type\n",
    "client_type_counts = filtered_deal_prod_2023_df['client_type_x'].value_counts()\n",
    "\n",
    "# Create a pie chart\n",
    "plt.pie(client_type_counts, labels=client_type_counts.index, autopct='%1.1f%%')\n",
    "\n",
    "# Add a title\n",
    "plt.title('Breakdown of Client Types - 2023')\n",
    "\n",
    "# Save plot in data resources folder\n",
    "plot_filename = os.path.join('..', 'data_resources', 'Client_type_pie_2023.png')\n",
    "plt.savefig(plot_filename)\n",
    "\n",
    "# Display the chart\n",
    "plt.show()"
   ]
  },
  {
   "cell_type": "code",
   "execution_count": 45,
   "metadata": {},
   "outputs": [
    {
     "data": {
      "image/png": "[encoded data removed]",
      "text/plain": [
       "<Figure size 1400x800 with 1 Axes>"
      ]
     },
     "metadata": {},
     "output_type": "display_data"
    }
   ],
   "source": [
    "# Plot - revenue by month and year - group by client_type_x\n",
    "\n",
    "# Create Function\n",
    "def calculate_monthly_totals(df):\n",
    "    # Correcting the summing and resetting index steps\n",
    "    monthly_totals = df.groupby(['year', 'month', 'client_type_x'])[['amount_in_company_currency']].sum().reset_index()\n",
    "    monthly_totals.columns = ['year', 'month', 'client_type', 'Total']\n",
    "\n",
    "    return monthly_totals\n",
    "\n",
    "# Correcting the code to call calculate_monthly_totals for each DataFrame and combining the results\n",
    "monthly_totals_2022 = calculate_monthly_totals(filtered_deal_prod_2022_df)\n",
    "monthly_totals_2023 = calculate_monthly_totals(filtered_deal_prod_2023_df)\n",
    "\n",
    "# Now, plotting\n",
    "plt.figure(figsize=(14, 8))\n",
    "for year in monthly_totals_2022['year'].unique():\n",
    "    yearly_data = monthly_totals_2022[monthly_totals_2022['year'] == year]\n",
    "    for client_type in yearly_data['client_type'].unique():\n",
    "        client_data = yearly_data[yearly_data['client_type'] == client_type]\n",
    "        plt.plot(client_data['month'], client_data['Total'], marker='o', label=f'{year} {client_type}')\n",
    "\n",
    "for year in monthly_totals_2023['year'].unique():\n",
    "    yearly_data = monthly_totals_2023[monthly_totals_2023['year'] == year]\n",
    "    for client_type in yearly_data['client_type'].unique():\n",
    "        client_data = yearly_data[yearly_data['client_type'] == client_type]\n",
    "        plt.plot(client_data['month'], client_data['Total'], marker='s', label=f'{year} {client_type}')\n",
    "\n",
    "plt.xlabel('Month')\n",
    "plt.ylabel('Amount')\n",
    "plt.title('Monthly Total for 2022 and 2023 by Client Type')\n",
    "plt.legend()\n",
    "plt.xticks(range(1, 13), ['Jan', 'Feb', 'Mar', 'Apr', 'May', 'Jun', 'Jul', 'Aug', 'Sep', 'Oct', 'Nov', 'Dec'])\n",
    "plt.grid(True)\n",
    "\n",
    "# Save plot in data resources folder\n",
    "plot_filename = os.path.join('..', 'data_resources', 'Monthly_total_by_client_type_line_graph.png')\n",
    "plt.savefig(plot_filename)\n",
    "\n",
    "plt.show()"
   ]
  },
  {
   "cell_type": "code",
   "execution_count": 46,
   "metadata": {},
   "outputs": [
    {
     "name": "stdout",
     "output_type": "stream",
     "text": [
      "test\n"
     ]
    }
   ],
   "source": [
    "print(\"test\")"
   ]
  },
  {
   "cell_type": "code",
   "execution_count": 60,
   "metadata": {},
   "outputs": [],
   "source": [
    "#What was the total order size by price break year to year? (Bins and Slice!)- KH\n",
    "\n",
    "bins = [0, 29, 59, 119, 239, 359, 479, 719, 1199, 2399, 4999, 9999, 500000]\n",
    "bin_labels = ['0-29', '30-59', '60-119', '120-239', '240-359', '360-479', '480-719', '720-1199', '1200-2399', '2400-4999', '5000-9999', '>10000']\n",
    "\n"
   ]
  },
  {
   "cell_type": "code",
   "execution_count": 48,
   "metadata": {},
   "outputs": [
    {
     "name": "stderr",
     "output_type": "stream",
     "text": [
      "C:\\Users\\KatreeceHattaway\\AppData\\Local\\Temp\\ipykernel_1456\\995952984.py:2: SettingWithCopyWarning: \n",
      "A value is trying to be set on a copy of a slice from a DataFrame.\n",
      "Try using .loc[row_indexer,col_indexer] = value instead\n",
      "\n",
      "See the caveats in the documentation: https://pandas.pydata.org/pandas-docs/stable/user_guide/indexing.html#returning-a-view-versus-a-copy\n",
      "  filtered_deal_prod_2022_df['quantity_bin'] = pd.cut(filtered_deal_prod_2022_df['total_deal_quantity'], bins=bins, labels=bin_labels, include_lowest=True)\n",
      "C:\\Users\\KatreeceHattaway\\AppData\\Local\\Temp\\ipykernel_1456\\995952984.py:4: SettingWithCopyWarning: \n",
      "A value is trying to be set on a copy of a slice from a DataFrame.\n",
      "Try using .loc[row_indexer,col_indexer] = value instead\n",
      "\n",
      "See the caveats in the documentation: https://pandas.pydata.org/pandas-docs/stable/user_guide/indexing.html#returning-a-view-versus-a-copy\n",
      "  filtered_deal_prod_2023_df['quantity_bin'] = pd.cut(filtered_deal_prod_2023_df['total_deal_quantity'], bins=bins, labels=bin_labels, include_lowest=True)\n"
     ]
    }
   ],
   "source": [
    "# For 2022 DataFrame\n",
    "filtered_deal_prod_2022_df['quantity_bin'] = pd.cut(filtered_deal_prod_2022_df['total_deal_quantity'], bins=bins, labels=bin_labels, include_lowest=True)\n",
    "# For 2023 DataFrame\n",
    "filtered_deal_prod_2023_df['quantity_bin'] = pd.cut(filtered_deal_prod_2023_df['total_deal_quantity'], bins=bins, labels=bin_labels, include_lowest=True)\n"
   ]
  },
  {
   "cell_type": "code",
   "execution_count": 49,
   "metadata": {},
   "outputs": [
    {
     "name": "stdout",
     "output_type": "stream",
     "text": [
      "Quantity Distribution for 2022:\n",
      "quantity_bin\n",
      "0-29           42\n",
      "30-59           8\n",
      "60-119       2169\n",
      "120-239      2616\n",
      "240-359      1346\n",
      "360-479       472\n",
      "480-719       700\n",
      "720-1199      375\n",
      "1200-2399     235\n",
      "2400-4999      87\n",
      "5000-9999      24\n",
      ">10000         11\n",
      "Name: count, dtype: int64\n",
      "\n",
      "Quantity Distribution for 2023:\n",
      "quantity_bin\n",
      "0-29          313\n",
      "30-59         507\n",
      "60-119       2059\n",
      "120-239      2668\n",
      "240-359      1276\n",
      "360-479       489\n",
      "480-719       694\n",
      "720-1199      401\n",
      "1200-2399     219\n",
      "2400-4999      85\n",
      "5000-9999      26\n",
      ">10000          9\n",
      "Name: count, dtype: int64\n"
     ]
    }
   ],
   "source": [
    "# Distribution for 2022\n",
    "quantity_distribution_2022 = filtered_deal_prod_2022_df['quantity_bin'].value_counts().sort_index()\n",
    "\n",
    "# Distribution for 2023\n",
    "quantity_distribution_2023 = filtered_deal_prod_2023_df['quantity_bin'].value_counts().sort_index()\n",
    "\n",
    "# Display the distributions\n",
    "print(\"Quantity Distribution for 2022:\")\n",
    "print(quantity_distribution_2022)\n",
    "print(\"\\nQuantity Distribution for 2023:\")\n",
    "print(quantity_distribution_2023)\n"
   ]
  },
  {
   "cell_type": "code",
   "execution_count": 50,
   "metadata": {},
   "outputs": [
    {
     "name": "stderr",
     "output_type": "stream",
     "text": [
      "C:\\Users\\KatreeceHattaway\\AppData\\Local\\Temp\\ipykernel_1456\\1998057181.py:2: FutureWarning: The default of observed=False is deprecated and will be changed to True in a future version of pandas. Pass observed=False to retain current behavior or observed=True to adopt the future default and silence this warning.\n",
      "  grouped_2022 = filtered_deal_prod_2022_df.groupby(['client_type_x', 'quantity_bin']).size().unstack(fill_value=0)\n",
      "C:\\Users\\KatreeceHattaway\\AppData\\Local\\Temp\\ipykernel_1456\\1998057181.py:5: FutureWarning: The default of observed=False is deprecated and will be changed to True in a future version of pandas. Pass observed=False to retain current behavior or observed=True to adopt the future default and silence this warning.\n",
      "  grouped_2023 = filtered_deal_prod_2023_df.groupby(['client_type_x', 'quantity_bin']).size().unstack(fill_value=0)\n"
     ]
    }
   ],
   "source": [
    "# For 2022 DataFrame\n",
    "grouped_2022 = filtered_deal_prod_2022_df.groupby(['client_type_x', 'quantity_bin']).size().unstack(fill_value=0)\n",
    "\n",
    "# For 2023 DataFrame\n",
    "grouped_2023 = filtered_deal_prod_2023_df.groupby(['client_type_x', 'quantity_bin']).size().unstack(fill_value=0)\n"
   ]
  },
  {
   "cell_type": "code",
   "execution_count": 51,
   "metadata": {},
   "outputs": [
    {
     "name": "stdout",
     "output_type": "stream",
     "text": [
      "Quantity Distribution by Client Type for 2022:\n",
      "quantity_bin   0-29  30-59  60-119  120-239  240-359  360-479  480-719  \\\n",
      "client_type_x                                                            \n",
      "B2C               0      0       1        0        0        0        0   \n",
      "Direct           16      2     511      752      403      145      178   \n",
      "Distributor      25      6    1632     1796      909      312      503   \n",
      "Wholesale         1      0      25       68       34       14       19   \n",
      "\n",
      "quantity_bin   720-1199  1200-2399  2400-4999  5000-9999  >10000  \n",
      "client_type_x                                                     \n",
      "B2C                   0          0          0          0       0  \n",
      "Direct               93         58         21          3       0  \n",
      "Distributor         270        170         65         21      10  \n",
      "Wholesale            12          7          1          0       1  \n",
      "\n",
      "Quantity Distribution by Client Type for 2023:\n",
      "quantity_bin   0-29  30-59  60-119  120-239  240-359  360-479  480-719  \\\n",
      "client_type_x                                                            \n",
      "Direct          132    184     472      867      383      131      164   \n",
      "Distributor     178    319    1560     1746      878      349      521   \n",
      "Wholesale         3      4      27       55       15        9        9   \n",
      "\n",
      "quantity_bin   720-1199  1200-2399  2400-4999  5000-9999  >10000  \n",
      "client_type_x                                                     \n",
      "Direct               74         44         12          1       1  \n",
      "Distributor         319        169         71         24       8  \n",
      "Wholesale             8          6          2          1       0  \n"
     ]
    }
   ],
   "source": [
    "print(\"Quantity Distribution by Client Type for 2022:\")\n",
    "print(grouped_2022)\n",
    "\n",
    "print(\"\\nQuantity Distribution by Client Type for 2023:\")\n",
    "print(grouped_2023)\n"
   ]
  },
  {
   "cell_type": "code",
   "execution_count": 52,
   "metadata": {},
   "outputs": [
    {
     "data": {
      "image/png": "[encoded data removed]",
      "text/plain": [
       "<Figure size 1200x800 with 2 Axes>"
      ]
     },
     "metadata": {},
     "output_type": "display_data"
    }
   ],
   "source": [
    "import seaborn as sns\n",
    "import matplotlib.pyplot as plt\n",
    "\n",
    "# Example for 2022 data\n",
    "plt.figure(figsize=(12, 8))\n",
    "sns.heatmap(grouped_2022, annot=True, cmap=\"YlGnBu\", fmt=\"d\")\n",
    "plt.title('2022 Quantity Distribution by Client Type')\n",
    "plt.ylabel('Client Type')\n",
    "plt.xlabel('Quantity Bin')\n",
    "plt.xticks(rotation=45)\n",
    "plt.show()\n"
   ]
  },
  {
   "cell_type": "code",
   "execution_count": 53,
   "metadata": {},
   "outputs": [
    {
     "data": {
      "image/png": "[encoded data removed]",
      "text/plain": [
       "<Figure size 1200x800 with 2 Axes>"
      ]
     },
     "metadata": {},
     "output_type": "display_data"
    }
   ],
   "source": [
    "import seaborn as sns\n",
    "import matplotlib.pyplot as plt\n",
    "\n",
    "# Example for 2022 data\n",
    "plt.figure(figsize=(12, 8))\n",
    "sns.heatmap(grouped_2023, annot=True, cmap=\"YlGnBu\", fmt=\"d\")\n",
    "plt.title('2023 Quantity Distribution by Client Type')\n",
    "plt.ylabel('Client Type')\n",
    "plt.xlabel('Quantity Bin')\n",
    "plt.xticks(rotation=45)\n",
    "plt.show()\n"
   ]
  },
  {
   "cell_type": "code",
   "execution_count": 54,
   "metadata": {},
   "outputs": [
    {
     "name": "stdout",
     "output_type": "stream",
     "text": [
      "Overall Margin for 2022: 0.70\n",
      "Overall Margin for 2023: 0.71\n"
     ]
    }
   ],
   "source": [
    "# Calculate overall margin for 2022\n",
    "overall_margin_2022 = filtered_deal_prod_2022_df['gross_margin'].mean()\n",
    "\n",
    "# Calculate overall margin for 2023\n",
    "overall_margin_2023 = filtered_deal_prod_2023_df['gross_margin'].mean()\n",
    "\n",
    "print(f\"Overall Margin for 2022: {overall_margin_2022:.2f}\")\n",
    "print(f\"Overall Margin for 2023: {overall_margin_2023:.2f}\")"
   ]
  },
  {
   "cell_type": "code",
   "execution_count": 56,
   "metadata": {},
   "outputs": [
    {
     "name": "stdout",
     "output_type": "stream",
     "text": [
      "Margins by Client Type for 2022:\n",
      "client_type_x\n",
      "B2C            0.812282\n",
      "Direct         0.764245\n",
      "Distributor    0.676561\n",
      "Wholesale      0.678456\n",
      "Name: gross_margin, dtype: float64\n",
      "\n",
      "Margins by Client Type for 2023:\n",
      "client_type_x\n",
      "Direct         0.772953\n",
      "Distributor    0.683572\n",
      "Wholesale      0.627870\n",
      "Name: gross_margin, dtype: float64\n"
     ]
    }
   ],
   "source": [
    "# Margins by client type for 2022\n",
    "margin_by_client_type_2022 = filtered_deal_prod_2022_df.groupby('client_type_x')['gross_margin'].mean()\n",
    "\n",
    "# Margins by client type for 2023\n",
    "margin_by_client_type_2023 = filtered_deal_prod_2023_df.groupby('client_type_x')['gross_margin'].mean()\n",
    "\n",
    "print(\"Margins by Client Type for 2022:\")\n",
    "print(margin_by_client_type_2022)\n",
    "print(\"\\nMargins by Client Type for 2023:\")\n",
    "print(margin_by_client_type_2023)\n",
    "\n"
   ]
  },
  {
   "cell_type": "code",
   "execution_count": 57,
   "metadata": {},
   "outputs": [
    {
     "name": "stderr",
     "output_type": "stream",
     "text": [
      "C:\\Users\\KatreeceHattaway\\AppData\\Local\\Temp\\ipykernel_1456\\4197426025.py:2: FutureWarning: The default of observed=False is deprecated and will be changed to True in a future version of pandas. Pass observed=False to retain current behavior or observed=True to adopt the future default and silence this warning.\n",
      "  margin_by_bin_and_client_2022 = filtered_deal_prod_2022_df.groupby(['client_type_x', 'quantity_bin'])['gross_margin'].mean().unstack()\n",
      "C:\\Users\\KatreeceHattaway\\AppData\\Local\\Temp\\ipykernel_1456\\4197426025.py:5: FutureWarning: The default of observed=False is deprecated and will be changed to True in a future version of pandas. Pass observed=False to retain current behavior or observed=True to adopt the future default and silence this warning.\n",
      "  margin_by_bin_and_client_2023 = filtered_deal_prod_2023_df.groupby(['client_type_x', 'quantity_bin'])['gross_margin'].mean().unstack()\n"
     ]
    }
   ],
   "source": [
    "# For 2022 DataFrame\n",
    "margin_by_bin_and_client_2022 = filtered_deal_prod_2022_df.groupby(['client_type_x', 'quantity_bin'])['gross_margin'].mean().unstack()\n",
    "\n",
    "# For 2023 DataFrame\n",
    "margin_by_bin_and_client_2023 = filtered_deal_prod_2023_df.groupby(['client_type_x', 'quantity_bin'])['gross_margin'].mean().unstack()\n",
    "\n"
   ]
  },
  {
   "cell_type": "code",
   "execution_count": 58,
   "metadata": {},
   "outputs": [
    {
     "name": "stdout",
     "output_type": "stream",
     "text": [
      "Margins by Bin and Client Type for 2022:\n",
      "quantity_bin       0-29     30-59    60-119   120-239   240-359   360-479  \\\n",
      "client_type_x                                                               \n",
      "B2C                 NaN       NaN  0.812282       NaN       NaN       NaN   \n",
      "Direct         0.830519  0.402886  0.768375  0.751851  0.773543  0.771946   \n",
      "Distributor    0.716148  0.661874  0.670564  0.679949  0.677899  0.664004   \n",
      "Wholesale      0.793403       NaN  0.690762  0.668999  0.672200  0.688407   \n",
      "\n",
      "quantity_bin    480-719  720-1199  1200-2399  2400-4999  5000-9999    >10000  \n",
      "client_type_x                                                                 \n",
      "B2C                 NaN       NaN        NaN        NaN        NaN       NaN  \n",
      "Direct         0.769917  0.767101   0.778776   0.792044   0.533555       NaN  \n",
      "Distributor    0.666037  0.703254   0.685959   0.700606   0.695498  0.679646  \n",
      "Wholesale      0.689961  0.694201   0.689967   0.459750        NaN  0.702901  \n",
      "\n",
      "Margins by Bin and Client Type for 2023:\n",
      "quantity_bin       0-29     30-59    60-119   120-239   240-359   360-479  \\\n",
      "client_type_x                                                               \n",
      "Direct         0.785517  0.764344  0.757204  0.767121  0.788717  0.794354   \n",
      "Distributor    0.673985  0.656312  0.679135  0.685618  0.697943  0.671610   \n",
      "Wholesale      0.766525  0.685194  0.680820  0.525227  0.708448  0.672920   \n",
      "\n",
      "quantity_bin    480-719  720-1199  1200-2399  2400-4999  5000-9999    >10000  \n",
      "client_type_x                                                                 \n",
      "Direct         0.790895  0.809346   0.720311   0.793771   0.773360  0.778660  \n",
      "Distributor    0.677179  0.706682   0.684922   0.693224   0.695169  0.693197  \n",
      "Wholesale      0.710993  0.697258   0.702182   0.709130   0.672620       NaN  \n"
     ]
    }
   ],
   "source": [
    "print(\"Margins by Bin and Client Type for 2022:\")\n",
    "print(margin_by_bin_and_client_2022)\n",
    "\n",
    "print(\"\\nMargins by Bin and Client Type for 2023:\")\n",
    "print(margin_by_bin_and_client_2023)\n"
   ]
  },
  {
   "cell_type": "code",
   "execution_count": 59,
   "metadata": {},
   "outputs": [
    {
     "data": {
      "application/vnd.plotly.v1+json": {
       "config": {
        "plotlyServerURL": "https://plot.ly"
       },
       "data": [
        {
         "colorscale": [
          [
           0,
           "#0d0887"
          ],
          [
           0.1111111111111111,
           "#46039f"
          ],
          [
           0.2222222222222222,
           "#7201a8"
          ],
          [
           0.3333333333333333,
           "#9c179e"
          ],
          [
           0.4444444444444444,
           "#bd3786"
          ],
          [
           0.5555555555555556,
           "#d8576b"
          ],
          [
           0.6666666666666666,
           "#ed7953"
          ],
          [
           0.7777777777777778,
           "#fb9f3a"
          ],
          [
           0.8888888888888888,
           "#fdca26"
          ],
          [
           1,
           "#f0f921"
          ]
         ],
         "reversescale": false,
         "showscale": false,
         "type": "heatmap",
         "x": [
          "0-29",
          "30-59",
          "60-119",
          "120-239",
          "240-359",
          "360-479",
          "480-719",
          "720-1199",
          "1200-2399",
          "2400-4999",
          "5000-9999",
          ">10000"
         ],
         "y": [
          "B2C",
          "Direct",
          "Distributor",
          "Wholesale"
         ],
         "z": [
          [
           null,
           null,
           0.812282309807516,
           null,
           null,
           null,
           null,
           null,
           null,
           null,
           null,
           null
          ],
          [
           0.8305186422503141,
           0.4028858218318695,
           0.7683747924187152,
           0.7518505753729275,
           0.7735425440031516,
           0.771945905228093,
           0.7699170537185256,
           0.7671007460384661,
           0.7787760984462551,
           0.7920441077185064,
           0.5335550097437171,
           null
          ],
          [
           0.7161481954187255,
           0.6618739109443543,
           0.6705643040212905,
           0.6799488271444722,
           0.6778986465040111,
           0.6640044465409585,
           0.6660365073874155,
           0.7032542291691521,
           0.685959201290993,
           0.7006062227103569,
           0.6954979771003366,
           0.6796456576590604
          ],
          [
           0.7934027777777778,
           null,
           0.6907618123702406,
           0.6689993123008628,
           0.6721998113494579,
           0.6884066938396824,
           0.6899609884088185,
           0.6942010248494571,
           0.6899670398484331,
           0.4597500335976347,
           null,
           0.7029006634337905
          ]
         ]
        }
       ],
       "layout": {
        "annotations": [
         {
          "font": {
           "color": "#000000"
          },
          "showarrow": false,
          "text": "nan",
          "x": "0-29",
          "xref": "x",
          "y": "B2C",
          "yref": "y"
         },
         {
          "font": {
           "color": "#000000"
          },
          "showarrow": false,
          "text": "nan",
          "x": "30-59",
          "xref": "x",
          "y": "B2C",
          "yref": "y"
         },
         {
          "font": {
           "color": "#000000"
          },
          "showarrow": false,
          "text": "0.81",
          "x": "60-119",
          "xref": "x",
          "y": "B2C",
          "yref": "y"
         },
         {
          "font": {
           "color": "#000000"
          },
          "showarrow": false,
          "text": "nan",
          "x": "120-239",
          "xref": "x",
          "y": "B2C",
          "yref": "y"
         },
         {
          "font": {
           "color": "#000000"
          },
          "showarrow": false,
          "text": "nan",
          "x": "240-359",
          "xref": "x",
          "y": "B2C",
          "yref": "y"
         },
         {
          "font": {
           "color": "#000000"
          },
          "showarrow": false,
          "text": "nan",
          "x": "360-479",
          "xref": "x",
          "y": "B2C",
          "yref": "y"
         },
         {
          "font": {
           "color": "#000000"
          },
          "showarrow": false,
          "text": "nan",
          "x": "480-719",
          "xref": "x",
          "y": "B2C",
          "yref": "y"
         },
         {
          "font": {
           "color": "#000000"
          },
          "showarrow": false,
          "text": "nan",
          "x": "720-1199",
          "xref": "x",
          "y": "B2C",
          "yref": "y"
         },
         {
          "font": {
           "color": "#000000"
          },
          "showarrow": false,
          "text": "nan",
          "x": "1200-2399",
          "xref": "x",
          "y": "B2C",
          "yref": "y"
         },
         {
          "font": {
           "color": "#000000"
          },
          "showarrow": false,
          "text": "nan",
          "x": "2400-4999",
          "xref": "x",
          "y": "B2C",
          "yref": "y"
         },
         {
          "font": {
           "color": "#000000"
          },
          "showarrow": false,
          "text": "nan",
          "x": "5000-9999",
          "xref": "x",
          "y": "B2C",
          "yref": "y"
         },
         {
          "font": {
           "color": "#000000"
          },
          "showarrow": false,
          "text": "nan",
          "x": ">10000",
          "xref": "x",
          "y": "B2C",
          "yref": "y"
         },
         {
          "font": {
           "color": "#000000"
          },
          "showarrow": false,
          "text": "0.83",
          "x": "0-29",
          "xref": "x",
          "y": "Direct",
          "yref": "y"
         },
         {
          "font": {
           "color": "#000000"
          },
          "showarrow": false,
          "text": "0.4",
          "x": "30-59",
          "xref": "x",
          "y": "Direct",
          "yref": "y"
         },
         {
          "font": {
           "color": "#000000"
          },
          "showarrow": false,
          "text": "0.77",
          "x": "60-119",
          "xref": "x",
          "y": "Direct",
          "yref": "y"
         },
         {
          "font": {
           "color": "#000000"
          },
          "showarrow": false,
          "text": "0.75",
          "x": "120-239",
          "xref": "x",
          "y": "Direct",
          "yref": "y"
         },
         {
          "font": {
           "color": "#000000"
          },
          "showarrow": false,
          "text": "0.77",
          "x": "240-359",
          "xref": "x",
          "y": "Direct",
          "yref": "y"
         },
         {
          "font": {
           "color": "#000000"
          },
          "showarrow": false,
          "text": "0.77",
          "x": "360-479",
          "xref": "x",
          "y": "Direct",
          "yref": "y"
         },
         {
          "font": {
           "color": "#000000"
          },
          "showarrow": false,
          "text": "0.77",
          "x": "480-719",
          "xref": "x",
          "y": "Direct",
          "yref": "y"
         },
         {
          "font": {
           "color": "#000000"
          },
          "showarrow": false,
          "text": "0.77",
          "x": "720-1199",
          "xref": "x",
          "y": "Direct",
          "yref": "y"
         },
         {
          "font": {
           "color": "#000000"
          },
          "showarrow": false,
          "text": "0.78",
          "x": "1200-2399",
          "xref": "x",
          "y": "Direct",
          "yref": "y"
         },
         {
          "font": {
           "color": "#000000"
          },
          "showarrow": false,
          "text": "0.79",
          "x": "2400-4999",
          "xref": "x",
          "y": "Direct",
          "yref": "y"
         },
         {
          "font": {
           "color": "#000000"
          },
          "showarrow": false,
          "text": "0.53",
          "x": "5000-9999",
          "xref": "x",
          "y": "Direct",
          "yref": "y"
         },
         {
          "font": {
           "color": "#000000"
          },
          "showarrow": false,
          "text": "nan",
          "x": ">10000",
          "xref": "x",
          "y": "Direct",
          "yref": "y"
         },
         {
          "font": {
           "color": "#000000"
          },
          "showarrow": false,
          "text": "0.72",
          "x": "0-29",
          "xref": "x",
          "y": "Distributor",
          "yref": "y"
         },
         {
          "font": {
           "color": "#000000"
          },
          "showarrow": false,
          "text": "0.66",
          "x": "30-59",
          "xref": "x",
          "y": "Distributor",
          "yref": "y"
         },
         {
          "font": {
           "color": "#000000"
          },
          "showarrow": false,
          "text": "0.67",
          "x": "60-119",
          "xref": "x",
          "y": "Distributor",
          "yref": "y"
         },
         {
          "font": {
           "color": "#000000"
          },
          "showarrow": false,
          "text": "0.68",
          "x": "120-239",
          "xref": "x",
          "y": "Distributor",
          "yref": "y"
         },
         {
          "font": {
           "color": "#000000"
          },
          "showarrow": false,
          "text": "0.68",
          "x": "240-359",
          "xref": "x",
          "y": "Distributor",
          "yref": "y"
         },
         {
          "font": {
           "color": "#000000"
          },
          "showarrow": false,
          "text": "0.66",
          "x": "360-479",
          "xref": "x",
          "y": "Distributor",
          "yref": "y"
         },
         {
          "font": {
           "color": "#000000"
          },
          "showarrow": false,
          "text": "0.67",
          "x": "480-719",
          "xref": "x",
          "y": "Distributor",
          "yref": "y"
         },
         {
          "font": {
           "color": "#000000"
          },
          "showarrow": false,
          "text": "0.7",
          "x": "720-1199",
          "xref": "x",
          "y": "Distributor",
          "yref": "y"
         },
         {
          "font": {
           "color": "#000000"
          },
          "showarrow": false,
          "text": "0.69",
          "x": "1200-2399",
          "xref": "x",
          "y": "Distributor",
          "yref": "y"
         },
         {
          "font": {
           "color": "#000000"
          },
          "showarrow": false,
          "text": "0.7",
          "x": "2400-4999",
          "xref": "x",
          "y": "Distributor",
          "yref": "y"
         },
         {
          "font": {
           "color": "#000000"
          },
          "showarrow": false,
          "text": "0.7",
          "x": "5000-9999",
          "xref": "x",
          "y": "Distributor",
          "yref": "y"
         },
         {
          "font": {
           "color": "#000000"
          },
          "showarrow": false,
          "text": "0.68",
          "x": ">10000",
          "xref": "x",
          "y": "Distributor",
          "yref": "y"
         },
         {
          "font": {
           "color": "#000000"
          },
          "showarrow": false,
          "text": "0.79",
          "x": "0-29",
          "xref": "x",
          "y": "Wholesale",
          "yref": "y"
         },
         {
          "font": {
           "color": "#000000"
          },
          "showarrow": false,
          "text": "nan",
          "x": "30-59",
          "xref": "x",
          "y": "Wholesale",
          "yref": "y"
         },
         {
          "font": {
           "color": "#000000"
          },
          "showarrow": false,
          "text": "0.69",
          "x": "60-119",
          "xref": "x",
          "y": "Wholesale",
          "yref": "y"
         },
         {
          "font": {
           "color": "#000000"
          },
          "showarrow": false,
          "text": "0.67",
          "x": "120-239",
          "xref": "x",
          "y": "Wholesale",
          "yref": "y"
         },
         {
          "font": {
           "color": "#000000"
          },
          "showarrow": false,
          "text": "0.67",
          "x": "240-359",
          "xref": "x",
          "y": "Wholesale",
          "yref": "y"
         },
         {
          "font": {
           "color": "#000000"
          },
          "showarrow": false,
          "text": "0.69",
          "x": "360-479",
          "xref": "x",
          "y": "Wholesale",
          "yref": "y"
         },
         {
          "font": {
           "color": "#000000"
          },
          "showarrow": false,
          "text": "0.69",
          "x": "480-719",
          "xref": "x",
          "y": "Wholesale",
          "yref": "y"
         },
         {
          "font": {
           "color": "#000000"
          },
          "showarrow": false,
          "text": "0.69",
          "x": "720-1199",
          "xref": "x",
          "y": "Wholesale",
          "yref": "y"
         },
         {
          "font": {
           "color": "#000000"
          },
          "showarrow": false,
          "text": "0.69",
          "x": "1200-2399",
          "xref": "x",
          "y": "Wholesale",
          "yref": "y"
         },
         {
          "font": {
           "color": "#000000"
          },
          "showarrow": false,
          "text": "0.46",
          "x": "2400-4999",
          "xref": "x",
          "y": "Wholesale",
          "yref": "y"
         },
         {
          "font": {
           "color": "#000000"
          },
          "showarrow": false,
          "text": "nan",
          "x": "5000-9999",
          "xref": "x",
          "y": "Wholesale",
          "yref": "y"
         },
         {
          "font": {
           "color": "#000000"
          },
          "showarrow": false,
          "text": "0.7",
          "x": ">10000",
          "xref": "x",
          "y": "Wholesale",
          "yref": "y"
         }
        ],
        "template": {
         "data": {
          "bar": [
           {
            "error_x": {
             "color": "#2a3f5f"
            },
            "error_y": {
             "color": "#2a3f5f"
            },
            "marker": {
             "line": {
              "color": "#E5ECF6",
              "width": 0.5
             },
             "pattern": {
              "fillmode": "overlay",
              "size": 10,
              "solidity": 0.2
             }
            },
            "type": "bar"
           }
          ],
          "barpolar": [
           {
            "marker": {
             "line": {
              "color": "#E5ECF6",
              "width": 0.5
             },
             "pattern": {
              "fillmode": "overlay",
              "size": 10,
              "solidity": 0.2
             }
            },
            "type": "barpolar"
           }
          ],
          "carpet": [
           {
            "aaxis": {
             "endlinecolor": "#2a3f5f",
             "gridcolor": "white",
             "linecolor": "white",
             "minorgridcolor": "white",
             "startlinecolor": "#2a3f5f"
            },
            "baxis": {
             "endlinecolor": "#2a3f5f",
             "gridcolor": "white",
             "linecolor": "white",
             "minorgridcolor": "white",
             "startlinecolor": "#2a3f5f"
            },
            "type": "carpet"
           }
          ],
          "choropleth": [
           {
            "colorbar": {
             "outlinewidth": 0,
             "ticks": ""
            },
            "type": "choropleth"
           }
          ],
          "contour": [
           {
            "colorbar": {
             "outlinewidth": 0,
             "ticks": ""
            },
            "colorscale": [
             [
              0,
              "#0d0887"
             ],
             [
              0.1111111111111111,
              "#46039f"
             ],
             [
              0.2222222222222222,
              "#7201a8"
             ],
             [
              0.3333333333333333,
              "#9c179e"
             ],
             [
              0.4444444444444444,
              "#bd3786"
             ],
             [
              0.5555555555555556,
              "#d8576b"
             ],
             [
              0.6666666666666666,
              "#ed7953"
             ],
             [
              0.7777777777777778,
              "#fb9f3a"
             ],
             [
              0.8888888888888888,
              "#fdca26"
             ],
             [
              1,
              "#f0f921"
             ]
            ],
            "type": "contour"
           }
          ],
          "contourcarpet": [
           {
            "colorbar": {
             "outlinewidth": 0,
             "ticks": ""
            },
            "type": "contourcarpet"
           }
          ],
          "heatmap": [
           {
            "colorbar": {
             "outlinewidth": 0,
             "ticks": ""
            },
            "colorscale": [
             [
              0,
              "#0d0887"
             ],
             [
              0.1111111111111111,
              "#46039f"
             ],
             [
              0.2222222222222222,
              "#7201a8"
             ],
             [
              0.3333333333333333,
              "#9c179e"
             ],
             [
              0.4444444444444444,
              "#bd3786"
             ],
             [
              0.5555555555555556,
              "#d8576b"
             ],
             [
              0.6666666666666666,
              "#ed7953"
             ],
             [
              0.7777777777777778,
              "#fb9f3a"
             ],
             [
              0.8888888888888888,
              "#fdca26"
             ],
             [
              1,
              "#f0f921"
             ]
            ],
            "type": "heatmap"
           }
          ],
          "heatmapgl": [
           {
            "colorbar": {
             "outlinewidth": 0,
             "ticks": ""
            },
            "colorscale": [
             [
              0,
              "#0d0887"
             ],
             [
              0.1111111111111111,
              "#46039f"
             ],
             [
              0.2222222222222222,
              "#7201a8"
             ],
             [
              0.3333333333333333,
              "#9c179e"
             ],
             [
              0.4444444444444444,
              "#bd3786"
             ],
             [
              0.5555555555555556,
              "#d8576b"
             ],
             [
              0.6666666666666666,
              "#ed7953"
             ],
             [
              0.7777777777777778,
              "#fb9f3a"
             ],
             [
              0.8888888888888888,
              "#fdca26"
             ],
             [
              1,
              "#f0f921"
             ]
            ],
            "type": "heatmapgl"
           }
          ],
          "histogram": [
           {
            "marker": {
             "pattern": {
              "fillmode": "overlay",
              "size": 10,
              "solidity": 0.2
             }
            },
            "type": "histogram"
           }
          ],
          "histogram2d": [
           {
            "colorbar": {
             "outlinewidth": 0,
             "ticks": ""
            },
            "colorscale": [
             [
              0,
              "#0d0887"
             ],
             [
              0.1111111111111111,
              "#46039f"
             ],
             [
              0.2222222222222222,
              "#7201a8"
             ],
             [
              0.3333333333333333,
              "#9c179e"
             ],
             [
              0.4444444444444444,
              "#bd3786"
             ],
             [
              0.5555555555555556,
              "#d8576b"
             ],
             [
              0.6666666666666666,
              "#ed7953"
             ],
             [
              0.7777777777777778,
              "#fb9f3a"
             ],
             [
              0.8888888888888888,
              "#fdca26"
             ],
             [
              1,
              "#f0f921"
             ]
            ],
            "type": "histogram2d"
           }
          ],
          "histogram2dcontour": [
           {
            "colorbar": {
             "outlinewidth": 0,
             "ticks": ""
            },
            "colorscale": [
             [
              0,
              "#0d0887"
             ],
             [
              0.1111111111111111,
              "#46039f"
             ],
             [
              0.2222222222222222,
              "#7201a8"
             ],
             [
              0.3333333333333333,
              "#9c179e"
             ],
             [
              0.4444444444444444,
              "#bd3786"
             ],
             [
              0.5555555555555556,
              "#d8576b"
             ],
             [
              0.6666666666666666,
              "#ed7953"
             ],
             [
              0.7777777777777778,
              "#fb9f3a"
             ],
             [
              0.8888888888888888,
              "#fdca26"
             ],
             [
              1,
              "#f0f921"
             ]
            ],
            "type": "histogram2dcontour"
           }
          ],
          "mesh3d": [
           {
            "colorbar": {
             "outlinewidth": 0,
             "ticks": ""
            },
            "type": "mesh3d"
           }
          ],
          "parcoords": [
           {
            "line": {
             "colorbar": {
              "outlinewidth": 0,
              "ticks": ""
             }
            },
            "type": "parcoords"
           }
          ],
          "pie": [
           {
            "automargin": true,
            "type": "pie"
           }
          ],
          "scatter": [
           {
            "fillpattern": {
             "fillmode": "overlay",
             "size": 10,
             "solidity": 0.2
            },
            "type": "scatter"
           }
          ],
          "scatter3d": [
           {
            "line": {
             "colorbar": {
              "outlinewidth": 0,
              "ticks": ""
             }
            },
            "marker": {
             "colorbar": {
              "outlinewidth": 0,
              "ticks": ""
             }
            },
            "type": "scatter3d"
           }
          ],
          "scattercarpet": [
           {
            "marker": {
             "colorbar": {
              "outlinewidth": 0,
              "ticks": ""
             }
            },
            "type": "scattercarpet"
           }
          ],
          "scattergeo": [
           {
            "marker": {
             "colorbar": {
              "outlinewidth": 0,
              "ticks": ""
             }
            },
            "type": "scattergeo"
           }
          ],
          "scattergl": [
           {
            "marker": {
             "colorbar": {
              "outlinewidth": 0,
              "ticks": ""
             }
            },
            "type": "scattergl"
           }
          ],
          "scattermapbox": [
           {
            "marker": {
             "colorbar": {
              "outlinewidth": 0,
              "ticks": ""
             }
            },
            "type": "scattermapbox"
           }
          ],
          "scatterpolar": [
           {
            "marker": {
             "colorbar": {
              "outlinewidth": 0,
              "ticks": ""
             }
            },
            "type": "scatterpolar"
           }
          ],
          "scatterpolargl": [
           {
            "marker": {
             "colorbar": {
              "outlinewidth": 0,
              "ticks": ""
             }
            },
            "type": "scatterpolargl"
           }
          ],
          "scatterternary": [
           {
            "marker": {
             "colorbar": {
              "outlinewidth": 0,
              "ticks": ""
             }
            },
            "type": "scatterternary"
           }
          ],
          "surface": [
           {
            "colorbar": {
             "outlinewidth": 0,
             "ticks": ""
            },
            "colorscale": [
             [
              0,
              "#0d0887"
             ],
             [
              0.1111111111111111,
              "#46039f"
             ],
             [
              0.2222222222222222,
              "#7201a8"
             ],
             [
              0.3333333333333333,
              "#9c179e"
             ],
             [
              0.4444444444444444,
              "#bd3786"
             ],
             [
              0.5555555555555556,
              "#d8576b"
             ],
             [
              0.6666666666666666,
              "#ed7953"
             ],
             [
              0.7777777777777778,
              "#fb9f3a"
             ],
             [
              0.8888888888888888,
              "#fdca26"
             ],
             [
              1,
              "#f0f921"
             ]
            ],
            "type": "surface"
           }
          ],
          "table": [
           {
            "cells": {
             "fill": {
              "color": "#EBF0F8"
             },
             "line": {
              "color": "white"
             }
            },
            "header": {
             "fill": {
              "color": "#C8D4E3"
             },
             "line": {
              "color": "white"
             }
            },
            "type": "table"
           }
          ]
         },
         "layout": {
          "annotationdefaults": {
           "arrowcolor": "#2a3f5f",
           "arrowhead": 0,
           "arrowwidth": 1
          },
          "autotypenumbers": "strict",
          "coloraxis": {
           "colorbar": {
            "outlinewidth": 0,
            "ticks": ""
           }
          },
          "colorscale": {
           "diverging": [
            [
             0,
             "#8e0152"
            ],
            [
             0.1,
             "#c51b7d"
            ],
            [
             0.2,
             "#de77ae"
            ],
            [
             0.3,
             "#f1b6da"
            ],
            [
             0.4,
             "#fde0ef"
            ],
            [
             0.5,
             "#f7f7f7"
            ],
            [
             0.6,
             "#e6f5d0"
            ],
            [
             0.7,
             "#b8e186"
            ],
            [
             0.8,
             "#7fbc41"
            ],
            [
             0.9,
             "#4d9221"
            ],
            [
             1,
             "#276419"
            ]
           ],
           "sequential": [
            [
             0,
             "#0d0887"
            ],
            [
             0.1111111111111111,
             "#46039f"
            ],
            [
             0.2222222222222222,
             "#7201a8"
            ],
            [
             0.3333333333333333,
             "#9c179e"
            ],
            [
             0.4444444444444444,
             "#bd3786"
            ],
            [
             0.5555555555555556,
             "#d8576b"
            ],
            [
             0.6666666666666666,
             "#ed7953"
            ],
            [
             0.7777777777777778,
             "#fb9f3a"
            ],
            [
             0.8888888888888888,
             "#fdca26"
            ],
            [
             1,
             "#f0f921"
            ]
           ],
           "sequentialminus": [
            [
             0,
             "#0d0887"
            ],
            [
             0.1111111111111111,
             "#46039f"
            ],
            [
             0.2222222222222222,
             "#7201a8"
            ],
            [
             0.3333333333333333,
             "#9c179e"
            ],
            [
             0.4444444444444444,
             "#bd3786"
            ],
            [
             0.5555555555555556,
             "#d8576b"
            ],
            [
             0.6666666666666666,
             "#ed7953"
            ],
            [
             0.7777777777777778,
             "#fb9f3a"
            ],
            [
             0.8888888888888888,
             "#fdca26"
            ],
            [
             1,
             "#f0f921"
            ]
           ]
          },
          "colorway": [
           "#636efa",
           "#EF553B",
           "#00cc96",
           "#ab63fa",
           "#FFA15A",
           "#19d3f3",
           "#FF6692",
           "#B6E880",
           "#FF97FF",
           "#FECB52"
          ],
          "font": {
           "color": "#2a3f5f"
          },
          "geo": {
           "bgcolor": "white",
           "lakecolor": "white",
           "landcolor": "#E5ECF6",
           "showlakes": true,
           "showland": true,
           "subunitcolor": "white"
          },
          "hoverlabel": {
           "align": "left"
          },
          "hovermode": "closest",
          "mapbox": {
           "style": "light"
          },
          "paper_bgcolor": "white",
          "plot_bgcolor": "#E5ECF6",
          "polar": {
           "angularaxis": {
            "gridcolor": "white",
            "linecolor": "white",
            "ticks": ""
           },
           "bgcolor": "#E5ECF6",
           "radialaxis": {
            "gridcolor": "white",
            "linecolor": "white",
            "ticks": ""
           }
          },
          "scene": {
           "xaxis": {
            "backgroundcolor": "#E5ECF6",
            "gridcolor": "white",
            "gridwidth": 2,
            "linecolor": "white",
            "showbackground": true,
            "ticks": "",
            "zerolinecolor": "white"
           },
           "yaxis": {
            "backgroundcolor": "#E5ECF6",
            "gridcolor": "white",
            "gridwidth": 2,
            "linecolor": "white",
            "showbackground": true,
            "ticks": "",
            "zerolinecolor": "white"
           },
           "zaxis": {
            "backgroundcolor": "#E5ECF6",
            "gridcolor": "white",
            "gridwidth": 2,
            "linecolor": "white",
            "showbackground": true,
            "ticks": "",
            "zerolinecolor": "white"
           }
          },
          "shapedefaults": {
           "line": {
            "color": "#2a3f5f"
           }
          },
          "ternary": {
           "aaxis": {
            "gridcolor": "white",
            "linecolor": "white",
            "ticks": ""
           },
           "baxis": {
            "gridcolor": "white",
            "linecolor": "white",
            "ticks": ""
           },
           "bgcolor": "#E5ECF6",
           "caxis": {
            "gridcolor": "white",
            "linecolor": "white",
            "ticks": ""
           }
          },
          "title": {
           "x": 0.05
          },
          "xaxis": {
           "automargin": true,
           "gridcolor": "white",
           "linecolor": "white",
           "ticks": "",
           "title": {
            "standoff": 15
           },
           "zerolinecolor": "white",
           "zerolinewidth": 2
          },
          "yaxis": {
           "automargin": true,
           "gridcolor": "white",
           "linecolor": "white",
           "ticks": "",
           "title": {
            "standoff": 15
           },
           "zerolinecolor": "white",
           "zerolinewidth": 2
          }
         }
        },
        "title": {
         "text": "2022 Margins by Bin and Client Type"
        },
        "xaxis": {
         "dtick": 1,
         "gridcolor": "rgb(0, 0, 0)",
         "side": "top",
         "ticks": "",
         "title": {
          "text": "Quantity Bin"
         }
        },
        "yaxis": {
         "dtick": 1,
         "ticks": "",
         "ticksuffix": "  ",
         "title": {
          "text": "Client Type"
         }
        }
       }
      }
     },
     "metadata": {},
     "output_type": "display_data"
    },
    {
     "data": {
      "application/vnd.plotly.v1+json": {
       "config": {
        "plotlyServerURL": "https://plot.ly"
       },
       "data": [
        {
         "colorscale": [
          [
           0,
           "#0d0887"
          ],
          [
           0.1111111111111111,
           "#46039f"
          ],
          [
           0.2222222222222222,
           "#7201a8"
          ],
          [
           0.3333333333333333,
           "#9c179e"
          ],
          [
           0.4444444444444444,
           "#bd3786"
          ],
          [
           0.5555555555555556,
           "#d8576b"
          ],
          [
           0.6666666666666666,
           "#ed7953"
          ],
          [
           0.7777777777777778,
           "#fb9f3a"
          ],
          [
           0.8888888888888888,
           "#fdca26"
          ],
          [
           1,
           "#f0f921"
          ]
         ],
         "reversescale": false,
         "showscale": false,
         "type": "heatmap",
         "x": [
          "0-29",
          "30-59",
          "60-119",
          "120-239",
          "240-359",
          "360-479",
          "480-719",
          "720-1199",
          "1200-2399",
          "2400-4999",
          "5000-9999",
          ">10000"
         ],
         "y": [
          "Direct",
          "Distributor",
          "Wholesale"
         ],
         "z": [
          [
           0.7855167322265212,
           0.7643442864663892,
           0.7572037826550342,
           0.7671209546644147,
           0.7887171484066456,
           0.7943540977401773,
           0.7908949527301061,
           0.8093464014146331,
           0.7203109604352822,
           0.7937706228546731,
           0.7733598240261121,
           0.7786600784769655
          ],
          [
           0.6739846594758442,
           0.6563119937545976,
           0.6791347895930867,
           0.6856180792079352,
           0.6979434850824202,
           0.6716101143748882,
           0.6771791619342856,
           0.7066818531398019,
           0.6849224441809202,
           0.6932239651521934,
           0.6951694284005397,
           0.6931973470213352
          ],
          [
           0.7665245202558636,
           0.6851942863353659,
           0.6808198987233353,
           0.5252272527157048,
           0.7084480560750759,
           0.6729201555311126,
           0.7109930593633375,
           0.6972579002995067,
           0.7021822023612897,
           0.7091303628037104,
           0.6726198473282442,
           null
          ]
         ]
        }
       ],
       "layout": {
        "annotations": [
         {
          "font": {
           "color": "#000000"
          },
          "showarrow": false,
          "text": "0.79",
          "x": "0-29",
          "xref": "x",
          "y": "Direct",
          "yref": "y"
         },
         {
          "font": {
           "color": "#000000"
          },
          "showarrow": false,
          "text": "0.76",
          "x": "30-59",
          "xref": "x",
          "y": "Direct",
          "yref": "y"
         },
         {
          "font": {
           "color": "#000000"
          },
          "showarrow": false,
          "text": "0.76",
          "x": "60-119",
          "xref": "x",
          "y": "Direct",
          "yref": "y"
         },
         {
          "font": {
           "color": "#000000"
          },
          "showarrow": false,
          "text": "0.77",
          "x": "120-239",
          "xref": "x",
          "y": "Direct",
          "yref": "y"
         },
         {
          "font": {
           "color": "#000000"
          },
          "showarrow": false,
          "text": "0.79",
          "x": "240-359",
          "xref": "x",
          "y": "Direct",
          "yref": "y"
         },
         {
          "font": {
           "color": "#000000"
          },
          "showarrow": false,
          "text": "0.79",
          "x": "360-479",
          "xref": "x",
          "y": "Direct",
          "yref": "y"
         },
         {
          "font": {
           "color": "#000000"
          },
          "showarrow": false,
          "text": "0.79",
          "x": "480-719",
          "xref": "x",
          "y": "Direct",
          "yref": "y"
         },
         {
          "font": {
           "color": "#000000"
          },
          "showarrow": false,
          "text": "0.81",
          "x": "720-1199",
          "xref": "x",
          "y": "Direct",
          "yref": "y"
         },
         {
          "font": {
           "color": "#000000"
          },
          "showarrow": false,
          "text": "0.72",
          "x": "1200-2399",
          "xref": "x",
          "y": "Direct",
          "yref": "y"
         },
         {
          "font": {
           "color": "#000000"
          },
          "showarrow": false,
          "text": "0.79",
          "x": "2400-4999",
          "xref": "x",
          "y": "Direct",
          "yref": "y"
         },
         {
          "font": {
           "color": "#000000"
          },
          "showarrow": false,
          "text": "0.77",
          "x": "5000-9999",
          "xref": "x",
          "y": "Direct",
          "yref": "y"
         },
         {
          "font": {
           "color": "#000000"
          },
          "showarrow": false,
          "text": "0.78",
          "x": ">10000",
          "xref": "x",
          "y": "Direct",
          "yref": "y"
         },
         {
          "font": {
           "color": "#000000"
          },
          "showarrow": false,
          "text": "0.67",
          "x": "0-29",
          "xref": "x",
          "y": "Distributor",
          "yref": "y"
         },
         {
          "font": {
           "color": "#000000"
          },
          "showarrow": false,
          "text": "0.66",
          "x": "30-59",
          "xref": "x",
          "y": "Distributor",
          "yref": "y"
         },
         {
          "font": {
           "color": "#000000"
          },
          "showarrow": false,
          "text": "0.68",
          "x": "60-119",
          "xref": "x",
          "y": "Distributor",
          "yref": "y"
         },
         {
          "font": {
           "color": "#000000"
          },
          "showarrow": false,
          "text": "0.69",
          "x": "120-239",
          "xref": "x",
          "y": "Distributor",
          "yref": "y"
         },
         {
          "font": {
           "color": "#000000"
          },
          "showarrow": false,
          "text": "0.7",
          "x": "240-359",
          "xref": "x",
          "y": "Distributor",
          "yref": "y"
         },
         {
          "font": {
           "color": "#000000"
          },
          "showarrow": false,
          "text": "0.67",
          "x": "360-479",
          "xref": "x",
          "y": "Distributor",
          "yref": "y"
         },
         {
          "font": {
           "color": "#000000"
          },
          "showarrow": false,
          "text": "0.68",
          "x": "480-719",
          "xref": "x",
          "y": "Distributor",
          "yref": "y"
         },
         {
          "font": {
           "color": "#000000"
          },
          "showarrow": false,
          "text": "0.71",
          "x": "720-1199",
          "xref": "x",
          "y": "Distributor",
          "yref": "y"
         },
         {
          "font": {
           "color": "#000000"
          },
          "showarrow": false,
          "text": "0.68",
          "x": "1200-2399",
          "xref": "x",
          "y": "Distributor",
          "yref": "y"
         },
         {
          "font": {
           "color": "#000000"
          },
          "showarrow": false,
          "text": "0.69",
          "x": "2400-4999",
          "xref": "x",
          "y": "Distributor",
          "yref": "y"
         },
         {
          "font": {
           "color": "#000000"
          },
          "showarrow": false,
          "text": "0.7",
          "x": "5000-9999",
          "xref": "x",
          "y": "Distributor",
          "yref": "y"
         },
         {
          "font": {
           "color": "#000000"
          },
          "showarrow": false,
          "text": "0.69",
          "x": ">10000",
          "xref": "x",
          "y": "Distributor",
          "yref": "y"
         },
         {
          "font": {
           "color": "#000000"
          },
          "showarrow": false,
          "text": "0.77",
          "x": "0-29",
          "xref": "x",
          "y": "Wholesale",
          "yref": "y"
         },
         {
          "font": {
           "color": "#000000"
          },
          "showarrow": false,
          "text": "0.69",
          "x": "30-59",
          "xref": "x",
          "y": "Wholesale",
          "yref": "y"
         },
         {
          "font": {
           "color": "#000000"
          },
          "showarrow": false,
          "text": "0.68",
          "x": "60-119",
          "xref": "x",
          "y": "Wholesale",
          "yref": "y"
         },
         {
          "font": {
           "color": "#000000"
          },
          "showarrow": false,
          "text": "0.53",
          "x": "120-239",
          "xref": "x",
          "y": "Wholesale",
          "yref": "y"
         },
         {
          "font": {
           "color": "#000000"
          },
          "showarrow": false,
          "text": "0.71",
          "x": "240-359",
          "xref": "x",
          "y": "Wholesale",
          "yref": "y"
         },
         {
          "font": {
           "color": "#000000"
          },
          "showarrow": false,
          "text": "0.67",
          "x": "360-479",
          "xref": "x",
          "y": "Wholesale",
          "yref": "y"
         },
         {
          "font": {
           "color": "#000000"
          },
          "showarrow": false,
          "text": "0.71",
          "x": "480-719",
          "xref": "x",
          "y": "Wholesale",
          "yref": "y"
         },
         {
          "font": {
           "color": "#000000"
          },
          "showarrow": false,
          "text": "0.7",
          "x": "720-1199",
          "xref": "x",
          "y": "Wholesale",
          "yref": "y"
         },
         {
          "font": {
           "color": "#000000"
          },
          "showarrow": false,
          "text": "0.7",
          "x": "1200-2399",
          "xref": "x",
          "y": "Wholesale",
          "yref": "y"
         },
         {
          "font": {
           "color": "#000000"
          },
          "showarrow": false,
          "text": "0.71",
          "x": "2400-4999",
          "xref": "x",
          "y": "Wholesale",
          "yref": "y"
         },
         {
          "font": {
           "color": "#000000"
          },
          "showarrow": false,
          "text": "0.67",
          "x": "5000-9999",
          "xref": "x",
          "y": "Wholesale",
          "yref": "y"
         },
         {
          "font": {
           "color": "#000000"
          },
          "showarrow": false,
          "text": "nan",
          "x": ">10000",
          "xref": "x",
          "y": "Wholesale",
          "yref": "y"
         }
        ],
        "template": {
         "data": {
          "bar": [
           {
            "error_x": {
             "color": "#2a3f5f"
            },
            "error_y": {
             "color": "#2a3f5f"
            },
            "marker": {
             "line": {
              "color": "#E5ECF6",
              "width": 0.5
             },
             "pattern": {
              "fillmode": "overlay",
              "size": 10,
              "solidity": 0.2
             }
            },
            "type": "bar"
           }
          ],
          "barpolar": [
           {
            "marker": {
             "line": {
              "color": "#E5ECF6",
              "width": 0.5
             },
             "pattern": {
              "fillmode": "overlay",
              "size": 10,
              "solidity": 0.2
             }
            },
            "type": "barpolar"
           }
          ],
          "carpet": [
           {
            "aaxis": {
             "endlinecolor": "#2a3f5f",
             "gridcolor": "white",
             "linecolor": "white",
             "minorgridcolor": "white",
             "startlinecolor": "#2a3f5f"
            },
            "baxis": {
             "endlinecolor": "#2a3f5f",
             "gridcolor": "white",
             "linecolor": "white",
             "minorgridcolor": "white",
             "startlinecolor": "#2a3f5f"
            },
            "type": "carpet"
           }
          ],
          "choropleth": [
           {
            "colorbar": {
             "outlinewidth": 0,
             "ticks": ""
            },
            "type": "choropleth"
           }
          ],
          "contour": [
           {
            "colorbar": {
             "outlinewidth": 0,
             "ticks": ""
            },
            "colorscale": [
             [
              0,
              "#0d0887"
             ],
             [
              0.1111111111111111,
              "#46039f"
             ],
             [
              0.2222222222222222,
              "#7201a8"
             ],
             [
              0.3333333333333333,
              "#9c179e"
             ],
             [
              0.4444444444444444,
              "#bd3786"
             ],
             [
              0.5555555555555556,
              "#d8576b"
             ],
             [
              0.6666666666666666,
              "#ed7953"
             ],
             [
              0.7777777777777778,
              "#fb9f3a"
             ],
             [
              0.8888888888888888,
              "#fdca26"
             ],
             [
              1,
              "#f0f921"
             ]
            ],
            "type": "contour"
           }
          ],
          "contourcarpet": [
           {
            "colorbar": {
             "outlinewidth": 0,
             "ticks": ""
            },
            "type": "contourcarpet"
           }
          ],
          "heatmap": [
           {
            "colorbar": {
             "outlinewidth": 0,
             "ticks": ""
            },
            "colorscale": [
             [
              0,
              "#0d0887"
             ],
             [
              0.1111111111111111,
              "#46039f"
             ],
             [
              0.2222222222222222,
              "#7201a8"
             ],
             [
              0.3333333333333333,
              "#9c179e"
             ],
             [
              0.4444444444444444,
              "#bd3786"
             ],
             [
              0.5555555555555556,
              "#d8576b"
             ],
             [
              0.6666666666666666,
              "#ed7953"
             ],
             [
              0.7777777777777778,
              "#fb9f3a"
             ],
             [
              0.8888888888888888,
              "#fdca26"
             ],
             [
              1,
              "#f0f921"
             ]
            ],
            "type": "heatmap"
           }
          ],
          "heatmapgl": [
           {
            "colorbar": {
             "outlinewidth": 0,
             "ticks": ""
            },
            "colorscale": [
             [
              0,
              "#0d0887"
             ],
             [
              0.1111111111111111,
              "#46039f"
             ],
             [
              0.2222222222222222,
              "#7201a8"
             ],
             [
              0.3333333333333333,
              "#9c179e"
             ],
             [
              0.4444444444444444,
              "#bd3786"
             ],
             [
              0.5555555555555556,
              "#d8576b"
             ],
             [
              0.6666666666666666,
              "#ed7953"
             ],
             [
              0.7777777777777778,
              "#fb9f3a"
             ],
             [
              0.8888888888888888,
              "#fdca26"
             ],
             [
              1,
              "#f0f921"
             ]
            ],
            "type": "heatmapgl"
           }
          ],
          "histogram": [
           {
            "marker": {
             "pattern": {
              "fillmode": "overlay",
              "size": 10,
              "solidity": 0.2
             }
            },
            "type": "histogram"
           }
          ],
          "histogram2d": [
           {
            "colorbar": {
             "outlinewidth": 0,
             "ticks": ""
            },
            "colorscale": [
             [
              0,
              "#0d0887"
             ],
             [
              0.1111111111111111,
              "#46039f"
             ],
             [
              0.2222222222222222,
              "#7201a8"
             ],
             [
              0.3333333333333333,
              "#9c179e"
             ],
             [
              0.4444444444444444,
              "#bd3786"
             ],
             [
              0.5555555555555556,
              "#d8576b"
             ],
             [
              0.6666666666666666,
              "#ed7953"
             ],
             [
              0.7777777777777778,
              "#fb9f3a"
             ],
             [
              0.8888888888888888,
              "#fdca26"
             ],
             [
              1,
              "#f0f921"
             ]
            ],
            "type": "histogram2d"
           }
          ],
          "histogram2dcontour": [
           {
            "colorbar": {
             "outlinewidth": 0,
             "ticks": ""
            },
            "colorscale": [
             [
              0,
              "#0d0887"
             ],
             [
              0.1111111111111111,
              "#46039f"
             ],
             [
              0.2222222222222222,
              "#7201a8"
             ],
             [
              0.3333333333333333,
              "#9c179e"
             ],
             [
              0.4444444444444444,
              "#bd3786"
             ],
             [
              0.5555555555555556,
              "#d8576b"
             ],
             [
              0.6666666666666666,
              "#ed7953"
             ],
             [
              0.7777777777777778,
              "#fb9f3a"
             ],
             [
              0.8888888888888888,
              "#fdca26"
             ],
             [
              1,
              "#f0f921"
             ]
            ],
            "type": "histogram2dcontour"
           }
          ],
          "mesh3d": [
           {
            "colorbar": {
             "outlinewidth": 0,
             "ticks": ""
            },
            "type": "mesh3d"
           }
          ],
          "parcoords": [
           {
            "line": {
             "colorbar": {
              "outlinewidth": 0,
              "ticks": ""
             }
            },
            "type": "parcoords"
           }
          ],
          "pie": [
           {
            "automargin": true,
            "type": "pie"
           }
          ],
          "scatter": [
           {
            "fillpattern": {
             "fillmode": "overlay",
             "size": 10,
             "solidity": 0.2
            },
            "type": "scatter"
           }
          ],
          "scatter3d": [
           {
            "line": {
             "colorbar": {
              "outlinewidth": 0,
              "ticks": ""
             }
            },
            "marker": {
             "colorbar": {
              "outlinewidth": 0,
              "ticks": ""
             }
            },
            "type": "scatter3d"
           }
          ],
          "scattercarpet": [
           {
            "marker": {
             "colorbar": {
              "outlinewidth": 0,
              "ticks": ""
             }
            },
            "type": "scattercarpet"
           }
          ],
          "scattergeo": [
           {
            "marker": {
             "colorbar": {
              "outlinewidth": 0,
              "ticks": ""
             }
            },
            "type": "scattergeo"
           }
          ],
          "scattergl": [
           {
            "marker": {
             "colorbar": {
              "outlinewidth": 0,
              "ticks": ""
             }
            },
            "type": "scattergl"
           }
          ],
          "scattermapbox": [
           {
            "marker": {
             "colorbar": {
              "outlinewidth": 0,
              "ticks": ""
             }
            },
            "type": "scattermapbox"
           }
          ],
          "scatterpolar": [
           {
            "marker": {
             "colorbar": {
              "outlinewidth": 0,
              "ticks": ""
             }
            },
            "type": "scatterpolar"
           }
          ],
          "scatterpolargl": [
           {
            "marker": {
             "colorbar": {
              "outlinewidth": 0,
              "ticks": ""
             }
            },
            "type": "scatterpolargl"
           }
          ],
          "scatterternary": [
           {
            "marker": {
             "colorbar": {
              "outlinewidth": 0,
              "ticks": ""
             }
            },
            "type": "scatterternary"
           }
          ],
          "surface": [
           {
            "colorbar": {
             "outlinewidth": 0,
             "ticks": ""
            },
            "colorscale": [
             [
              0,
              "#0d0887"
             ],
             [
              0.1111111111111111,
              "#46039f"
             ],
             [
              0.2222222222222222,
              "#7201a8"
             ],
             [
              0.3333333333333333,
              "#9c179e"
             ],
             [
              0.4444444444444444,
              "#bd3786"
             ],
             [
              0.5555555555555556,
              "#d8576b"
             ],
             [
              0.6666666666666666,
              "#ed7953"
             ],
             [
              0.7777777777777778,
              "#fb9f3a"
             ],
             [
              0.8888888888888888,
              "#fdca26"
             ],
             [
              1,
              "#f0f921"
             ]
            ],
            "type": "surface"
           }
          ],
          "table": [
           {
            "cells": {
             "fill": {
              "color": "#EBF0F8"
             },
             "line": {
              "color": "white"
             }
            },
            "header": {
             "fill": {
              "color": "#C8D4E3"
             },
             "line": {
              "color": "white"
             }
            },
            "type": "table"
           }
          ]
         },
         "layout": {
          "annotationdefaults": {
           "arrowcolor": "#2a3f5f",
           "arrowhead": 0,
           "arrowwidth": 1
          },
          "autotypenumbers": "strict",
          "coloraxis": {
           "colorbar": {
            "outlinewidth": 0,
            "ticks": ""
           }
          },
          "colorscale": {
           "diverging": [
            [
             0,
             "#8e0152"
            ],
            [
             0.1,
             "#c51b7d"
            ],
            [
             0.2,
             "#de77ae"
            ],
            [
             0.3,
             "#f1b6da"
            ],
            [
             0.4,
             "#fde0ef"
            ],
            [
             0.5,
             "#f7f7f7"
            ],
            [
             0.6,
             "#e6f5d0"
            ],
            [
             0.7,
             "#b8e186"
            ],
            [
             0.8,
             "#7fbc41"
            ],
            [
             0.9,
             "#4d9221"
            ],
            [
             1,
             "#276419"
            ]
           ],
           "sequential": [
            [
             0,
             "#0d0887"
            ],
            [
             0.1111111111111111,
             "#46039f"
            ],
            [
             0.2222222222222222,
             "#7201a8"
            ],
            [
             0.3333333333333333,
             "#9c179e"
            ],
            [
             0.4444444444444444,
             "#bd3786"
            ],
            [
             0.5555555555555556,
             "#d8576b"
            ],
            [
             0.6666666666666666,
             "#ed7953"
            ],
            [
             0.7777777777777778,
             "#fb9f3a"
            ],
            [
             0.8888888888888888,
             "#fdca26"
            ],
            [
             1,
             "#f0f921"
            ]
           ],
           "sequentialminus": [
            [
             0,
             "#0d0887"
            ],
            [
             0.1111111111111111,
             "#46039f"
            ],
            [
             0.2222222222222222,
             "#7201a8"
            ],
            [
             0.3333333333333333,
             "#9c179e"
            ],
            [
             0.4444444444444444,
             "#bd3786"
            ],
            [
             0.5555555555555556,
             "#d8576b"
            ],
            [
             0.6666666666666666,
             "#ed7953"
            ],
            [
             0.7777777777777778,
             "#fb9f3a"
            ],
            [
             0.8888888888888888,
             "#fdca26"
            ],
            [
             1,
             "#f0f921"
            ]
           ]
          },
          "colorway": [
           "#636efa",
           "#EF553B",
           "#00cc96",
           "#ab63fa",
           "#FFA15A",
           "#19d3f3",
           "#FF6692",
           "#B6E880",
           "#FF97FF",
           "#FECB52"
          ],
          "font": {
           "color": "#2a3f5f"
          },
          "geo": {
           "bgcolor": "white",
           "lakecolor": "white",
           "landcolor": "#E5ECF6",
           "showlakes": true,
           "showland": true,
           "subunitcolor": "white"
          },
          "hoverlabel": {
           "align": "left"
          },
          "hovermode": "closest",
          "mapbox": {
           "style": "light"
          },
          "paper_bgcolor": "white",
          "plot_bgcolor": "#E5ECF6",
          "polar": {
           "angularaxis": {
            "gridcolor": "white",
            "linecolor": "white",
            "ticks": ""
           },
           "bgcolor": "#E5ECF6",
           "radialaxis": {
            "gridcolor": "white",
            "linecolor": "white",
            "ticks": ""
           }
          },
          "scene": {
           "xaxis": {
            "backgroundcolor": "#E5ECF6",
            "gridcolor": "white",
            "gridwidth": 2,
            "linecolor": "white",
            "showbackground": true,
            "ticks": "",
            "zerolinecolor": "white"
           },
           "yaxis": {
            "backgroundcolor": "#E5ECF6",
            "gridcolor": "white",
            "gridwidth": 2,
            "linecolor": "white",
            "showbackground": true,
            "ticks": "",
            "zerolinecolor": "white"
           },
           "zaxis": {
            "backgroundcolor": "#E5ECF6",
            "gridcolor": "white",
            "gridwidth": 2,
            "linecolor": "white",
            "showbackground": true,
            "ticks": "",
            "zerolinecolor": "white"
           }
          },
          "shapedefaults": {
           "line": {
            "color": "#2a3f5f"
           }
          },
          "ternary": {
           "aaxis": {
            "gridcolor": "white",
            "linecolor": "white",
            "ticks": ""
           },
           "baxis": {
            "gridcolor": "white",
            "linecolor": "white",
            "ticks": ""
           },
           "bgcolor": "#E5ECF6",
           "caxis": {
            "gridcolor": "white",
            "linecolor": "white",
            "ticks": ""
           }
          },
          "title": {
           "x": 0.05
          },
          "xaxis": {
           "automargin": true,
           "gridcolor": "white",
           "linecolor": "white",
           "ticks": "",
           "title": {
            "standoff": 15
           },
           "zerolinecolor": "white",
           "zerolinewidth": 2
          },
          "yaxis": {
           "automargin": true,
           "gridcolor": "white",
           "linecolor": "white",
           "ticks": "",
           "title": {
            "standoff": 15
           },
           "zerolinecolor": "white",
           "zerolinewidth": 2
          }
         }
        },
        "title": {
         "text": "2023 Margins by Bin and Client Type"
        },
        "xaxis": {
         "dtick": 1,
         "gridcolor": "rgb(0, 0, 0)",
         "side": "top",
         "ticks": "",
         "title": {
          "text": "Quantity Bin"
         }
        },
        "yaxis": {
         "dtick": 1,
         "ticks": "",
         "ticksuffix": "  ",
         "title": {
          "text": "Client Type"
         }
        }
       }
      }
     },
     "metadata": {},
     "output_type": "display_data"
    }
   ],
   "source": [
    "import plotly.figure_factory as ff\n",
    "\n",
    "# Visualization for 2022\n",
    "fig_2022 = ff.create_annotated_heatmap(z=margin_by_bin_and_client_2022.values, \n",
    "                                       x=margin_by_bin_and_client_2022.columns.tolist(), \n",
    "                                       y=margin_by_bin_and_client_2022.index.tolist(), \n",
    "                                       annotation_text=margin_by_bin_and_client_2022.round(2).values)\n",
    "fig_2022.update_layout(title='2022 Margins by Bin and Client Type', xaxis=dict(title='Quantity Bin'), yaxis=dict(title='Client Type'))\n",
    "fig_2022.show()\n",
    "\n",
    "# Visualization for 2023\n",
    "fig_2023 = ff.create_annotated_heatmap(z=margin_by_bin_and_client_2023.values, \n",
    "                                       x=margin_by_bin_and_client_2023.columns.tolist(), \n",
    "                                       y=margin_by_bin_and_client_2023.index.tolist(), \n",
    "                                       annotation_text=margin_by_bin_and_client_2023.round(2).values)\n",
    "fig_2023.update_layout(title='2023 Margins by Bin and Client Type', xaxis=dict(title='Quantity Bin'), yaxis=dict(title='Client Type'))\n",
    "fig_2023.show()\n"
   ]
  }
 ],
 "metadata": {
  "kernelspec": {
   "display_name": "Python 3",
   "language": "python",
   "name": "python3"
  },
  "language_info": {
   "codemirror_mode": {
    "name": "ipython",
    "version": 3
   },
   "file_extension": ".py",
   "mimetype": "text/x-python",
   "name": "python",
   "nbconvert_exporter": "python",
   "pygments_lexer": "ipython3",
   "version": "3.12.1"
  }
 },
 "nbformat": 4,
 "nbformat_minor": 2
}
